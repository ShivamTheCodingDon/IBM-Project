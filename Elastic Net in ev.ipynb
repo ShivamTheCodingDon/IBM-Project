{
 "cells": [
  {
   "cell_type": "code",
   "execution_count": 77,
   "id": "c2e84987",
   "metadata": {},
   "outputs": [],
   "source": [
    "import warnings\n",
    "from sklearn.exceptions import DataConversionWarning\n",
    "import numpy as np\n",
    "import pandas as pd\n",
    "from sklearn.linear_model import ElasticNet\n",
    "from sklearn.model_selection import train_test_split\n",
    "from sklearn.metrics import mean_squared_error\n",
    "from sklearn.metrics import r2_score\n",
    "from sklearn.model_selection import GridSearchCV"
   ]
  },
  {
   "cell_type": "markdown",
   "id": "c14acca3",
   "metadata": {},
   "source": [
    "# Motor Speed Prediction"
   ]
  },
  {
   "cell_type": "code",
   "execution_count": 3,
   "id": "7defda84",
   "metadata": {},
   "outputs": [
    {
     "data": {
      "text/html": [
       "<div>\n",
       "<style scoped>\n",
       "    .dataframe tbody tr th:only-of-type {\n",
       "        vertical-align: middle;\n",
       "    }\n",
       "\n",
       "    .dataframe tbody tr th {\n",
       "        vertical-align: top;\n",
       "    }\n",
       "\n",
       "    .dataframe thead th {\n",
       "        text-align: right;\n",
       "    }\n",
       "</style>\n",
       "<table border=\"1\" class=\"dataframe\">\n",
       "  <thead>\n",
       "    <tr style=\"text-align: right;\">\n",
       "      <th></th>\n",
       "      <th>u_q</th>\n",
       "      <th>coolant</th>\n",
       "      <th>stator_winding</th>\n",
       "      <th>u_d</th>\n",
       "      <th>stator_tooth</th>\n",
       "      <th>motor_speed</th>\n",
       "      <th>i_d</th>\n",
       "      <th>i_q</th>\n",
       "      <th>pm</th>\n",
       "      <th>stator_yoke</th>\n",
       "      <th>ambient</th>\n",
       "      <th>torque</th>\n",
       "    </tr>\n",
       "  </thead>\n",
       "  <tbody>\n",
       "    <tr>\n",
       "      <th>703268</th>\n",
       "      <td>29.043198</td>\n",
       "      <td>26.961181</td>\n",
       "      <td>39.452273</td>\n",
       "      <td>31.580164</td>\n",
       "      <td>33.725908</td>\n",
       "      <td>805.952474</td>\n",
       "      <td>-37.689748</td>\n",
       "      <td>-127.353674</td>\n",
       "      <td>28.491988</td>\n",
       "      <td>29.820343</td>\n",
       "      <td>23.748370</td>\n",
       "      <td>-9.702535e+01</td>\n",
       "    </tr>\n",
       "    <tr>\n",
       "      <th>684061</th>\n",
       "      <td>24.616344</td>\n",
       "      <td>34.503495</td>\n",
       "      <td>113.462667</td>\n",
       "      <td>-29.851046</td>\n",
       "      <td>88.994534</td>\n",
       "      <td>565.609931</td>\n",
       "      <td>-58.840669</td>\n",
       "      <td>160.594580</td>\n",
       "      <td>73.063836</td>\n",
       "      <td>68.925152</td>\n",
       "      <td>27.369409</td>\n",
       "      <td>1.241457e+02</td>\n",
       "    </tr>\n",
       "    <tr>\n",
       "      <th>388316</th>\n",
       "      <td>92.799393</td>\n",
       "      <td>18.498108</td>\n",
       "      <td>51.859562</td>\n",
       "      <td>-93.020271</td>\n",
       "      <td>42.788071</td>\n",
       "      <td>3499.964844</td>\n",
       "      <td>-104.646721</td>\n",
       "      <td>77.281052</td>\n",
       "      <td>43.695221</td>\n",
       "      <td>33.365105</td>\n",
       "      <td>23.172733</td>\n",
       "      <td>6.687183e+01</td>\n",
       "    </tr>\n",
       "    <tr>\n",
       "      <th>627142</th>\n",
       "      <td>39.176190</td>\n",
       "      <td>50.306818</td>\n",
       "      <td>75.525725</td>\n",
       "      <td>3.397964</td>\n",
       "      <td>64.989877</td>\n",
       "      <td>854.760946</td>\n",
       "      <td>-4.975654</td>\n",
       "      <td>-12.874190</td>\n",
       "      <td>65.088158</td>\n",
       "      <td>55.875947</td>\n",
       "      <td>25.992552</td>\n",
       "      <td>-1.019968e+01</td>\n",
       "    </tr>\n",
       "    <tr>\n",
       "      <th>602487</th>\n",
       "      <td>-2.184130</td>\n",
       "      <td>44.495427</td>\n",
       "      <td>82.865841</td>\n",
       "      <td>1.236985</td>\n",
       "      <td>72.342273</td>\n",
       "      <td>0.000592</td>\n",
       "      <td>-2.000009</td>\n",
       "      <td>1.096823</td>\n",
       "      <td>75.151473</td>\n",
       "      <td>62.769101</td>\n",
       "      <td>26.159584</td>\n",
       "      <td>-1.799775e-12</td>\n",
       "    </tr>\n",
       "  </tbody>\n",
       "</table>\n",
       "</div>"
      ],
      "text/plain": [
       "              u_q    coolant  stator_winding        u_d  stator_tooth  \\\n",
       "703268  29.043198  26.961181       39.452273  31.580164     33.725908   \n",
       "684061  24.616344  34.503495      113.462667 -29.851046     88.994534   \n",
       "388316  92.799393  18.498108       51.859562 -93.020271     42.788071   \n",
       "627142  39.176190  50.306818       75.525725   3.397964     64.989877   \n",
       "602487  -2.184130  44.495427       82.865841   1.236985     72.342273   \n",
       "\n",
       "        motor_speed         i_d         i_q         pm  stator_yoke  \\\n",
       "703268   805.952474  -37.689748 -127.353674  28.491988    29.820343   \n",
       "684061   565.609931  -58.840669  160.594580  73.063836    68.925152   \n",
       "388316  3499.964844 -104.646721   77.281052  43.695221    33.365105   \n",
       "627142   854.760946   -4.975654  -12.874190  65.088158    55.875947   \n",
       "602487     0.000592   -2.000009    1.096823  75.151473    62.769101   \n",
       "\n",
       "          ambient        torque  \n",
       "703268  23.748370 -9.702535e+01  \n",
       "684061  27.369409  1.241457e+02  \n",
       "388316  23.172733  6.687183e+01  \n",
       "627142  25.992552 -1.019968e+01  \n",
       "602487  26.159584 -1.799775e-12  "
      ]
     },
     "execution_count": 3,
     "metadata": {},
     "output_type": "execute_result"
    }
   ],
   "source": [
    "df = pd.read_csv(\"outlier_removed_org.csv\")\n",
    "df.sample(5)"
   ]
  },
  {
   "cell_type": "code",
   "execution_count": 4,
   "id": "da19510b",
   "metadata": {},
   "outputs": [],
   "source": [
    "X = df.drop(columns=['motor_speed'])\n",
    "y = df[['motor_speed']]"
   ]
  },
  {
   "cell_type": "code",
   "execution_count": 5,
   "id": "430d0d7a",
   "metadata": {},
   "outputs": [],
   "source": [
    "# Split the data into training and testing sets\n",
    "X_train, X_test, y_train, y_test = train_test_split(X, y, test_size=0.2, random_state=42)"
   ]
  },
  {
   "cell_type": "code",
   "execution_count": 69,
   "id": "c217f8a3",
   "metadata": {},
   "outputs": [],
   "source": [
    "# Define the Elastic Net model\n",
    "alpha = 0.001  # Regularization strength (L1 + L2 penalty)\n",
    "l1_ratio = 0.5  # Mixing parameter (0.0 for L2 penalty, 1.0 for L1 penalty)\n",
    "elastic_net = ElasticNet(alpha=alpha, l1_ratio=l1_ratio)"
   ]
  },
  {
   "cell_type": "code",
   "execution_count": 70,
   "id": "d803f132",
   "metadata": {},
   "outputs": [
    {
     "name": "stderr",
     "output_type": "stream",
     "text": [
      "D:\\Jupyter ipynb\\python\\Lib\\site-packages\\sklearn\\linear_model\\_coordinate_descent.py:628: ConvergenceWarning: Objective did not converge. You might want to increase the number of iterations, check the scale of the features or consider increasing regularisation. Duality gap: 1.899e+10, tolerance: 2.368e+08\n",
      "  model = cd_fast.enet_coordinate_descent(\n"
     ]
    },
    {
     "data": {
      "text/html": [
       "<style>#sk-container-id-11 {color: black;}#sk-container-id-11 pre{padding: 0;}#sk-container-id-11 div.sk-toggleable {background-color: white;}#sk-container-id-11 label.sk-toggleable__label {cursor: pointer;display: block;width: 100%;margin-bottom: 0;padding: 0.3em;box-sizing: border-box;text-align: center;}#sk-container-id-11 label.sk-toggleable__label-arrow:before {content: \"▸\";float: left;margin-right: 0.25em;color: #696969;}#sk-container-id-11 label.sk-toggleable__label-arrow:hover:before {color: black;}#sk-container-id-11 div.sk-estimator:hover label.sk-toggleable__label-arrow:before {color: black;}#sk-container-id-11 div.sk-toggleable__content {max-height: 0;max-width: 0;overflow: hidden;text-align: left;background-color: #f0f8ff;}#sk-container-id-11 div.sk-toggleable__content pre {margin: 0.2em;color: black;border-radius: 0.25em;background-color: #f0f8ff;}#sk-container-id-11 input.sk-toggleable__control:checked~div.sk-toggleable__content {max-height: 200px;max-width: 100%;overflow: auto;}#sk-container-id-11 input.sk-toggleable__control:checked~label.sk-toggleable__label-arrow:before {content: \"▾\";}#sk-container-id-11 div.sk-estimator input.sk-toggleable__control:checked~label.sk-toggleable__label {background-color: #d4ebff;}#sk-container-id-11 div.sk-label input.sk-toggleable__control:checked~label.sk-toggleable__label {background-color: #d4ebff;}#sk-container-id-11 input.sk-hidden--visually {border: 0;clip: rect(1px 1px 1px 1px);clip: rect(1px, 1px, 1px, 1px);height: 1px;margin: -1px;overflow: hidden;padding: 0;position: absolute;width: 1px;}#sk-container-id-11 div.sk-estimator {font-family: monospace;background-color: #f0f8ff;border: 1px dotted black;border-radius: 0.25em;box-sizing: border-box;margin-bottom: 0.5em;}#sk-container-id-11 div.sk-estimator:hover {background-color: #d4ebff;}#sk-container-id-11 div.sk-parallel-item::after {content: \"\";width: 100%;border-bottom: 1px solid gray;flex-grow: 1;}#sk-container-id-11 div.sk-label:hover label.sk-toggleable__label {background-color: #d4ebff;}#sk-container-id-11 div.sk-serial::before {content: \"\";position: absolute;border-left: 1px solid gray;box-sizing: border-box;top: 0;bottom: 0;left: 50%;z-index: 0;}#sk-container-id-11 div.sk-serial {display: flex;flex-direction: column;align-items: center;background-color: white;padding-right: 0.2em;padding-left: 0.2em;position: relative;}#sk-container-id-11 div.sk-item {position: relative;z-index: 1;}#sk-container-id-11 div.sk-parallel {display: flex;align-items: stretch;justify-content: center;background-color: white;position: relative;}#sk-container-id-11 div.sk-item::before, #sk-container-id-11 div.sk-parallel-item::before {content: \"\";position: absolute;border-left: 1px solid gray;box-sizing: border-box;top: 0;bottom: 0;left: 50%;z-index: -1;}#sk-container-id-11 div.sk-parallel-item {display: flex;flex-direction: column;z-index: 1;position: relative;background-color: white;}#sk-container-id-11 div.sk-parallel-item:first-child::after {align-self: flex-end;width: 50%;}#sk-container-id-11 div.sk-parallel-item:last-child::after {align-self: flex-start;width: 50%;}#sk-container-id-11 div.sk-parallel-item:only-child::after {width: 0;}#sk-container-id-11 div.sk-dashed-wrapped {border: 1px dashed gray;margin: 0 0.4em 0.5em 0.4em;box-sizing: border-box;padding-bottom: 0.4em;background-color: white;}#sk-container-id-11 div.sk-label label {font-family: monospace;font-weight: bold;display: inline-block;line-height: 1.2em;}#sk-container-id-11 div.sk-label-container {text-align: center;}#sk-container-id-11 div.sk-container {/* jupyter's `normalize.less` sets `[hidden] { display: none; }` but bootstrap.min.css set `[hidden] { display: none !important; }` so we also need the `!important` here to be able to override the default hidden behavior on the sphinx rendered scikit-learn.org. See: https://github.com/scikit-learn/scikit-learn/issues/21755 */display: inline-block !important;position: relative;}#sk-container-id-11 div.sk-text-repr-fallback {display: none;}</style><div id=\"sk-container-id-11\" class=\"sk-top-container\"><div class=\"sk-text-repr-fallback\"><pre>ElasticNet(alpha=0.001)</pre><b>In a Jupyter environment, please rerun this cell to show the HTML representation or trust the notebook. <br />On GitHub, the HTML representation is unable to render, please try loading this page with nbviewer.org.</b></div><div class=\"sk-container\" hidden><div class=\"sk-item\"><div class=\"sk-estimator sk-toggleable\"><input class=\"sk-toggleable__control sk-hidden--visually\" id=\"sk-estimator-id-11\" type=\"checkbox\" checked><label for=\"sk-estimator-id-11\" class=\"sk-toggleable__label sk-toggleable__label-arrow\">ElasticNet</label><div class=\"sk-toggleable__content\"><pre>ElasticNet(alpha=0.001)</pre></div></div></div></div></div>"
      ],
      "text/plain": [
       "ElasticNet(alpha=0.001)"
      ]
     },
     "execution_count": 70,
     "metadata": {},
     "output_type": "execute_result"
    }
   ],
   "source": [
    "# Fit the model to the training data\n",
    "elastic_net.fit(X_train, y_train)"
   ]
  },
  {
   "cell_type": "code",
   "execution_count": 71,
   "id": "ec46e987",
   "metadata": {},
   "outputs": [],
   "source": [
    "# Make predictions on the test data\n",
    "y_pred = elastic_net.predict(X_test)"
   ]
  },
  {
   "cell_type": "code",
   "execution_count": 72,
   "id": "faed74a0",
   "metadata": {},
   "outputs": [
    {
     "name": "stdout",
     "output_type": "stream",
     "text": [
      "Mean Squared Error: 50200.96331290562\n"
     ]
    }
   ],
   "source": [
    "mse = mean_squared_error(y_test, y_pred)\n",
    "print(f\"Mean Squared Error: {mse}\")"
   ]
  },
  {
   "cell_type": "code",
   "execution_count": 73,
   "id": "03f9846f",
   "metadata": {},
   "outputs": [
    {
     "name": "stdout",
     "output_type": "stream",
     "text": [
      "Coefficients: [ 19.45372208  10.07776209  -6.42230416  -5.92455137  24.4828314\n",
      " -23.70315152  30.09286475   4.70245451 -32.04850425 -15.98782694\n",
      " -48.51064906]\n",
      "Intercept: [215.73655472]\n"
     ]
    }
   ],
   "source": [
    "# You can also access the model's coefficients to see the feature importances\n",
    "coefficients = elastic_net.coef_\n",
    "intercept = elastic_net.intercept_\n",
    "print(\"Coefficients:\", coefficients)\n",
    "print(\"Intercept:\", intercept)"
   ]
  },
  {
   "cell_type": "code",
   "execution_count": 74,
   "id": "5c0168df",
   "metadata": {},
   "outputs": [
    {
     "name": "stdout",
     "output_type": "stream",
     "text": [
      "R-squared Accuracy: 0.9842966824322168\n"
     ]
    }
   ],
   "source": [
    "# Calculate the R-squared (R2) accuracy\n",
    "r2_accuracy = r2_score(y_test, y_pred)\n",
    "print(f\"R-squared Accuracy: {r2_accuracy}\")"
   ]
  },
  {
   "cell_type": "code",
   "execution_count": 78,
   "id": "da6c8e69",
   "metadata": {
    "collapsed": true
   },
   "outputs": [
    {
     "name": "stderr",
     "output_type": "stream",
     "text": [
      "D:\\Jupyter ipynb\\python\\Lib\\site-packages\\sklearn\\linear_model\\_coordinate_descent.py:628: ConvergenceWarning: Objective did not converge. You might want to increase the number of iterations, check the scale of the features or consider increasing regularisation. Duality gap: 1.530e+10, tolerance: 1.893e+08\n",
      "  model = cd_fast.enet_coordinate_descent(\n",
      "D:\\Jupyter ipynb\\python\\Lib\\site-packages\\sklearn\\linear_model\\_coordinate_descent.py:628: ConvergenceWarning: Objective did not converge. You might want to increase the number of iterations, check the scale of the features or consider increasing regularisation. Duality gap: 1.536e+10, tolerance: 1.894e+08\n",
      "  model = cd_fast.enet_coordinate_descent(\n",
      "D:\\Jupyter ipynb\\python\\Lib\\site-packages\\sklearn\\linear_model\\_coordinate_descent.py:628: ConvergenceWarning: Objective did not converge. You might want to increase the number of iterations, check the scale of the features or consider increasing regularisation. Duality gap: 1.542e+10, tolerance: 1.895e+08\n",
      "  model = cd_fast.enet_coordinate_descent(\n",
      "D:\\Jupyter ipynb\\python\\Lib\\site-packages\\sklearn\\linear_model\\_coordinate_descent.py:628: ConvergenceWarning: Objective did not converge. You might want to increase the number of iterations, check the scale of the features or consider increasing regularisation. Duality gap: 1.532e+10, tolerance: 1.894e+08\n",
      "  model = cd_fast.enet_coordinate_descent(\n",
      "D:\\Jupyter ipynb\\python\\Lib\\site-packages\\sklearn\\linear_model\\_coordinate_descent.py:628: ConvergenceWarning: Objective did not converge. You might want to increase the number of iterations, check the scale of the features or consider increasing regularisation. Duality gap: 1.535e+10, tolerance: 1.894e+08\n",
      "  model = cd_fast.enet_coordinate_descent(\n",
      "D:\\Jupyter ipynb\\python\\Lib\\site-packages\\sklearn\\linear_model\\_coordinate_descent.py:628: ConvergenceWarning: Objective did not converge. You might want to increase the number of iterations, check the scale of the features or consider increasing regularisation. Duality gap: 1.525e+10, tolerance: 1.893e+08\n",
      "  model = cd_fast.enet_coordinate_descent(\n",
      "D:\\Jupyter ipynb\\python\\Lib\\site-packages\\sklearn\\linear_model\\_coordinate_descent.py:628: ConvergenceWarning: Objective did not converge. You might want to increase the number of iterations, check the scale of the features or consider increasing regularisation. Duality gap: 1.531e+10, tolerance: 1.894e+08\n",
      "  model = cd_fast.enet_coordinate_descent(\n",
      "D:\\Jupyter ipynb\\python\\Lib\\site-packages\\sklearn\\linear_model\\_coordinate_descent.py:628: ConvergenceWarning: Objective did not converge. You might want to increase the number of iterations, check the scale of the features or consider increasing regularisation. Duality gap: 1.538e+10, tolerance: 1.895e+08\n",
      "  model = cd_fast.enet_coordinate_descent(\n",
      "D:\\Jupyter ipynb\\python\\Lib\\site-packages\\sklearn\\linear_model\\_coordinate_descent.py:628: ConvergenceWarning: Objective did not converge. You might want to increase the number of iterations, check the scale of the features or consider increasing regularisation. Duality gap: 1.527e+10, tolerance: 1.894e+08\n",
      "  model = cd_fast.enet_coordinate_descent(\n",
      "D:\\Jupyter ipynb\\python\\Lib\\site-packages\\sklearn\\linear_model\\_coordinate_descent.py:628: ConvergenceWarning: Objective did not converge. You might want to increase the number of iterations, check the scale of the features or consider increasing regularisation. Duality gap: 1.530e+10, tolerance: 1.894e+08\n",
      "  model = cd_fast.enet_coordinate_descent(\n",
      "D:\\Jupyter ipynb\\python\\Lib\\site-packages\\sklearn\\linear_model\\_coordinate_descent.py:628: ConvergenceWarning: Objective did not converge. You might want to increase the number of iterations, check the scale of the features or consider increasing regularisation. Duality gap: 1.520e+10, tolerance: 1.893e+08\n",
      "  model = cd_fast.enet_coordinate_descent(\n",
      "D:\\Jupyter ipynb\\python\\Lib\\site-packages\\sklearn\\linear_model\\_coordinate_descent.py:628: ConvergenceWarning: Objective did not converge. You might want to increase the number of iterations, check the scale of the features or consider increasing regularisation. Duality gap: 1.526e+10, tolerance: 1.894e+08\n",
      "  model = cd_fast.enet_coordinate_descent(\n",
      "D:\\Jupyter ipynb\\python\\Lib\\site-packages\\sklearn\\linear_model\\_coordinate_descent.py:628: ConvergenceWarning: Objective did not converge. You might want to increase the number of iterations, check the scale of the features or consider increasing regularisation. Duality gap: 1.533e+10, tolerance: 1.895e+08\n",
      "  model = cd_fast.enet_coordinate_descent(\n",
      "D:\\Jupyter ipynb\\python\\Lib\\site-packages\\sklearn\\linear_model\\_coordinate_descent.py:628: ConvergenceWarning: Objective did not converge. You might want to increase the number of iterations, check the scale of the features or consider increasing regularisation. Duality gap: 1.522e+10, tolerance: 1.894e+08\n",
      "  model = cd_fast.enet_coordinate_descent(\n",
      "D:\\Jupyter ipynb\\python\\Lib\\site-packages\\sklearn\\linear_model\\_coordinate_descent.py:628: ConvergenceWarning: Objective did not converge. You might want to increase the number of iterations, check the scale of the features or consider increasing regularisation. Duality gap: 1.525e+10, tolerance: 1.894e+08\n",
      "  model = cd_fast.enet_coordinate_descent(\n",
      "D:\\Jupyter ipynb\\python\\Lib\\site-packages\\sklearn\\linear_model\\_coordinate_descent.py:628: ConvergenceWarning: Objective did not converge. You might want to increase the number of iterations, check the scale of the features or consider increasing regularisation. Duality gap: 1.515e+10, tolerance: 1.893e+08\n",
      "  model = cd_fast.enet_coordinate_descent(\n",
      "D:\\Jupyter ipynb\\python\\Lib\\site-packages\\sklearn\\linear_model\\_coordinate_descent.py:628: ConvergenceWarning: Objective did not converge. You might want to increase the number of iterations, check the scale of the features or consider increasing regularisation. Duality gap: 1.521e+10, tolerance: 1.894e+08\n",
      "  model = cd_fast.enet_coordinate_descent(\n",
      "D:\\Jupyter ipynb\\python\\Lib\\site-packages\\sklearn\\linear_model\\_coordinate_descent.py:628: ConvergenceWarning: Objective did not converge. You might want to increase the number of iterations, check the scale of the features or consider increasing regularisation. Duality gap: 1.528e+10, tolerance: 1.895e+08\n",
      "  model = cd_fast.enet_coordinate_descent(\n",
      "D:\\Jupyter ipynb\\python\\Lib\\site-packages\\sklearn\\linear_model\\_coordinate_descent.py:628: ConvergenceWarning: Objective did not converge. You might want to increase the number of iterations, check the scale of the features or consider increasing regularisation. Duality gap: 1.517e+10, tolerance: 1.894e+08\n",
      "  model = cd_fast.enet_coordinate_descent(\n",
      "D:\\Jupyter ipynb\\python\\Lib\\site-packages\\sklearn\\linear_model\\_coordinate_descent.py:628: ConvergenceWarning: Objective did not converge. You might want to increase the number of iterations, check the scale of the features or consider increasing regularisation. Duality gap: 1.520e+10, tolerance: 1.894e+08\n",
      "  model = cd_fast.enet_coordinate_descent(\n",
      "D:\\Jupyter ipynb\\python\\Lib\\site-packages\\sklearn\\linear_model\\_coordinate_descent.py:628: ConvergenceWarning: Objective did not converge. You might want to increase the number of iterations, check the scale of the features or consider increasing regularisation. Duality gap: 1.510e+10, tolerance: 1.893e+08\n",
      "  model = cd_fast.enet_coordinate_descent(\n",
      "D:\\Jupyter ipynb\\python\\Lib\\site-packages\\sklearn\\linear_model\\_coordinate_descent.py:628: ConvergenceWarning: Objective did not converge. You might want to increase the number of iterations, check the scale of the features or consider increasing regularisation. Duality gap: 1.516e+10, tolerance: 1.894e+08\n",
      "  model = cd_fast.enet_coordinate_descent(\n",
      "D:\\Jupyter ipynb\\python\\Lib\\site-packages\\sklearn\\linear_model\\_coordinate_descent.py:628: ConvergenceWarning: Objective did not converge. You might want to increase the number of iterations, check the scale of the features or consider increasing regularisation. Duality gap: 1.523e+10, tolerance: 1.895e+08\n",
      "  model = cd_fast.enet_coordinate_descent(\n",
      "D:\\Jupyter ipynb\\python\\Lib\\site-packages\\sklearn\\linear_model\\_coordinate_descent.py:628: ConvergenceWarning: Objective did not converge. You might want to increase the number of iterations, check the scale of the features or consider increasing regularisation. Duality gap: 1.512e+10, tolerance: 1.894e+08\n",
      "  model = cd_fast.enet_coordinate_descent(\n"
     ]
    },
    {
     "name": "stderr",
     "output_type": "stream",
     "text": [
      "D:\\Jupyter ipynb\\python\\Lib\\site-packages\\sklearn\\linear_model\\_coordinate_descent.py:628: ConvergenceWarning: Objective did not converge. You might want to increase the number of iterations, check the scale of the features or consider increasing regularisation. Duality gap: 1.515e+10, tolerance: 1.894e+08\n",
      "  model = cd_fast.enet_coordinate_descent(\n",
      "D:\\Jupyter ipynb\\python\\Lib\\site-packages\\sklearn\\linear_model\\_coordinate_descent.py:628: ConvergenceWarning: Objective did not converge. You might want to increase the number of iterations, check the scale of the features or consider increasing regularisation. Duality gap: 1.516e+10, tolerance: 1.893e+08\n",
      "  model = cd_fast.enet_coordinate_descent(\n",
      "D:\\Jupyter ipynb\\python\\Lib\\site-packages\\sklearn\\linear_model\\_coordinate_descent.py:628: ConvergenceWarning: Objective did not converge. You might want to increase the number of iterations, check the scale of the features or consider increasing regularisation. Duality gap: 1.522e+10, tolerance: 1.894e+08\n",
      "  model = cd_fast.enet_coordinate_descent(\n",
      "D:\\Jupyter ipynb\\python\\Lib\\site-packages\\sklearn\\linear_model\\_coordinate_descent.py:628: ConvergenceWarning: Objective did not converge. You might want to increase the number of iterations, check the scale of the features or consider increasing regularisation. Duality gap: 1.528e+10, tolerance: 1.895e+08\n",
      "  model = cd_fast.enet_coordinate_descent(\n",
      "D:\\Jupyter ipynb\\python\\Lib\\site-packages\\sklearn\\linear_model\\_coordinate_descent.py:628: ConvergenceWarning: Objective did not converge. You might want to increase the number of iterations, check the scale of the features or consider increasing regularisation. Duality gap: 1.518e+10, tolerance: 1.894e+08\n",
      "  model = cd_fast.enet_coordinate_descent(\n",
      "D:\\Jupyter ipynb\\python\\Lib\\site-packages\\sklearn\\linear_model\\_coordinate_descent.py:628: ConvergenceWarning: Objective did not converge. You might want to increase the number of iterations, check the scale of the features or consider increasing regularisation. Duality gap: 1.521e+10, tolerance: 1.894e+08\n",
      "  model = cd_fast.enet_coordinate_descent(\n",
      "D:\\Jupyter ipynb\\python\\Lib\\site-packages\\sklearn\\linear_model\\_coordinate_descent.py:628: ConvergenceWarning: Objective did not converge. You might want to increase the number of iterations, check the scale of the features or consider increasing regularisation. Duality gap: 1.515e+10, tolerance: 1.893e+08\n",
      "  model = cd_fast.enet_coordinate_descent(\n",
      "D:\\Jupyter ipynb\\python\\Lib\\site-packages\\sklearn\\linear_model\\_coordinate_descent.py:628: ConvergenceWarning: Objective did not converge. You might want to increase the number of iterations, check the scale of the features or consider increasing regularisation. Duality gap: 1.521e+10, tolerance: 1.894e+08\n",
      "  model = cd_fast.enet_coordinate_descent(\n",
      "D:\\Jupyter ipynb\\python\\Lib\\site-packages\\sklearn\\linear_model\\_coordinate_descent.py:628: ConvergenceWarning: Objective did not converge. You might want to increase the number of iterations, check the scale of the features or consider increasing regularisation. Duality gap: 1.528e+10, tolerance: 1.895e+08\n",
      "  model = cd_fast.enet_coordinate_descent(\n",
      "D:\\Jupyter ipynb\\python\\Lib\\site-packages\\sklearn\\linear_model\\_coordinate_descent.py:628: ConvergenceWarning: Objective did not converge. You might want to increase the number of iterations, check the scale of the features or consider increasing regularisation. Duality gap: 1.517e+10, tolerance: 1.894e+08\n",
      "  model = cd_fast.enet_coordinate_descent(\n",
      "D:\\Jupyter ipynb\\python\\Lib\\site-packages\\sklearn\\linear_model\\_coordinate_descent.py:628: ConvergenceWarning: Objective did not converge. You might want to increase the number of iterations, check the scale of the features or consider increasing regularisation. Duality gap: 1.520e+10, tolerance: 1.894e+08\n",
      "  model = cd_fast.enet_coordinate_descent(\n",
      "D:\\Jupyter ipynb\\python\\Lib\\site-packages\\sklearn\\linear_model\\_coordinate_descent.py:628: ConvergenceWarning: Objective did not converge. You might want to increase the number of iterations, check the scale of the features or consider increasing regularisation. Duality gap: 1.515e+10, tolerance: 1.893e+08\n",
      "  model = cd_fast.enet_coordinate_descent(\n",
      "D:\\Jupyter ipynb\\python\\Lib\\site-packages\\sklearn\\linear_model\\_coordinate_descent.py:628: ConvergenceWarning: Objective did not converge. You might want to increase the number of iterations, check the scale of the features or consider increasing regularisation. Duality gap: 1.521e+10, tolerance: 1.894e+08\n",
      "  model = cd_fast.enet_coordinate_descent(\n",
      "D:\\Jupyter ipynb\\python\\Lib\\site-packages\\sklearn\\linear_model\\_coordinate_descent.py:628: ConvergenceWarning: Objective did not converge. You might want to increase the number of iterations, check the scale of the features or consider increasing regularisation. Duality gap: 1.527e+10, tolerance: 1.895e+08\n",
      "  model = cd_fast.enet_coordinate_descent(\n",
      "D:\\Jupyter ipynb\\python\\Lib\\site-packages\\sklearn\\linear_model\\_coordinate_descent.py:628: ConvergenceWarning: Objective did not converge. You might want to increase the number of iterations, check the scale of the features or consider increasing regularisation. Duality gap: 1.517e+10, tolerance: 1.894e+08\n",
      "  model = cd_fast.enet_coordinate_descent(\n",
      "D:\\Jupyter ipynb\\python\\Lib\\site-packages\\sklearn\\linear_model\\_coordinate_descent.py:628: ConvergenceWarning: Objective did not converge. You might want to increase the number of iterations, check the scale of the features or consider increasing regularisation. Duality gap: 1.520e+10, tolerance: 1.894e+08\n",
      "  model = cd_fast.enet_coordinate_descent(\n",
      "D:\\Jupyter ipynb\\python\\Lib\\site-packages\\sklearn\\linear_model\\_coordinate_descent.py:628: ConvergenceWarning: Objective did not converge. You might want to increase the number of iterations, check the scale of the features or consider increasing regularisation. Duality gap: 1.514e+10, tolerance: 1.893e+08\n",
      "  model = cd_fast.enet_coordinate_descent(\n",
      "D:\\Jupyter ipynb\\python\\Lib\\site-packages\\sklearn\\linear_model\\_coordinate_descent.py:628: ConvergenceWarning: Objective did not converge. You might want to increase the number of iterations, check the scale of the features or consider increasing regularisation. Duality gap: 1.520e+10, tolerance: 1.894e+08\n",
      "  model = cd_fast.enet_coordinate_descent(\n",
      "D:\\Jupyter ipynb\\python\\Lib\\site-packages\\sklearn\\linear_model\\_coordinate_descent.py:628: ConvergenceWarning: Objective did not converge. You might want to increase the number of iterations, check the scale of the features or consider increasing regularisation. Duality gap: 1.527e+10, tolerance: 1.895e+08\n",
      "  model = cd_fast.enet_coordinate_descent(\n",
      "D:\\Jupyter ipynb\\python\\Lib\\site-packages\\sklearn\\linear_model\\_coordinate_descent.py:628: ConvergenceWarning: Objective did not converge. You might want to increase the number of iterations, check the scale of the features or consider increasing regularisation. Duality gap: 1.516e+10, tolerance: 1.894e+08\n",
      "  model = cd_fast.enet_coordinate_descent(\n",
      "D:\\Jupyter ipynb\\python\\Lib\\site-packages\\sklearn\\linear_model\\_coordinate_descent.py:628: ConvergenceWarning: Objective did not converge. You might want to increase the number of iterations, check the scale of the features or consider increasing regularisation. Duality gap: 1.519e+10, tolerance: 1.894e+08\n",
      "  model = cd_fast.enet_coordinate_descent(\n",
      "D:\\Jupyter ipynb\\python\\Lib\\site-packages\\sklearn\\linear_model\\_coordinate_descent.py:628: ConvergenceWarning: Objective did not converge. You might want to increase the number of iterations, check the scale of the features or consider increasing regularisation. Duality gap: 1.514e+10, tolerance: 1.893e+08\n",
      "  model = cd_fast.enet_coordinate_descent(\n",
      "D:\\Jupyter ipynb\\python\\Lib\\site-packages\\sklearn\\linear_model\\_coordinate_descent.py:628: ConvergenceWarning: Objective did not converge. You might want to increase the number of iterations, check the scale of the features or consider increasing regularisation. Duality gap: 1.520e+10, tolerance: 1.894e+08\n",
      "  model = cd_fast.enet_coordinate_descent(\n",
      "D:\\Jupyter ipynb\\python\\Lib\\site-packages\\sklearn\\linear_model\\_coordinate_descent.py:628: ConvergenceWarning: Objective did not converge. You might want to increase the number of iterations, check the scale of the features or consider increasing regularisation. Duality gap: 1.526e+10, tolerance: 1.895e+08\n",
      "  model = cd_fast.enet_coordinate_descent(\n"
     ]
    },
    {
     "name": "stderr",
     "output_type": "stream",
     "text": [
      "D:\\Jupyter ipynb\\python\\Lib\\site-packages\\sklearn\\linear_model\\_coordinate_descent.py:628: ConvergenceWarning: Objective did not converge. You might want to increase the number of iterations, check the scale of the features or consider increasing regularisation. Duality gap: 1.516e+10, tolerance: 1.894e+08\n",
      "  model = cd_fast.enet_coordinate_descent(\n",
      "D:\\Jupyter ipynb\\python\\Lib\\site-packages\\sklearn\\linear_model\\_coordinate_descent.py:628: ConvergenceWarning: Objective did not converge. You might want to increase the number of iterations, check the scale of the features or consider increasing regularisation. Duality gap: 1.519e+10, tolerance: 1.894e+08\n",
      "  model = cd_fast.enet_coordinate_descent(\n",
      "D:\\Jupyter ipynb\\python\\Lib\\site-packages\\sklearn\\linear_model\\_coordinate_descent.py:628: ConvergenceWarning: Objective did not converge. You might want to increase the number of iterations, check the scale of the features or consider increasing regularisation. Duality gap: 1.514e+10, tolerance: 1.893e+08\n",
      "  model = cd_fast.enet_coordinate_descent(\n",
      "D:\\Jupyter ipynb\\python\\Lib\\site-packages\\sklearn\\linear_model\\_coordinate_descent.py:628: ConvergenceWarning: Objective did not converge. You might want to increase the number of iterations, check the scale of the features or consider increasing regularisation. Duality gap: 1.520e+10, tolerance: 1.894e+08\n",
      "  model = cd_fast.enet_coordinate_descent(\n",
      "D:\\Jupyter ipynb\\python\\Lib\\site-packages\\sklearn\\linear_model\\_coordinate_descent.py:628: ConvergenceWarning: Objective did not converge. You might want to increase the number of iterations, check the scale of the features or consider increasing regularisation. Duality gap: 1.527e+10, tolerance: 1.895e+08\n",
      "  model = cd_fast.enet_coordinate_descent(\n",
      "D:\\Jupyter ipynb\\python\\Lib\\site-packages\\sklearn\\linear_model\\_coordinate_descent.py:628: ConvergenceWarning: Objective did not converge. You might want to increase the number of iterations, check the scale of the features or consider increasing regularisation. Duality gap: 1.516e+10, tolerance: 1.894e+08\n",
      "  model = cd_fast.enet_coordinate_descent(\n",
      "D:\\Jupyter ipynb\\python\\Lib\\site-packages\\sklearn\\linear_model\\_coordinate_descent.py:628: ConvergenceWarning: Objective did not converge. You might want to increase the number of iterations, check the scale of the features or consider increasing regularisation. Duality gap: 1.519e+10, tolerance: 1.894e+08\n",
      "  model = cd_fast.enet_coordinate_descent(\n",
      "D:\\Jupyter ipynb\\python\\Lib\\site-packages\\sklearn\\linear_model\\_coordinate_descent.py:628: ConvergenceWarning: Objective did not converge. You might want to increase the number of iterations, check the scale of the features or consider increasing regularisation. Duality gap: 1.514e+10, tolerance: 1.893e+08\n",
      "  model = cd_fast.enet_coordinate_descent(\n",
      "D:\\Jupyter ipynb\\python\\Lib\\site-packages\\sklearn\\linear_model\\_coordinate_descent.py:628: ConvergenceWarning: Objective did not converge. You might want to increase the number of iterations, check the scale of the features or consider increasing regularisation. Duality gap: 1.520e+10, tolerance: 1.894e+08\n",
      "  model = cd_fast.enet_coordinate_descent(\n",
      "D:\\Jupyter ipynb\\python\\Lib\\site-packages\\sklearn\\linear_model\\_coordinate_descent.py:628: ConvergenceWarning: Objective did not converge. You might want to increase the number of iterations, check the scale of the features or consider increasing regularisation. Duality gap: 1.527e+10, tolerance: 1.895e+08\n",
      "  model = cd_fast.enet_coordinate_descent(\n",
      "D:\\Jupyter ipynb\\python\\Lib\\site-packages\\sklearn\\linear_model\\_coordinate_descent.py:628: ConvergenceWarning: Objective did not converge. You might want to increase the number of iterations, check the scale of the features or consider increasing regularisation. Duality gap: 1.516e+10, tolerance: 1.894e+08\n",
      "  model = cd_fast.enet_coordinate_descent(\n",
      "D:\\Jupyter ipynb\\python\\Lib\\site-packages\\sklearn\\linear_model\\_coordinate_descent.py:628: ConvergenceWarning: Objective did not converge. You might want to increase the number of iterations, check the scale of the features or consider increasing regularisation. Duality gap: 1.519e+10, tolerance: 1.894e+08\n",
      "  model = cd_fast.enet_coordinate_descent(\n",
      "D:\\Jupyter ipynb\\python\\Lib\\site-packages\\sklearn\\linear_model\\_coordinate_descent.py:628: ConvergenceWarning: Objective did not converge. You might want to increase the number of iterations, check the scale of the features or consider increasing regularisation. Duality gap: 1.514e+10, tolerance: 1.893e+08\n",
      "  model = cd_fast.enet_coordinate_descent(\n",
      "D:\\Jupyter ipynb\\python\\Lib\\site-packages\\sklearn\\linear_model\\_coordinate_descent.py:628: ConvergenceWarning: Objective did not converge. You might want to increase the number of iterations, check the scale of the features or consider increasing regularisation. Duality gap: 1.520e+10, tolerance: 1.894e+08\n",
      "  model = cd_fast.enet_coordinate_descent(\n",
      "D:\\Jupyter ipynb\\python\\Lib\\site-packages\\sklearn\\linear_model\\_coordinate_descent.py:628: ConvergenceWarning: Objective did not converge. You might want to increase the number of iterations, check the scale of the features or consider increasing regularisation. Duality gap: 1.527e+10, tolerance: 1.895e+08\n",
      "  model = cd_fast.enet_coordinate_descent(\n",
      "D:\\Jupyter ipynb\\python\\Lib\\site-packages\\sklearn\\linear_model\\_coordinate_descent.py:628: ConvergenceWarning: Objective did not converge. You might want to increase the number of iterations, check the scale of the features or consider increasing regularisation. Duality gap: 1.516e+10, tolerance: 1.894e+08\n",
      "  model = cd_fast.enet_coordinate_descent(\n",
      "D:\\Jupyter ipynb\\python\\Lib\\site-packages\\sklearn\\linear_model\\_coordinate_descent.py:628: ConvergenceWarning: Objective did not converge. You might want to increase the number of iterations, check the scale of the features or consider increasing regularisation. Duality gap: 1.519e+10, tolerance: 1.894e+08\n",
      "  model = cd_fast.enet_coordinate_descent(\n",
      "D:\\Jupyter ipynb\\python\\Lib\\site-packages\\sklearn\\linear_model\\_coordinate_descent.py:628: ConvergenceWarning: Objective did not converge. You might want to increase the number of iterations, check the scale of the features or consider increasing regularisation. Duality gap: 1.514e+10, tolerance: 1.893e+08\n",
      "  model = cd_fast.enet_coordinate_descent(\n",
      "D:\\Jupyter ipynb\\python\\Lib\\site-packages\\sklearn\\linear_model\\_coordinate_descent.py:628: ConvergenceWarning: Objective did not converge. You might want to increase the number of iterations, check the scale of the features or consider increasing regularisation. Duality gap: 1.520e+10, tolerance: 1.894e+08\n",
      "  model = cd_fast.enet_coordinate_descent(\n",
      "D:\\Jupyter ipynb\\python\\Lib\\site-packages\\sklearn\\linear_model\\_coordinate_descent.py:628: ConvergenceWarning: Objective did not converge. You might want to increase the number of iterations, check the scale of the features or consider increasing regularisation. Duality gap: 1.527e+10, tolerance: 1.895e+08\n",
      "  model = cd_fast.enet_coordinate_descent(\n",
      "D:\\Jupyter ipynb\\python\\Lib\\site-packages\\sklearn\\linear_model\\_coordinate_descent.py:628: ConvergenceWarning: Objective did not converge. You might want to increase the number of iterations, check the scale of the features or consider increasing regularisation. Duality gap: 1.516e+10, tolerance: 1.894e+08\n",
      "  model = cd_fast.enet_coordinate_descent(\n",
      "D:\\Jupyter ipynb\\python\\Lib\\site-packages\\sklearn\\linear_model\\_coordinate_descent.py:628: ConvergenceWarning: Objective did not converge. You might want to increase the number of iterations, check the scale of the features or consider increasing regularisation. Duality gap: 1.519e+10, tolerance: 1.894e+08\n",
      "  model = cd_fast.enet_coordinate_descent(\n",
      "D:\\Jupyter ipynb\\python\\Lib\\site-packages\\sklearn\\linear_model\\_coordinate_descent.py:628: ConvergenceWarning: Objective did not converge. You might want to increase the number of iterations, check the scale of the features or consider increasing regularisation. Duality gap: 1.514e+10, tolerance: 1.893e+08\n",
      "  model = cd_fast.enet_coordinate_descent(\n",
      "D:\\Jupyter ipynb\\python\\Lib\\site-packages\\sklearn\\linear_model\\_coordinate_descent.py:628: ConvergenceWarning: Objective did not converge. You might want to increase the number of iterations, check the scale of the features or consider increasing regularisation. Duality gap: 1.520e+10, tolerance: 1.894e+08\n",
      "  model = cd_fast.enet_coordinate_descent(\n"
     ]
    },
    {
     "name": "stderr",
     "output_type": "stream",
     "text": [
      "D:\\Jupyter ipynb\\python\\Lib\\site-packages\\sklearn\\linear_model\\_coordinate_descent.py:628: ConvergenceWarning: Objective did not converge. You might want to increase the number of iterations, check the scale of the features or consider increasing regularisation. Duality gap: 1.527e+10, tolerance: 1.895e+08\n",
      "  model = cd_fast.enet_coordinate_descent(\n",
      "D:\\Jupyter ipynb\\python\\Lib\\site-packages\\sklearn\\linear_model\\_coordinate_descent.py:628: ConvergenceWarning: Objective did not converge. You might want to increase the number of iterations, check the scale of the features or consider increasing regularisation. Duality gap: 1.516e+10, tolerance: 1.894e+08\n",
      "  model = cd_fast.enet_coordinate_descent(\n",
      "D:\\Jupyter ipynb\\python\\Lib\\site-packages\\sklearn\\linear_model\\_coordinate_descent.py:628: ConvergenceWarning: Objective did not converge. You might want to increase the number of iterations, check the scale of the features or consider increasing regularisation. Duality gap: 1.519e+10, tolerance: 1.894e+08\n",
      "  model = cd_fast.enet_coordinate_descent(\n",
      "D:\\Jupyter ipynb\\python\\Lib\\site-packages\\sklearn\\linear_model\\_coordinate_descent.py:628: ConvergenceWarning: Objective did not converge. You might want to increase the number of iterations, check the scale of the features or consider increasing regularisation. Duality gap: 1.899e+10, tolerance: 2.368e+08\n",
      "  model = cd_fast.enet_coordinate_descent(\n"
     ]
    },
    {
     "name": "stdout",
     "output_type": "stream",
     "text": [
      "R-squared Accuracy: 0.9842967273054118\n"
     ]
    },
    {
     "name": "stderr",
     "output_type": "stream",
     "text": [
      "D:\\Jupyter ipynb\\python\\Lib\\site-packages\\sklearn\\linear_model\\_coordinate_descent.py:628: ConvergenceWarning: Objective did not converge. You might want to increase the number of iterations, check the scale of the features or consider increasing regularisation. Duality gap: 1.899e+10, tolerance: 2.368e+08\n",
      "  model = cd_fast.enet_coordinate_descent(\n"
     ]
    }
   ],
   "source": [
    "# Ignore warnings from scikit-learn's DataConversionWarning\n",
    "warnings.filterwarnings(\"ignore\", category=DataConversionWarning)\n",
    "\n",
    "# Define the parameter grid to search for the best hyperparameters\n",
    "param_grid = {\n",
    "    'alpha': [0.1, 0.01, 0.001],\n",
    "    'l1_ratio': [0.1, 0.3, 0.5, 0.7, 0.9]\n",
    "}\n",
    "\n",
    "# Create the Elastic Net model\n",
    "elastic_net = ElasticNet()\n",
    "\n",
    "# Perform grid search with cross-validation to find the best hyperparameters\n",
    "grid_search = GridSearchCV(estimator=elastic_net, param_grid=param_grid, cv=5, scoring='r2')\n",
    "grid_search.fit(X_train, y_train)\n",
    "\n",
    "# Get the best hyperparameters from the grid search\n",
    "best_alpha = grid_search.best_params_['alpha']\n",
    "best_l1_ratio = grid_search.best_params_['l1_ratio']\n",
    "\n",
    "# Create the Elastic Net model with the best hyperparameters\n",
    "best_elastic_net = ElasticNet(alpha=best_alpha, l1_ratio=best_l1_ratio)\n",
    "\n",
    "# Fit the model to the training data\n",
    "best_elastic_net.fit(X_train, y_train)\n",
    "\n",
    "# Make predictions on the test data\n",
    "y_pred = best_elastic_net.predict(X_test)\n",
    "\n",
    "# Calculate the R-squared (R2) accuracy\n",
    "r2_accuracy = r2_score(y_test, y_pred)\n",
    "print(f\"R-squared Accuracy: {r2_accuracy}\")\n",
    "\n",
    "# Reset the warning filter to its default state\n",
    "warnings.filterwarnings(\"default\")"
   ]
  },
  {
   "cell_type": "markdown",
   "id": "340e3408",
   "metadata": {},
   "source": [
    "# Torque Prediction"
   ]
  },
  {
   "cell_type": "code",
   "execution_count": 79,
   "id": "2ff4594c",
   "metadata": {},
   "outputs": [],
   "source": [
    "X = df.drop(columns=['torque'])\n",
    "y = df[['torque']]"
   ]
  },
  {
   "cell_type": "code",
   "execution_count": 80,
   "id": "172f884c",
   "metadata": {},
   "outputs": [],
   "source": [
    "# Split the data into training and testing sets\n",
    "X_train, X_test, y_train, y_test = train_test_split(X, y, test_size=0.2, random_state=42)"
   ]
  },
  {
   "cell_type": "code",
   "execution_count": 81,
   "id": "fbfcb631",
   "metadata": {},
   "outputs": [],
   "source": [
    "# Define the Elastic Net model\n",
    "alpha = 0.001  # Regularization strength (L1 + L2 penalty)\n",
    "l1_ratio = 0.5  # Mixing parameter (0.0 for L2 penalty, 1.0 for L1 penalty)\n",
    "elastic_net = ElasticNet(alpha=alpha, l1_ratio=l1_ratio)"
   ]
  },
  {
   "cell_type": "code",
   "execution_count": 82,
   "id": "0d52226b",
   "metadata": {},
   "outputs": [
    {
     "name": "stderr",
     "output_type": "stream",
     "text": [
      "D:\\Jupyter ipynb\\python\\Lib\\site-packages\\sklearn\\linear_model\\_coordinate_descent.py:628: ConvergenceWarning: Objective did not converge. You might want to increase the number of iterations, check the scale of the features or consider increasing regularisation. Duality gap: 1.929e+06, tolerance: 2.364e+05\n",
      "  model = cd_fast.enet_coordinate_descent(\n"
     ]
    },
    {
     "data": {
      "text/html": [
       "<style>#sk-container-id-12 {color: black;}#sk-container-id-12 pre{padding: 0;}#sk-container-id-12 div.sk-toggleable {background-color: white;}#sk-container-id-12 label.sk-toggleable__label {cursor: pointer;display: block;width: 100%;margin-bottom: 0;padding: 0.3em;box-sizing: border-box;text-align: center;}#sk-container-id-12 label.sk-toggleable__label-arrow:before {content: \"▸\";float: left;margin-right: 0.25em;color: #696969;}#sk-container-id-12 label.sk-toggleable__label-arrow:hover:before {color: black;}#sk-container-id-12 div.sk-estimator:hover label.sk-toggleable__label-arrow:before {color: black;}#sk-container-id-12 div.sk-toggleable__content {max-height: 0;max-width: 0;overflow: hidden;text-align: left;background-color: #f0f8ff;}#sk-container-id-12 div.sk-toggleable__content pre {margin: 0.2em;color: black;border-radius: 0.25em;background-color: #f0f8ff;}#sk-container-id-12 input.sk-toggleable__control:checked~div.sk-toggleable__content {max-height: 200px;max-width: 100%;overflow: auto;}#sk-container-id-12 input.sk-toggleable__control:checked~label.sk-toggleable__label-arrow:before {content: \"▾\";}#sk-container-id-12 div.sk-estimator input.sk-toggleable__control:checked~label.sk-toggleable__label {background-color: #d4ebff;}#sk-container-id-12 div.sk-label input.sk-toggleable__control:checked~label.sk-toggleable__label {background-color: #d4ebff;}#sk-container-id-12 input.sk-hidden--visually {border: 0;clip: rect(1px 1px 1px 1px);clip: rect(1px, 1px, 1px, 1px);height: 1px;margin: -1px;overflow: hidden;padding: 0;position: absolute;width: 1px;}#sk-container-id-12 div.sk-estimator {font-family: monospace;background-color: #f0f8ff;border: 1px dotted black;border-radius: 0.25em;box-sizing: border-box;margin-bottom: 0.5em;}#sk-container-id-12 div.sk-estimator:hover {background-color: #d4ebff;}#sk-container-id-12 div.sk-parallel-item::after {content: \"\";width: 100%;border-bottom: 1px solid gray;flex-grow: 1;}#sk-container-id-12 div.sk-label:hover label.sk-toggleable__label {background-color: #d4ebff;}#sk-container-id-12 div.sk-serial::before {content: \"\";position: absolute;border-left: 1px solid gray;box-sizing: border-box;top: 0;bottom: 0;left: 50%;z-index: 0;}#sk-container-id-12 div.sk-serial {display: flex;flex-direction: column;align-items: center;background-color: white;padding-right: 0.2em;padding-left: 0.2em;position: relative;}#sk-container-id-12 div.sk-item {position: relative;z-index: 1;}#sk-container-id-12 div.sk-parallel {display: flex;align-items: stretch;justify-content: center;background-color: white;position: relative;}#sk-container-id-12 div.sk-item::before, #sk-container-id-12 div.sk-parallel-item::before {content: \"\";position: absolute;border-left: 1px solid gray;box-sizing: border-box;top: 0;bottom: 0;left: 50%;z-index: -1;}#sk-container-id-12 div.sk-parallel-item {display: flex;flex-direction: column;z-index: 1;position: relative;background-color: white;}#sk-container-id-12 div.sk-parallel-item:first-child::after {align-self: flex-end;width: 50%;}#sk-container-id-12 div.sk-parallel-item:last-child::after {align-self: flex-start;width: 50%;}#sk-container-id-12 div.sk-parallel-item:only-child::after {width: 0;}#sk-container-id-12 div.sk-dashed-wrapped {border: 1px dashed gray;margin: 0 0.4em 0.5em 0.4em;box-sizing: border-box;padding-bottom: 0.4em;background-color: white;}#sk-container-id-12 div.sk-label label {font-family: monospace;font-weight: bold;display: inline-block;line-height: 1.2em;}#sk-container-id-12 div.sk-label-container {text-align: center;}#sk-container-id-12 div.sk-container {/* jupyter's `normalize.less` sets `[hidden] { display: none; }` but bootstrap.min.css set `[hidden] { display: none !important; }` so we also need the `!important` here to be able to override the default hidden behavior on the sphinx rendered scikit-learn.org. See: https://github.com/scikit-learn/scikit-learn/issues/21755 */display: inline-block !important;position: relative;}#sk-container-id-12 div.sk-text-repr-fallback {display: none;}</style><div id=\"sk-container-id-12\" class=\"sk-top-container\"><div class=\"sk-text-repr-fallback\"><pre>ElasticNet(alpha=0.001)</pre><b>In a Jupyter environment, please rerun this cell to show the HTML representation or trust the notebook. <br />On GitHub, the HTML representation is unable to render, please try loading this page with nbviewer.org.</b></div><div class=\"sk-container\" hidden><div class=\"sk-item\"><div class=\"sk-estimator sk-toggleable\"><input class=\"sk-toggleable__control sk-hidden--visually\" id=\"sk-estimator-id-12\" type=\"checkbox\" checked><label for=\"sk-estimator-id-12\" class=\"sk-toggleable__label sk-toggleable__label-arrow\">ElasticNet</label><div class=\"sk-toggleable__content\"><pre>ElasticNet(alpha=0.001)</pre></div></div></div></div></div>"
      ],
      "text/plain": [
       "ElasticNet(alpha=0.001)"
      ]
     },
     "execution_count": 82,
     "metadata": {},
     "output_type": "execute_result"
    }
   ],
   "source": [
    "# Fit the model to the training data\n",
    "elastic_net.fit(X_train, y_train)"
   ]
  },
  {
   "cell_type": "code",
   "execution_count": 83,
   "id": "4874bdbb",
   "metadata": {},
   "outputs": [],
   "source": [
    "# Make predictions on the test data\n",
    "y_pred = elastic_net.predict(X_test)"
   ]
  },
  {
   "cell_type": "code",
   "execution_count": 84,
   "id": "0c4c1944",
   "metadata": {},
   "outputs": [
    {
     "name": "stdout",
     "output_type": "stream",
     "text": [
      "Mean Squared Error: 5.080449402891743\n"
     ]
    }
   ],
   "source": [
    "mse = mean_squared_error(y_test, y_pred)\n",
    "print(f\"Mean Squared Error: {mse}\")"
   ]
  },
  {
   "cell_type": "code",
   "execution_count": 85,
   "id": "8fa9a72c",
   "metadata": {},
   "outputs": [
    {
     "name": "stdout",
     "output_type": "stream",
     "text": [
      "Coefficients: [ 0.07844169 -0.06025374  0.21349092 -0.07388306 -0.47136808 -0.0054001\n",
      " -0.17025923  0.71900076  0.00146157  0.28616172  0.02264754]\n",
      "Intercept: [-0.16690084]\n"
     ]
    }
   ],
   "source": [
    "# You can also access the model's coefficients to see the feature importances\n",
    "coefficients = elastic_net.coef_\n",
    "intercept = elastic_net.intercept_\n",
    "print(\"Coefficients:\", coefficients)\n",
    "print(\"Intercept:\", intercept)"
   ]
  },
  {
   "cell_type": "code",
   "execution_count": 86,
   "id": "609d11ae",
   "metadata": {},
   "outputs": [
    {
     "name": "stdout",
     "output_type": "stream",
     "text": [
      "R-squared Accuracy: 0.9984099495151196\n"
     ]
    }
   ],
   "source": [
    "# Calculate the R-squared (R2) accuracy\n",
    "r2_accuracy = r2_score(y_test, y_pred)\n",
    "print(f\"R-squared Accuracy: {r2_accuracy}\")"
   ]
  },
  {
   "cell_type": "markdown",
   "id": "002dc5bd",
   "metadata": {},
   "source": [
    "# Coolant Temperature Prediction"
   ]
  },
  {
   "cell_type": "code",
   "execution_count": 87,
   "id": "8e23eeeb",
   "metadata": {},
   "outputs": [],
   "source": [
    "X = df.drop(columns=['coolant'])\n",
    "y = df[['coolant']]"
   ]
  },
  {
   "cell_type": "code",
   "execution_count": 88,
   "id": "e0ce8d68",
   "metadata": {},
   "outputs": [],
   "source": [
    "# Split the data into training and testing sets\n",
    "X_train, X_test, y_train, y_test = train_test_split(X, y, test_size=0.2, random_state=42)"
   ]
  },
  {
   "cell_type": "code",
   "execution_count": 101,
   "id": "4e16ee9d",
   "metadata": {},
   "outputs": [],
   "source": [
    "# Define the Elastic Net model\n",
    "alpha = 0.1  # Regularization strength (L1 + L2 penalty)\n",
    "l1_ratio = 0.6  # Mixing parameter (0.0 for L2 penalty, 1.0 for L1 penalty)\n",
    "elastic_net = ElasticNet(alpha=alpha, l1_ratio=l1_ratio)"
   ]
  },
  {
   "cell_type": "code",
   "execution_count": 102,
   "id": "70a2aaba",
   "metadata": {},
   "outputs": [
    {
     "name": "stderr",
     "output_type": "stream",
     "text": [
      "D:\\Jupyter ipynb\\python\\Lib\\site-packages\\sklearn\\linear_model\\_coordinate_descent.py:628: ConvergenceWarning: Objective did not converge. You might want to increase the number of iterations, check the scale of the features or consider increasing regularisation. Duality gap: 3.363e+06, tolerance: 2.098e+04\n",
      "  model = cd_fast.enet_coordinate_descent(\n"
     ]
    },
    {
     "data": {
      "text/html": [
       "<style>#sk-container-id-15 {color: black;}#sk-container-id-15 pre{padding: 0;}#sk-container-id-15 div.sk-toggleable {background-color: white;}#sk-container-id-15 label.sk-toggleable__label {cursor: pointer;display: block;width: 100%;margin-bottom: 0;padding: 0.3em;box-sizing: border-box;text-align: center;}#sk-container-id-15 label.sk-toggleable__label-arrow:before {content: \"▸\";float: left;margin-right: 0.25em;color: #696969;}#sk-container-id-15 label.sk-toggleable__label-arrow:hover:before {color: black;}#sk-container-id-15 div.sk-estimator:hover label.sk-toggleable__label-arrow:before {color: black;}#sk-container-id-15 div.sk-toggleable__content {max-height: 0;max-width: 0;overflow: hidden;text-align: left;background-color: #f0f8ff;}#sk-container-id-15 div.sk-toggleable__content pre {margin: 0.2em;color: black;border-radius: 0.25em;background-color: #f0f8ff;}#sk-container-id-15 input.sk-toggleable__control:checked~div.sk-toggleable__content {max-height: 200px;max-width: 100%;overflow: auto;}#sk-container-id-15 input.sk-toggleable__control:checked~label.sk-toggleable__label-arrow:before {content: \"▾\";}#sk-container-id-15 div.sk-estimator input.sk-toggleable__control:checked~label.sk-toggleable__label {background-color: #d4ebff;}#sk-container-id-15 div.sk-label input.sk-toggleable__control:checked~label.sk-toggleable__label {background-color: #d4ebff;}#sk-container-id-15 input.sk-hidden--visually {border: 0;clip: rect(1px 1px 1px 1px);clip: rect(1px, 1px, 1px, 1px);height: 1px;margin: -1px;overflow: hidden;padding: 0;position: absolute;width: 1px;}#sk-container-id-15 div.sk-estimator {font-family: monospace;background-color: #f0f8ff;border: 1px dotted black;border-radius: 0.25em;box-sizing: border-box;margin-bottom: 0.5em;}#sk-container-id-15 div.sk-estimator:hover {background-color: #d4ebff;}#sk-container-id-15 div.sk-parallel-item::after {content: \"\";width: 100%;border-bottom: 1px solid gray;flex-grow: 1;}#sk-container-id-15 div.sk-label:hover label.sk-toggleable__label {background-color: #d4ebff;}#sk-container-id-15 div.sk-serial::before {content: \"\";position: absolute;border-left: 1px solid gray;box-sizing: border-box;top: 0;bottom: 0;left: 50%;z-index: 0;}#sk-container-id-15 div.sk-serial {display: flex;flex-direction: column;align-items: center;background-color: white;padding-right: 0.2em;padding-left: 0.2em;position: relative;}#sk-container-id-15 div.sk-item {position: relative;z-index: 1;}#sk-container-id-15 div.sk-parallel {display: flex;align-items: stretch;justify-content: center;background-color: white;position: relative;}#sk-container-id-15 div.sk-item::before, #sk-container-id-15 div.sk-parallel-item::before {content: \"\";position: absolute;border-left: 1px solid gray;box-sizing: border-box;top: 0;bottom: 0;left: 50%;z-index: -1;}#sk-container-id-15 div.sk-parallel-item {display: flex;flex-direction: column;z-index: 1;position: relative;background-color: white;}#sk-container-id-15 div.sk-parallel-item:first-child::after {align-self: flex-end;width: 50%;}#sk-container-id-15 div.sk-parallel-item:last-child::after {align-self: flex-start;width: 50%;}#sk-container-id-15 div.sk-parallel-item:only-child::after {width: 0;}#sk-container-id-15 div.sk-dashed-wrapped {border: 1px dashed gray;margin: 0 0.4em 0.5em 0.4em;box-sizing: border-box;padding-bottom: 0.4em;background-color: white;}#sk-container-id-15 div.sk-label label {font-family: monospace;font-weight: bold;display: inline-block;line-height: 1.2em;}#sk-container-id-15 div.sk-label-container {text-align: center;}#sk-container-id-15 div.sk-container {/* jupyter's `normalize.less` sets `[hidden] { display: none; }` but bootstrap.min.css set `[hidden] { display: none !important; }` so we also need the `!important` here to be able to override the default hidden behavior on the sphinx rendered scikit-learn.org. See: https://github.com/scikit-learn/scikit-learn/issues/21755 */display: inline-block !important;position: relative;}#sk-container-id-15 div.sk-text-repr-fallback {display: none;}</style><div id=\"sk-container-id-15\" class=\"sk-top-container\"><div class=\"sk-text-repr-fallback\"><pre>ElasticNet(alpha=0.1, l1_ratio=0.6)</pre><b>In a Jupyter environment, please rerun this cell to show the HTML representation or trust the notebook. <br />On GitHub, the HTML representation is unable to render, please try loading this page with nbviewer.org.</b></div><div class=\"sk-container\" hidden><div class=\"sk-item\"><div class=\"sk-estimator sk-toggleable\"><input class=\"sk-toggleable__control sk-hidden--visually\" id=\"sk-estimator-id-15\" type=\"checkbox\" checked><label for=\"sk-estimator-id-15\" class=\"sk-toggleable__label sk-toggleable__label-arrow\">ElasticNet</label><div class=\"sk-toggleable__content\"><pre>ElasticNet(alpha=0.1, l1_ratio=0.6)</pre></div></div></div></div></div>"
      ],
      "text/plain": [
       "ElasticNet(alpha=0.1, l1_ratio=0.6)"
      ]
     },
     "execution_count": 102,
     "metadata": {},
     "output_type": "execute_result"
    }
   ],
   "source": [
    "# Fit the model to the training data\n",
    "elastic_net.fit(X_train, y_train)"
   ]
  },
  {
   "cell_type": "code",
   "execution_count": 103,
   "id": "3119135f",
   "metadata": {},
   "outputs": [],
   "source": [
    "# Make predictions on the test data\n",
    "y_pred = elastic_net.predict(X_test)"
   ]
  },
  {
   "cell_type": "code",
   "execution_count": 104,
   "id": "d2cb4b3a",
   "metadata": {},
   "outputs": [
    {
     "name": "stdout",
     "output_type": "stream",
     "text": [
      "Mean Squared Error: 8.648219553302534\n"
     ]
    }
   ],
   "source": [
    "mse = mean_squared_error(y_test, y_pred)\n",
    "print(f\"Mean Squared Error: {mse}\")"
   ]
  },
  {
   "cell_type": "code",
   "execution_count": 105,
   "id": "625afbee",
   "metadata": {},
   "outputs": [
    {
     "name": "stdout",
     "output_type": "stream",
     "text": [
      "Coefficients: [-4.43992329e-02  1.93068706e-02 -1.25997538e-02 -1.67785429e+00\n",
      "  1.76942425e-03  7.39525655e-03  1.48451693e-02 -8.93659685e-02\n",
      "  2.77972898e+00  1.27261384e-01 -2.90509593e-02]\n",
      "Intercept: [-2.63310327]\n"
     ]
    }
   ],
   "source": [
    "# You can also access the model's coefficients to see the feature importances\n",
    "coefficients = elastic_net.coef_\n",
    "intercept = elastic_net.intercept_\n",
    "print(\"Coefficients:\", coefficients)\n",
    "print(\"Intercept:\", intercept)"
   ]
  },
  {
   "cell_type": "code",
   "execution_count": 106,
   "id": "9af1a5ec",
   "metadata": {},
   "outputs": [
    {
     "name": "stdout",
     "output_type": "stream",
     "text": [
      "R-squared Accuracy: 0.9694056299308346\n"
     ]
    }
   ],
   "source": [
    "# Calculate the R-squared (R2) accuracy\n",
    "r2_accuracy = r2_score(y_test, y_pred)\n",
    "print(f\"R-squared Accuracy: {r2_accuracy}\")"
   ]
  },
  {
   "cell_type": "code",
   "execution_count": null,
   "id": "e6cb024a",
   "metadata": {},
   "outputs": [],
   "source": []
  },
  {
   "cell_type": "code",
   "execution_count": null,
   "id": "acd0d6e9",
   "metadata": {},
   "outputs": [],
   "source": []
  }
 ],
 "metadata": {
  "kernelspec": {
   "display_name": "Python 3 (ipykernel)",
   "language": "python",
   "name": "python3"
  },
  "language_info": {
   "codemirror_mode": {
    "name": "ipython",
    "version": 3
   },
   "file_extension": ".py",
   "mimetype": "text/x-python",
   "name": "python",
   "nbconvert_exporter": "python",
   "pygments_lexer": "ipython3",
   "version": "3.11.4"
  }
 },
 "nbformat": 4,
 "nbformat_minor": 5
}
