{
 "cells": [
  {
   "cell_type": "code",
   "execution_count": 20,
   "id": "68c40946",
   "metadata": {},
   "outputs": [],
   "source": [
    "import matplotlib.pyplot as plt\n",
    "import pandas as pd\n",
    "import seaborn as sns\n",
    "from sklearn.model_selection import train_test_split\n",
    "from sklearn import linear_model\n",
    "from sklearn.linear_model import LinearRegression\n",
    "from sklearn.linear_model import Ridge"
   ]
  },
  {
   "cell_type": "code",
   "execution_count": 2,
   "id": "ce80accc",
   "metadata": {},
   "outputs": [],
   "source": [
    "# Suppress Warnings for clean notebook\n",
    "import warnings\n",
    "warnings.filterwarnings('ignore')"
   ]
  },
  {
   "cell_type": "code",
   "execution_count": 3,
   "id": "28fe262c",
   "metadata": {},
   "outputs": [
    {
     "data": {
      "text/html": [
       "<div>\n",
       "<style scoped>\n",
       "    .dataframe tbody tr th:only-of-type {\n",
       "        vertical-align: middle;\n",
       "    }\n",
       "\n",
       "    .dataframe tbody tr th {\n",
       "        vertical-align: top;\n",
       "    }\n",
       "\n",
       "    .dataframe thead th {\n",
       "        text-align: right;\n",
       "    }\n",
       "</style>\n",
       "<table border=\"1\" class=\"dataframe\">\n",
       "  <thead>\n",
       "    <tr style=\"text-align: right;\">\n",
       "      <th></th>\n",
       "      <th>u_q</th>\n",
       "      <th>coolant</th>\n",
       "      <th>stator_winding</th>\n",
       "      <th>u_d</th>\n",
       "      <th>stator_tooth</th>\n",
       "      <th>motor_speed</th>\n",
       "      <th>i_d</th>\n",
       "      <th>i_q</th>\n",
       "      <th>pm</th>\n",
       "      <th>stator_yoke</th>\n",
       "      <th>ambient</th>\n",
       "      <th>torque</th>\n",
       "    </tr>\n",
       "  </thead>\n",
       "  <tbody>\n",
       "    <tr>\n",
       "      <th>0</th>\n",
       "      <td>90.301086</td>\n",
       "      <td>19.310339</td>\n",
       "      <td>46.627861</td>\n",
       "      <td>-92.912933</td>\n",
       "      <td>37.219505</td>\n",
       "      <td>4999.959473</td>\n",
       "      <td>-141.435104</td>\n",
       "      <td>52.935848</td>\n",
       "      <td>35.045197</td>\n",
       "      <td>27.430012</td>\n",
       "      <td>20.899378</td>\n",
       "      <td>48.561615</td>\n",
       "    </tr>\n",
       "    <tr>\n",
       "      <th>1</th>\n",
       "      <td>90.450218</td>\n",
       "      <td>19.312284</td>\n",
       "      <td>46.660896</td>\n",
       "      <td>-92.856468</td>\n",
       "      <td>37.326965</td>\n",
       "      <td>4999.958008</td>\n",
       "      <td>-141.503265</td>\n",
       "      <td>52.955212</td>\n",
       "      <td>35.090080</td>\n",
       "      <td>27.474701</td>\n",
       "      <td>21.009548</td>\n",
       "      <td>48.472355</td>\n",
       "    </tr>\n",
       "    <tr>\n",
       "      <th>2</th>\n",
       "      <td>90.530746</td>\n",
       "      <td>19.303518</td>\n",
       "      <td>46.493481</td>\n",
       "      <td>-92.806671</td>\n",
       "      <td>37.351593</td>\n",
       "      <td>4999.955078</td>\n",
       "      <td>-141.524933</td>\n",
       "      <td>52.981113</td>\n",
       "      <td>35.137783</td>\n",
       "      <td>27.520298</td>\n",
       "      <td>21.024719</td>\n",
       "      <td>48.556767</td>\n",
       "    </tr>\n",
       "    <tr>\n",
       "      <th>3</th>\n",
       "      <td>90.633858</td>\n",
       "      <td>19.265827</td>\n",
       "      <td>46.390057</td>\n",
       "      <td>-92.744507</td>\n",
       "      <td>37.405773</td>\n",
       "      <td>4999.953613</td>\n",
       "      <td>-141.659454</td>\n",
       "      <td>52.957489</td>\n",
       "      <td>35.175957</td>\n",
       "      <td>27.596558</td>\n",
       "      <td>21.067995</td>\n",
       "      <td>48.486523</td>\n",
       "    </tr>\n",
       "    <tr>\n",
       "      <th>4</th>\n",
       "      <td>90.783813</td>\n",
       "      <td>19.215105</td>\n",
       "      <td>46.461845</td>\n",
       "      <td>-92.682083</td>\n",
       "      <td>37.428577</td>\n",
       "      <td>4999.952637</td>\n",
       "      <td>-141.654755</td>\n",
       "      <td>52.955505</td>\n",
       "      <td>35.237061</td>\n",
       "      <td>27.663696</td>\n",
       "      <td>21.140137</td>\n",
       "      <td>48.430492</td>\n",
       "    </tr>\n",
       "  </tbody>\n",
       "</table>\n",
       "</div>"
      ],
      "text/plain": [
       "         u_q    coolant  stator_winding        u_d  stator_tooth  motor_speed  \\\n",
       "0  90.301086  19.310339       46.627861 -92.912933     37.219505  4999.959473   \n",
       "1  90.450218  19.312284       46.660896 -92.856468     37.326965  4999.958008   \n",
       "2  90.530746  19.303518       46.493481 -92.806671     37.351593  4999.955078   \n",
       "3  90.633858  19.265827       46.390057 -92.744507     37.405773  4999.953613   \n",
       "4  90.783813  19.215105       46.461845 -92.682083     37.428577  4999.952637   \n",
       "\n",
       "          i_d        i_q         pm  stator_yoke    ambient     torque  \n",
       "0 -141.435104  52.935848  35.045197    27.430012  20.899378  48.561615  \n",
       "1 -141.503265  52.955212  35.090080    27.474701  21.009548  48.472355  \n",
       "2 -141.524933  52.981113  35.137783    27.520298  21.024719  48.556767  \n",
       "3 -141.659454  52.957489  35.175957    27.596558  21.067995  48.486523  \n",
       "4 -141.654755  52.955505  35.237061    27.663696  21.140137  48.430492  "
      ]
     },
     "execution_count": 3,
     "metadata": {},
     "output_type": "execute_result"
    }
   ],
   "source": [
    "org = pd.read_csv(\"outlier_removed_org.csv\")\n",
    "org.head()"
   ]
  },
  {
   "cell_type": "code",
   "execution_count": 6,
   "id": "f2d903da",
   "metadata": {},
   "outputs": [
    {
     "data": {
      "text/html": [
       "<div>\n",
       "<style scoped>\n",
       "    .dataframe tbody tr th:only-of-type {\n",
       "        vertical-align: middle;\n",
       "    }\n",
       "\n",
       "    .dataframe tbody tr th {\n",
       "        vertical-align: top;\n",
       "    }\n",
       "\n",
       "    .dataframe thead th {\n",
       "        text-align: right;\n",
       "    }\n",
       "</style>\n",
       "<table border=\"1\" class=\"dataframe\">\n",
       "  <thead>\n",
       "    <tr style=\"text-align: right;\">\n",
       "      <th></th>\n",
       "      <th>u_q</th>\n",
       "      <th>coolant</th>\n",
       "      <th>stator_winding</th>\n",
       "      <th>u_d</th>\n",
       "      <th>stator_tooth</th>\n",
       "      <th>i_d</th>\n",
       "      <th>i_q</th>\n",
       "      <th>pm</th>\n",
       "      <th>stator_yoke</th>\n",
       "      <th>ambient</th>\n",
       "      <th>torque</th>\n",
       "    </tr>\n",
       "  </thead>\n",
       "  <tbody>\n",
       "    <tr>\n",
       "      <th>0</th>\n",
       "      <td>90.301086</td>\n",
       "      <td>19.310339</td>\n",
       "      <td>46.627861</td>\n",
       "      <td>-92.912933</td>\n",
       "      <td>37.219505</td>\n",
       "      <td>-141.435104</td>\n",
       "      <td>52.935848</td>\n",
       "      <td>35.045197</td>\n",
       "      <td>27.430012</td>\n",
       "      <td>20.899378</td>\n",
       "      <td>48.561615</td>\n",
       "    </tr>\n",
       "    <tr>\n",
       "      <th>1</th>\n",
       "      <td>90.450218</td>\n",
       "      <td>19.312284</td>\n",
       "      <td>46.660896</td>\n",
       "      <td>-92.856468</td>\n",
       "      <td>37.326965</td>\n",
       "      <td>-141.503265</td>\n",
       "      <td>52.955212</td>\n",
       "      <td>35.090080</td>\n",
       "      <td>27.474701</td>\n",
       "      <td>21.009548</td>\n",
       "      <td>48.472355</td>\n",
       "    </tr>\n",
       "    <tr>\n",
       "      <th>2</th>\n",
       "      <td>90.530746</td>\n",
       "      <td>19.303518</td>\n",
       "      <td>46.493481</td>\n",
       "      <td>-92.806671</td>\n",
       "      <td>37.351593</td>\n",
       "      <td>-141.524933</td>\n",
       "      <td>52.981113</td>\n",
       "      <td>35.137783</td>\n",
       "      <td>27.520298</td>\n",
       "      <td>21.024719</td>\n",
       "      <td>48.556767</td>\n",
       "    </tr>\n",
       "    <tr>\n",
       "      <th>3</th>\n",
       "      <td>90.633858</td>\n",
       "      <td>19.265827</td>\n",
       "      <td>46.390057</td>\n",
       "      <td>-92.744507</td>\n",
       "      <td>37.405773</td>\n",
       "      <td>-141.659454</td>\n",
       "      <td>52.957489</td>\n",
       "      <td>35.175957</td>\n",
       "      <td>27.596558</td>\n",
       "      <td>21.067995</td>\n",
       "      <td>48.486523</td>\n",
       "    </tr>\n",
       "    <tr>\n",
       "      <th>4</th>\n",
       "      <td>90.783813</td>\n",
       "      <td>19.215105</td>\n",
       "      <td>46.461845</td>\n",
       "      <td>-92.682083</td>\n",
       "      <td>37.428577</td>\n",
       "      <td>-141.654755</td>\n",
       "      <td>52.955505</td>\n",
       "      <td>35.237061</td>\n",
       "      <td>27.663696</td>\n",
       "      <td>21.140137</td>\n",
       "      <td>48.430492</td>\n",
       "    </tr>\n",
       "  </tbody>\n",
       "</table>\n",
       "</div>"
      ],
      "text/plain": [
       "         u_q    coolant  stator_winding        u_d  stator_tooth         i_d  \\\n",
       "0  90.301086  19.310339       46.627861 -92.912933     37.219505 -141.435104   \n",
       "1  90.450218  19.312284       46.660896 -92.856468     37.326965 -141.503265   \n",
       "2  90.530746  19.303518       46.493481 -92.806671     37.351593 -141.524933   \n",
       "3  90.633858  19.265827       46.390057 -92.744507     37.405773 -141.659454   \n",
       "4  90.783813  19.215105       46.461845 -92.682083     37.428577 -141.654755   \n",
       "\n",
       "         i_q         pm  stator_yoke    ambient     torque  \n",
       "0  52.935848  35.045197    27.430012  20.899378  48.561615  \n",
       "1  52.955212  35.090080    27.474701  21.009548  48.472355  \n",
       "2  52.981113  35.137783    27.520298  21.024719  48.556767  \n",
       "3  52.957489  35.175957    27.596558  21.067995  48.486523  \n",
       "4  52.955505  35.237061    27.663696  21.140137  48.430492  "
      ]
     },
     "execution_count": 6,
     "metadata": {},
     "output_type": "execute_result"
    }
   ],
   "source": [
    "X = org.drop(['motor_speed'], axis=1)\n",
    "X.head()"
   ]
  },
  {
   "cell_type": "code",
   "execution_count": 7,
   "id": "799e5024",
   "metadata": {},
   "outputs": [
    {
     "data": {
      "text/html": [
       "<div>\n",
       "<style scoped>\n",
       "    .dataframe tbody tr th:only-of-type {\n",
       "        vertical-align: middle;\n",
       "    }\n",
       "\n",
       "    .dataframe tbody tr th {\n",
       "        vertical-align: top;\n",
       "    }\n",
       "\n",
       "    .dataframe thead th {\n",
       "        text-align: right;\n",
       "    }\n",
       "</style>\n",
       "<table border=\"1\" class=\"dataframe\">\n",
       "  <thead>\n",
       "    <tr style=\"text-align: right;\">\n",
       "      <th></th>\n",
       "      <th>motor_speed</th>\n",
       "    </tr>\n",
       "  </thead>\n",
       "  <tbody>\n",
       "    <tr>\n",
       "      <th>0</th>\n",
       "      <td>4999.959473</td>\n",
       "    </tr>\n",
       "    <tr>\n",
       "      <th>1</th>\n",
       "      <td>4999.958008</td>\n",
       "    </tr>\n",
       "    <tr>\n",
       "      <th>2</th>\n",
       "      <td>4999.955078</td>\n",
       "    </tr>\n",
       "    <tr>\n",
       "      <th>3</th>\n",
       "      <td>4999.953613</td>\n",
       "    </tr>\n",
       "    <tr>\n",
       "      <th>4</th>\n",
       "      <td>4999.952637</td>\n",
       "    </tr>\n",
       "  </tbody>\n",
       "</table>\n",
       "</div>"
      ],
      "text/plain": [
       "   motor_speed\n",
       "0  4999.959473\n",
       "1  4999.958008\n",
       "2  4999.955078\n",
       "3  4999.953613\n",
       "4  4999.952637"
      ]
     },
     "execution_count": 7,
     "metadata": {},
     "output_type": "execute_result"
    }
   ],
   "source": [
    "y = org[['motor_speed']]\n",
    "y.head()"
   ]
  },
  {
   "cell_type": "code",
   "execution_count": 8,
   "id": "2234c5f1",
   "metadata": {},
   "outputs": [],
   "source": [
    "train_X, test_X, train_y, test_y = train_test_split(X, y, test_size=0.2, random_state=2)"
   ]
  },
  {
   "cell_type": "code",
   "execution_count": 13,
   "id": "e79b01d7",
   "metadata": {},
   "outputs": [],
   "source": [
    "reg = LinearRegression().fit(train_X, train_y)"
   ]
  },
  {
   "cell_type": "code",
   "execution_count": 14,
   "id": "31a05616",
   "metadata": {},
   "outputs": [
    {
     "data": {
      "text/plain": [
       "0.983779032453067"
      ]
     },
     "execution_count": 14,
     "metadata": {},
     "output_type": "execute_result"
    }
   ],
   "source": [
    "reg.score(test_X, test_y)"
   ]
  },
  {
   "cell_type": "code",
   "execution_count": 15,
   "id": "a65fea15",
   "metadata": {},
   "outputs": [
    {
     "data": {
      "text/plain": [
       "0.9841454313133577"
      ]
     },
     "execution_count": 15,
     "metadata": {},
     "output_type": "execute_result"
    }
   ],
   "source": [
    "reg.score(train_X, train_y)"
   ]
  },
  {
   "cell_type": "code",
   "execution_count": 118,
   "id": "d9188d73",
   "metadata": {},
   "outputs": [
    {
     "data": {
      "text/html": [
       "<style>#sk-container-id-35 {color: black;}#sk-container-id-35 pre{padding: 0;}#sk-container-id-35 div.sk-toggleable {background-color: white;}#sk-container-id-35 label.sk-toggleable__label {cursor: pointer;display: block;width: 100%;margin-bottom: 0;padding: 0.3em;box-sizing: border-box;text-align: center;}#sk-container-id-35 label.sk-toggleable__label-arrow:before {content: \"▸\";float: left;margin-right: 0.25em;color: #696969;}#sk-container-id-35 label.sk-toggleable__label-arrow:hover:before {color: black;}#sk-container-id-35 div.sk-estimator:hover label.sk-toggleable__label-arrow:before {color: black;}#sk-container-id-35 div.sk-toggleable__content {max-height: 0;max-width: 0;overflow: hidden;text-align: left;background-color: #f0f8ff;}#sk-container-id-35 div.sk-toggleable__content pre {margin: 0.2em;color: black;border-radius: 0.25em;background-color: #f0f8ff;}#sk-container-id-35 input.sk-toggleable__control:checked~div.sk-toggleable__content {max-height: 200px;max-width: 100%;overflow: auto;}#sk-container-id-35 input.sk-toggleable__control:checked~label.sk-toggleable__label-arrow:before {content: \"▾\";}#sk-container-id-35 div.sk-estimator input.sk-toggleable__control:checked~label.sk-toggleable__label {background-color: #d4ebff;}#sk-container-id-35 div.sk-label input.sk-toggleable__control:checked~label.sk-toggleable__label {background-color: #d4ebff;}#sk-container-id-35 input.sk-hidden--visually {border: 0;clip: rect(1px 1px 1px 1px);clip: rect(1px, 1px, 1px, 1px);height: 1px;margin: -1px;overflow: hidden;padding: 0;position: absolute;width: 1px;}#sk-container-id-35 div.sk-estimator {font-family: monospace;background-color: #f0f8ff;border: 1px dotted black;border-radius: 0.25em;box-sizing: border-box;margin-bottom: 0.5em;}#sk-container-id-35 div.sk-estimator:hover {background-color: #d4ebff;}#sk-container-id-35 div.sk-parallel-item::after {content: \"\";width: 100%;border-bottom: 1px solid gray;flex-grow: 1;}#sk-container-id-35 div.sk-label:hover label.sk-toggleable__label {background-color: #d4ebff;}#sk-container-id-35 div.sk-serial::before {content: \"\";position: absolute;border-left: 1px solid gray;box-sizing: border-box;top: 0;bottom: 0;left: 50%;z-index: 0;}#sk-container-id-35 div.sk-serial {display: flex;flex-direction: column;align-items: center;background-color: white;padding-right: 0.2em;padding-left: 0.2em;position: relative;}#sk-container-id-35 div.sk-item {position: relative;z-index: 1;}#sk-container-id-35 div.sk-parallel {display: flex;align-items: stretch;justify-content: center;background-color: white;position: relative;}#sk-container-id-35 div.sk-item::before, #sk-container-id-35 div.sk-parallel-item::before {content: \"\";position: absolute;border-left: 1px solid gray;box-sizing: border-box;top: 0;bottom: 0;left: 50%;z-index: -1;}#sk-container-id-35 div.sk-parallel-item {display: flex;flex-direction: column;z-index: 1;position: relative;background-color: white;}#sk-container-id-35 div.sk-parallel-item:first-child::after {align-self: flex-end;width: 50%;}#sk-container-id-35 div.sk-parallel-item:last-child::after {align-self: flex-start;width: 50%;}#sk-container-id-35 div.sk-parallel-item:only-child::after {width: 0;}#sk-container-id-35 div.sk-dashed-wrapped {border: 1px dashed gray;margin: 0 0.4em 0.5em 0.4em;box-sizing: border-box;padding-bottom: 0.4em;background-color: white;}#sk-container-id-35 div.sk-label label {font-family: monospace;font-weight: bold;display: inline-block;line-height: 1.2em;}#sk-container-id-35 div.sk-label-container {text-align: center;}#sk-container-id-35 div.sk-container {/* jupyter's `normalize.less` sets `[hidden] { display: none; }` but bootstrap.min.css set `[hidden] { display: none !important; }` so we also need the `!important` here to be able to override the default hidden behavior on the sphinx rendered scikit-learn.org. See: https://github.com/scikit-learn/scikit-learn/issues/21755 */display: inline-block !important;position: relative;}#sk-container-id-35 div.sk-text-repr-fallback {display: none;}</style><div id=\"sk-container-id-35\" class=\"sk-top-container\"><div class=\"sk-text-repr-fallback\"><pre>Lasso(alpha=4, max_iter=50000, tol=2e-18)</pre><b>In a Jupyter environment, please rerun this cell to show the HTML representation or trust the notebook. <br />On GitHub, the HTML representation is unable to render, please try loading this page with nbviewer.org.</b></div><div class=\"sk-container\" hidden><div class=\"sk-item\"><div class=\"sk-estimator sk-toggleable\"><input class=\"sk-toggleable__control sk-hidden--visually\" id=\"sk-estimator-id-35\" type=\"checkbox\" checked><label for=\"sk-estimator-id-35\" class=\"sk-toggleable__label sk-toggleable__label-arrow\">Lasso</label><div class=\"sk-toggleable__content\"><pre>Lasso(alpha=4, max_iter=50000, tol=2e-18)</pre></div></div></div></div></div>"
      ],
      "text/plain": [
       "Lasso(alpha=4, max_iter=50000, tol=2e-18)"
      ]
     },
     "execution_count": 118,
     "metadata": {},
     "output_type": "execute_result"
    }
   ],
   "source": [
    "lasso_reg = linear_model.Lasso(alpha=10, max_iter=50000, tol=0.000000000000000002)\n",
    "lasso_reg.fit(train_X, train_y)"
   ]
  },
  {
   "cell_type": "code",
   "execution_count": 119,
   "id": "eaa705bf",
   "metadata": {},
   "outputs": [
    {
     "data": {
      "text/plain": [
       "0.9837344705565553"
      ]
     },
     "execution_count": 119,
     "metadata": {},
     "output_type": "execute_result"
    }
   ],
   "source": [
    "lasso_reg.score(test_X, test_y)"
   ]
  },
  {
   "cell_type": "code",
   "execution_count": 120,
   "id": "9adf779e",
   "metadata": {},
   "outputs": [
    {
     "data": {
      "text/plain": [
       "0.9841057354595181"
      ]
     },
     "execution_count": 120,
     "metadata": {},
     "output_type": "execute_result"
    }
   ],
   "source": [
    "lasso_reg.score(train_X, train_y)"
   ]
  },
  {
   "cell_type": "code",
   "execution_count": 94,
   "id": "bab2f3b7",
   "metadata": {},
   "outputs": [
    {
     "data": {
      "text/html": [
       "<style>#sk-container-id-27 {color: black;}#sk-container-id-27 pre{padding: 0;}#sk-container-id-27 div.sk-toggleable {background-color: white;}#sk-container-id-27 label.sk-toggleable__label {cursor: pointer;display: block;width: 100%;margin-bottom: 0;padding: 0.3em;box-sizing: border-box;text-align: center;}#sk-container-id-27 label.sk-toggleable__label-arrow:before {content: \"▸\";float: left;margin-right: 0.25em;color: #696969;}#sk-container-id-27 label.sk-toggleable__label-arrow:hover:before {color: black;}#sk-container-id-27 div.sk-estimator:hover label.sk-toggleable__label-arrow:before {color: black;}#sk-container-id-27 div.sk-toggleable__content {max-height: 0;max-width: 0;overflow: hidden;text-align: left;background-color: #f0f8ff;}#sk-container-id-27 div.sk-toggleable__content pre {margin: 0.2em;color: black;border-radius: 0.25em;background-color: #f0f8ff;}#sk-container-id-27 input.sk-toggleable__control:checked~div.sk-toggleable__content {max-height: 200px;max-width: 100%;overflow: auto;}#sk-container-id-27 input.sk-toggleable__control:checked~label.sk-toggleable__label-arrow:before {content: \"▾\";}#sk-container-id-27 div.sk-estimator input.sk-toggleable__control:checked~label.sk-toggleable__label {background-color: #d4ebff;}#sk-container-id-27 div.sk-label input.sk-toggleable__control:checked~label.sk-toggleable__label {background-color: #d4ebff;}#sk-container-id-27 input.sk-hidden--visually {border: 0;clip: rect(1px 1px 1px 1px);clip: rect(1px, 1px, 1px, 1px);height: 1px;margin: -1px;overflow: hidden;padding: 0;position: absolute;width: 1px;}#sk-container-id-27 div.sk-estimator {font-family: monospace;background-color: #f0f8ff;border: 1px dotted black;border-radius: 0.25em;box-sizing: border-box;margin-bottom: 0.5em;}#sk-container-id-27 div.sk-estimator:hover {background-color: #d4ebff;}#sk-container-id-27 div.sk-parallel-item::after {content: \"\";width: 100%;border-bottom: 1px solid gray;flex-grow: 1;}#sk-container-id-27 div.sk-label:hover label.sk-toggleable__label {background-color: #d4ebff;}#sk-container-id-27 div.sk-serial::before {content: \"\";position: absolute;border-left: 1px solid gray;box-sizing: border-box;top: 0;bottom: 0;left: 50%;z-index: 0;}#sk-container-id-27 div.sk-serial {display: flex;flex-direction: column;align-items: center;background-color: white;padding-right: 0.2em;padding-left: 0.2em;position: relative;}#sk-container-id-27 div.sk-item {position: relative;z-index: 1;}#sk-container-id-27 div.sk-parallel {display: flex;align-items: stretch;justify-content: center;background-color: white;position: relative;}#sk-container-id-27 div.sk-item::before, #sk-container-id-27 div.sk-parallel-item::before {content: \"\";position: absolute;border-left: 1px solid gray;box-sizing: border-box;top: 0;bottom: 0;left: 50%;z-index: -1;}#sk-container-id-27 div.sk-parallel-item {display: flex;flex-direction: column;z-index: 1;position: relative;background-color: white;}#sk-container-id-27 div.sk-parallel-item:first-child::after {align-self: flex-end;width: 50%;}#sk-container-id-27 div.sk-parallel-item:last-child::after {align-self: flex-start;width: 50%;}#sk-container-id-27 div.sk-parallel-item:only-child::after {width: 0;}#sk-container-id-27 div.sk-dashed-wrapped {border: 1px dashed gray;margin: 0 0.4em 0.5em 0.4em;box-sizing: border-box;padding-bottom: 0.4em;background-color: white;}#sk-container-id-27 div.sk-label label {font-family: monospace;font-weight: bold;display: inline-block;line-height: 1.2em;}#sk-container-id-27 div.sk-label-container {text-align: center;}#sk-container-id-27 div.sk-container {/* jupyter's `normalize.less` sets `[hidden] { display: none; }` but bootstrap.min.css set `[hidden] { display: none !important; }` so we also need the `!important` here to be able to override the default hidden behavior on the sphinx rendered scikit-learn.org. See: https://github.com/scikit-learn/scikit-learn/issues/21755 */display: inline-block !important;position: relative;}#sk-container-id-27 div.sk-text-repr-fallback {display: none;}</style><div id=\"sk-container-id-27\" class=\"sk-top-container\"><div class=\"sk-text-repr-fallback\"><pre>Ridge(alpha=30, max_iter=60, tol=0.1)</pre><b>In a Jupyter environment, please rerun this cell to show the HTML representation or trust the notebook. <br />On GitHub, the HTML representation is unable to render, please try loading this page with nbviewer.org.</b></div><div class=\"sk-container\" hidden><div class=\"sk-item\"><div class=\"sk-estimator sk-toggleable\"><input class=\"sk-toggleable__control sk-hidden--visually\" id=\"sk-estimator-id-27\" type=\"checkbox\" checked><label for=\"sk-estimator-id-27\" class=\"sk-toggleable__label sk-toggleable__label-arrow\">Ridge</label><div class=\"sk-toggleable__content\"><pre>Ridge(alpha=30, max_iter=60, tol=0.1)</pre></div></div></div></div></div>"
      ],
      "text/plain": [
       "Ridge(alpha=30, max_iter=60, tol=0.1)"
      ]
     },
     "execution_count": 94,
     "metadata": {},
     "output_type": "execute_result"
    }
   ],
   "source": [
    "ridge_reg= Ridge(alpha=30, max_iter=60, tol=0.1)\n",
    "ridge_reg.fit(train_X, train_y)"
   ]
  },
  {
   "cell_type": "code",
   "execution_count": 95,
   "id": "dfadc7ed",
   "metadata": {},
   "outputs": [
    {
     "data": {
      "text/plain": [
       "0.9837790324866321"
      ]
     },
     "execution_count": 95,
     "metadata": {},
     "output_type": "execute_result"
    }
   ],
   "source": [
    "ridge_reg.score(test_X, test_y)"
   ]
  },
  {
   "cell_type": "code",
   "execution_count": 96,
   "id": "35f46064",
   "metadata": {},
   "outputs": [
    {
     "data": {
      "text/plain": [
       "0.9841454313110556"
      ]
     },
     "execution_count": 96,
     "metadata": {},
     "output_type": "execute_result"
    }
   ],
   "source": [
    "ridge_reg.score(train_X, train_y)"
   ]
  },
  {
   "cell_type": "code",
   "execution_count": 121,
   "id": "5957a8c0",
   "metadata": {},
   "outputs": [
    {
     "data": {
      "text/html": [
       "<div>\n",
       "<style scoped>\n",
       "    .dataframe tbody tr th:only-of-type {\n",
       "        vertical-align: middle;\n",
       "    }\n",
       "\n",
       "    .dataframe tbody tr th {\n",
       "        vertical-align: top;\n",
       "    }\n",
       "\n",
       "    .dataframe thead th {\n",
       "        text-align: right;\n",
       "    }\n",
       "</style>\n",
       "<table border=\"1\" class=\"dataframe\">\n",
       "  <thead>\n",
       "    <tr style=\"text-align: right;\">\n",
       "      <th></th>\n",
       "      <th>u_q</th>\n",
       "      <th>stator_winding</th>\n",
       "      <th>u_d</th>\n",
       "      <th>stator_tooth</th>\n",
       "      <th>motor_speed</th>\n",
       "      <th>i_d</th>\n",
       "      <th>i_q</th>\n",
       "      <th>pm</th>\n",
       "      <th>stator_yoke</th>\n",
       "      <th>ambient</th>\n",
       "      <th>torque</th>\n",
       "    </tr>\n",
       "  </thead>\n",
       "  <tbody>\n",
       "    <tr>\n",
       "      <th>0</th>\n",
       "      <td>90.301086</td>\n",
       "      <td>46.627861</td>\n",
       "      <td>-92.912933</td>\n",
       "      <td>37.219505</td>\n",
       "      <td>4999.959473</td>\n",
       "      <td>-141.435104</td>\n",
       "      <td>52.935848</td>\n",
       "      <td>35.045197</td>\n",
       "      <td>27.430012</td>\n",
       "      <td>20.899378</td>\n",
       "      <td>48.561615</td>\n",
       "    </tr>\n",
       "    <tr>\n",
       "      <th>1</th>\n",
       "      <td>90.450218</td>\n",
       "      <td>46.660896</td>\n",
       "      <td>-92.856468</td>\n",
       "      <td>37.326965</td>\n",
       "      <td>4999.958008</td>\n",
       "      <td>-141.503265</td>\n",
       "      <td>52.955212</td>\n",
       "      <td>35.090080</td>\n",
       "      <td>27.474701</td>\n",
       "      <td>21.009548</td>\n",
       "      <td>48.472355</td>\n",
       "    </tr>\n",
       "    <tr>\n",
       "      <th>2</th>\n",
       "      <td>90.530746</td>\n",
       "      <td>46.493481</td>\n",
       "      <td>-92.806671</td>\n",
       "      <td>37.351593</td>\n",
       "      <td>4999.955078</td>\n",
       "      <td>-141.524933</td>\n",
       "      <td>52.981113</td>\n",
       "      <td>35.137783</td>\n",
       "      <td>27.520298</td>\n",
       "      <td>21.024719</td>\n",
       "      <td>48.556767</td>\n",
       "    </tr>\n",
       "    <tr>\n",
       "      <th>3</th>\n",
       "      <td>90.633858</td>\n",
       "      <td>46.390057</td>\n",
       "      <td>-92.744507</td>\n",
       "      <td>37.405773</td>\n",
       "      <td>4999.953613</td>\n",
       "      <td>-141.659454</td>\n",
       "      <td>52.957489</td>\n",
       "      <td>35.175957</td>\n",
       "      <td>27.596558</td>\n",
       "      <td>21.067995</td>\n",
       "      <td>48.486523</td>\n",
       "    </tr>\n",
       "    <tr>\n",
       "      <th>4</th>\n",
       "      <td>90.783813</td>\n",
       "      <td>46.461845</td>\n",
       "      <td>-92.682083</td>\n",
       "      <td>37.428577</td>\n",
       "      <td>4999.952637</td>\n",
       "      <td>-141.654755</td>\n",
       "      <td>52.955505</td>\n",
       "      <td>35.237061</td>\n",
       "      <td>27.663696</td>\n",
       "      <td>21.140137</td>\n",
       "      <td>48.430492</td>\n",
       "    </tr>\n",
       "  </tbody>\n",
       "</table>\n",
       "</div>"
      ],
      "text/plain": [
       "         u_q  stator_winding        u_d  stator_tooth  motor_speed  \\\n",
       "0  90.301086       46.627861 -92.912933     37.219505  4999.959473   \n",
       "1  90.450218       46.660896 -92.856468     37.326965  4999.958008   \n",
       "2  90.530746       46.493481 -92.806671     37.351593  4999.955078   \n",
       "3  90.633858       46.390057 -92.744507     37.405773  4999.953613   \n",
       "4  90.783813       46.461845 -92.682083     37.428577  4999.952637   \n",
       "\n",
       "          i_d        i_q         pm  stator_yoke    ambient     torque  \n",
       "0 -141.435104  52.935848  35.045197    27.430012  20.899378  48.561615  \n",
       "1 -141.503265  52.955212  35.090080    27.474701  21.009548  48.472355  \n",
       "2 -141.524933  52.981113  35.137783    27.520298  21.024719  48.556767  \n",
       "3 -141.659454  52.957489  35.175957    27.596558  21.067995  48.486523  \n",
       "4 -141.654755  52.955505  35.237061    27.663696  21.140137  48.430492  "
      ]
     },
     "execution_count": 121,
     "metadata": {},
     "output_type": "execute_result"
    }
   ],
   "source": [
    "X = org.drop(['coolant'], axis=1)\n",
    "X.head()"
   ]
  },
  {
   "cell_type": "code",
   "execution_count": 122,
   "id": "a47226fc",
   "metadata": {},
   "outputs": [
    {
     "data": {
      "text/html": [
       "<div>\n",
       "<style scoped>\n",
       "    .dataframe tbody tr th:only-of-type {\n",
       "        vertical-align: middle;\n",
       "    }\n",
       "\n",
       "    .dataframe tbody tr th {\n",
       "        vertical-align: top;\n",
       "    }\n",
       "\n",
       "    .dataframe thead th {\n",
       "        text-align: right;\n",
       "    }\n",
       "</style>\n",
       "<table border=\"1\" class=\"dataframe\">\n",
       "  <thead>\n",
       "    <tr style=\"text-align: right;\">\n",
       "      <th></th>\n",
       "      <th>coolant</th>\n",
       "    </tr>\n",
       "  </thead>\n",
       "  <tbody>\n",
       "    <tr>\n",
       "      <th>0</th>\n",
       "      <td>19.310339</td>\n",
       "    </tr>\n",
       "    <tr>\n",
       "      <th>1</th>\n",
       "      <td>19.312284</td>\n",
       "    </tr>\n",
       "    <tr>\n",
       "      <th>2</th>\n",
       "      <td>19.303518</td>\n",
       "    </tr>\n",
       "    <tr>\n",
       "      <th>3</th>\n",
       "      <td>19.265827</td>\n",
       "    </tr>\n",
       "    <tr>\n",
       "      <th>4</th>\n",
       "      <td>19.215105</td>\n",
       "    </tr>\n",
       "  </tbody>\n",
       "</table>\n",
       "</div>"
      ],
      "text/plain": [
       "     coolant\n",
       "0  19.310339\n",
       "1  19.312284\n",
       "2  19.303518\n",
       "3  19.265827\n",
       "4  19.215105"
      ]
     },
     "execution_count": 122,
     "metadata": {},
     "output_type": "execute_result"
    }
   ],
   "source": [
    "y = org[['coolant']]\n",
    "y.head()"
   ]
  },
  {
   "cell_type": "code",
   "execution_count": 133,
   "id": "9bccd5e2",
   "metadata": {},
   "outputs": [],
   "source": [
    "train_X, test_X, train_y, test_y = train_test_split(X, y, test_size=0.2, random_state=2)"
   ]
  },
  {
   "cell_type": "code",
   "execution_count": 134,
   "id": "1faa7ee6",
   "metadata": {},
   "outputs": [],
   "source": [
    "reg = LinearRegression().fit(train_X, train_y)"
   ]
  },
  {
   "cell_type": "code",
   "execution_count": 135,
   "id": "175234a9",
   "metadata": {},
   "outputs": [
    {
     "data": {
      "text/plain": [
       "0.9701285969495619"
      ]
     },
     "execution_count": 135,
     "metadata": {},
     "output_type": "execute_result"
    }
   ],
   "source": [
    "reg.score(test_X, test_y)"
   ]
  },
  {
   "cell_type": "code",
   "execution_count": 136,
   "id": "73e84ffc",
   "metadata": {},
   "outputs": [
    {
     "data": {
      "text/plain": [
       "0.9703672920772841"
      ]
     },
     "execution_count": 136,
     "metadata": {},
     "output_type": "execute_result"
    }
   ],
   "source": [
    "reg.score(train_X, train_y)"
   ]
  },
  {
   "cell_type": "code",
   "execution_count": 167,
   "id": "6c1cc29d",
   "metadata": {},
   "outputs": [
    {
     "data": {
      "text/html": [
       "<style>#sk-container-id-46 {color: black;}#sk-container-id-46 pre{padding: 0;}#sk-container-id-46 div.sk-toggleable {background-color: white;}#sk-container-id-46 label.sk-toggleable__label {cursor: pointer;display: block;width: 100%;margin-bottom: 0;padding: 0.3em;box-sizing: border-box;text-align: center;}#sk-container-id-46 label.sk-toggleable__label-arrow:before {content: \"▸\";float: left;margin-right: 0.25em;color: #696969;}#sk-container-id-46 label.sk-toggleable__label-arrow:hover:before {color: black;}#sk-container-id-46 div.sk-estimator:hover label.sk-toggleable__label-arrow:before {color: black;}#sk-container-id-46 div.sk-toggleable__content {max-height: 0;max-width: 0;overflow: hidden;text-align: left;background-color: #f0f8ff;}#sk-container-id-46 div.sk-toggleable__content pre {margin: 0.2em;color: black;border-radius: 0.25em;background-color: #f0f8ff;}#sk-container-id-46 input.sk-toggleable__control:checked~div.sk-toggleable__content {max-height: 200px;max-width: 100%;overflow: auto;}#sk-container-id-46 input.sk-toggleable__control:checked~label.sk-toggleable__label-arrow:before {content: \"▾\";}#sk-container-id-46 div.sk-estimator input.sk-toggleable__control:checked~label.sk-toggleable__label {background-color: #d4ebff;}#sk-container-id-46 div.sk-label input.sk-toggleable__control:checked~label.sk-toggleable__label {background-color: #d4ebff;}#sk-container-id-46 input.sk-hidden--visually {border: 0;clip: rect(1px 1px 1px 1px);clip: rect(1px, 1px, 1px, 1px);height: 1px;margin: -1px;overflow: hidden;padding: 0;position: absolute;width: 1px;}#sk-container-id-46 div.sk-estimator {font-family: monospace;background-color: #f0f8ff;border: 1px dotted black;border-radius: 0.25em;box-sizing: border-box;margin-bottom: 0.5em;}#sk-container-id-46 div.sk-estimator:hover {background-color: #d4ebff;}#sk-container-id-46 div.sk-parallel-item::after {content: \"\";width: 100%;border-bottom: 1px solid gray;flex-grow: 1;}#sk-container-id-46 div.sk-label:hover label.sk-toggleable__label {background-color: #d4ebff;}#sk-container-id-46 div.sk-serial::before {content: \"\";position: absolute;border-left: 1px solid gray;box-sizing: border-box;top: 0;bottom: 0;left: 50%;z-index: 0;}#sk-container-id-46 div.sk-serial {display: flex;flex-direction: column;align-items: center;background-color: white;padding-right: 0.2em;padding-left: 0.2em;position: relative;}#sk-container-id-46 div.sk-item {position: relative;z-index: 1;}#sk-container-id-46 div.sk-parallel {display: flex;align-items: stretch;justify-content: center;background-color: white;position: relative;}#sk-container-id-46 div.sk-item::before, #sk-container-id-46 div.sk-parallel-item::before {content: \"\";position: absolute;border-left: 1px solid gray;box-sizing: border-box;top: 0;bottom: 0;left: 50%;z-index: -1;}#sk-container-id-46 div.sk-parallel-item {display: flex;flex-direction: column;z-index: 1;position: relative;background-color: white;}#sk-container-id-46 div.sk-parallel-item:first-child::after {align-self: flex-end;width: 50%;}#sk-container-id-46 div.sk-parallel-item:last-child::after {align-self: flex-start;width: 50%;}#sk-container-id-46 div.sk-parallel-item:only-child::after {width: 0;}#sk-container-id-46 div.sk-dashed-wrapped {border: 1px dashed gray;margin: 0 0.4em 0.5em 0.4em;box-sizing: border-box;padding-bottom: 0.4em;background-color: white;}#sk-container-id-46 div.sk-label label {font-family: monospace;font-weight: bold;display: inline-block;line-height: 1.2em;}#sk-container-id-46 div.sk-label-container {text-align: center;}#sk-container-id-46 div.sk-container {/* jupyter's `normalize.less` sets `[hidden] { display: none; }` but bootstrap.min.css set `[hidden] { display: none !important; }` so we also need the `!important` here to be able to override the default hidden behavior on the sphinx rendered scikit-learn.org. See: https://github.com/scikit-learn/scikit-learn/issues/21755 */display: inline-block !important;position: relative;}#sk-container-id-46 div.sk-text-repr-fallback {display: none;}</style><div id=\"sk-container-id-46\" class=\"sk-top-container\"><div class=\"sk-text-repr-fallback\"><pre>Lasso(alpha=0.07, max_iter=3000, tol=2e-06)</pre><b>In a Jupyter environment, please rerun this cell to show the HTML representation or trust the notebook. <br />On GitHub, the HTML representation is unable to render, please try loading this page with nbviewer.org.</b></div><div class=\"sk-container\" hidden><div class=\"sk-item\"><div class=\"sk-estimator sk-toggleable\"><input class=\"sk-toggleable__control sk-hidden--visually\" id=\"sk-estimator-id-46\" type=\"checkbox\" checked><label for=\"sk-estimator-id-46\" class=\"sk-toggleable__label sk-toggleable__label-arrow\">Lasso</label><div class=\"sk-toggleable__content\"><pre>Lasso(alpha=0.07, max_iter=3000, tol=2e-06)</pre></div></div></div></div></div>"
      ],
      "text/plain": [
       "Lasso(alpha=0.07, max_iter=3000, tol=2e-06)"
      ]
     },
     "execution_count": 167,
     "metadata": {},
     "output_type": "execute_result"
    }
   ],
   "source": [
    "lasso_reg = linear_model.Lasso(alpha=0.07, max_iter=3000, tol=0.000002)\n",
    "lasso_reg.fit(train_X, train_y)"
   ]
  },
  {
   "cell_type": "code",
   "execution_count": 168,
   "id": "e71b253c",
   "metadata": {},
   "outputs": [
    {
     "data": {
      "text/plain": [
       "0.969965541232978"
      ]
     },
     "execution_count": 168,
     "metadata": {},
     "output_type": "execute_result"
    }
   ],
   "source": [
    "lasso_reg.score(test_X, test_y)"
   ]
  },
  {
   "cell_type": "code",
   "execution_count": 169,
   "id": "db249463",
   "metadata": {},
   "outputs": [
    {
     "data": {
      "text/plain": [
       "0.9702390126986576"
      ]
     },
     "execution_count": 169,
     "metadata": {},
     "output_type": "execute_result"
    }
   ],
   "source": [
    "lasso_reg.score(train_X, train_y)"
   ]
  },
  {
   "cell_type": "code",
   "execution_count": 203,
   "id": "685b62cf",
   "metadata": {},
   "outputs": [
    {
     "data": {
      "text/html": [
       "<style>#sk-container-id-58 {color: black;}#sk-container-id-58 pre{padding: 0;}#sk-container-id-58 div.sk-toggleable {background-color: white;}#sk-container-id-58 label.sk-toggleable__label {cursor: pointer;display: block;width: 100%;margin-bottom: 0;padding: 0.3em;box-sizing: border-box;text-align: center;}#sk-container-id-58 label.sk-toggleable__label-arrow:before {content: \"▸\";float: left;margin-right: 0.25em;color: #696969;}#sk-container-id-58 label.sk-toggleable__label-arrow:hover:before {color: black;}#sk-container-id-58 div.sk-estimator:hover label.sk-toggleable__label-arrow:before {color: black;}#sk-container-id-58 div.sk-toggleable__content {max-height: 0;max-width: 0;overflow: hidden;text-align: left;background-color: #f0f8ff;}#sk-container-id-58 div.sk-toggleable__content pre {margin: 0.2em;color: black;border-radius: 0.25em;background-color: #f0f8ff;}#sk-container-id-58 input.sk-toggleable__control:checked~div.sk-toggleable__content {max-height: 200px;max-width: 100%;overflow: auto;}#sk-container-id-58 input.sk-toggleable__control:checked~label.sk-toggleable__label-arrow:before {content: \"▾\";}#sk-container-id-58 div.sk-estimator input.sk-toggleable__control:checked~label.sk-toggleable__label {background-color: #d4ebff;}#sk-container-id-58 div.sk-label input.sk-toggleable__control:checked~label.sk-toggleable__label {background-color: #d4ebff;}#sk-container-id-58 input.sk-hidden--visually {border: 0;clip: rect(1px 1px 1px 1px);clip: rect(1px, 1px, 1px, 1px);height: 1px;margin: -1px;overflow: hidden;padding: 0;position: absolute;width: 1px;}#sk-container-id-58 div.sk-estimator {font-family: monospace;background-color: #f0f8ff;border: 1px dotted black;border-radius: 0.25em;box-sizing: border-box;margin-bottom: 0.5em;}#sk-container-id-58 div.sk-estimator:hover {background-color: #d4ebff;}#sk-container-id-58 div.sk-parallel-item::after {content: \"\";width: 100%;border-bottom: 1px solid gray;flex-grow: 1;}#sk-container-id-58 div.sk-label:hover label.sk-toggleable__label {background-color: #d4ebff;}#sk-container-id-58 div.sk-serial::before {content: \"\";position: absolute;border-left: 1px solid gray;box-sizing: border-box;top: 0;bottom: 0;left: 50%;z-index: 0;}#sk-container-id-58 div.sk-serial {display: flex;flex-direction: column;align-items: center;background-color: white;padding-right: 0.2em;padding-left: 0.2em;position: relative;}#sk-container-id-58 div.sk-item {position: relative;z-index: 1;}#sk-container-id-58 div.sk-parallel {display: flex;align-items: stretch;justify-content: center;background-color: white;position: relative;}#sk-container-id-58 div.sk-item::before, #sk-container-id-58 div.sk-parallel-item::before {content: \"\";position: absolute;border-left: 1px solid gray;box-sizing: border-box;top: 0;bottom: 0;left: 50%;z-index: -1;}#sk-container-id-58 div.sk-parallel-item {display: flex;flex-direction: column;z-index: 1;position: relative;background-color: white;}#sk-container-id-58 div.sk-parallel-item:first-child::after {align-self: flex-end;width: 50%;}#sk-container-id-58 div.sk-parallel-item:last-child::after {align-self: flex-start;width: 50%;}#sk-container-id-58 div.sk-parallel-item:only-child::after {width: 0;}#sk-container-id-58 div.sk-dashed-wrapped {border: 1px dashed gray;margin: 0 0.4em 0.5em 0.4em;box-sizing: border-box;padding-bottom: 0.4em;background-color: white;}#sk-container-id-58 div.sk-label label {font-family: monospace;font-weight: bold;display: inline-block;line-height: 1.2em;}#sk-container-id-58 div.sk-label-container {text-align: center;}#sk-container-id-58 div.sk-container {/* jupyter's `normalize.less` sets `[hidden] { display: none; }` but bootstrap.min.css set `[hidden] { display: none !important; }` so we also need the `!important` here to be able to override the default hidden behavior on the sphinx rendered scikit-learn.org. See: https://github.com/scikit-learn/scikit-learn/issues/21755 */display: inline-block !important;position: relative;}#sk-container-id-58 div.sk-text-repr-fallback {display: none;}</style><div id=\"sk-container-id-58\" class=\"sk-top-container\"><div class=\"sk-text-repr-fallback\"><pre>Ridge(alpha=0.87, max_iter=600, tol=0.01)</pre><b>In a Jupyter environment, please rerun this cell to show the HTML representation or trust the notebook. <br />On GitHub, the HTML representation is unable to render, please try loading this page with nbviewer.org.</b></div><div class=\"sk-container\" hidden><div class=\"sk-item\"><div class=\"sk-estimator sk-toggleable\"><input class=\"sk-toggleable__control sk-hidden--visually\" id=\"sk-estimator-id-58\" type=\"checkbox\" checked><label for=\"sk-estimator-id-58\" class=\"sk-toggleable__label sk-toggleable__label-arrow\">Ridge</label><div class=\"sk-toggleable__content\"><pre>Ridge(alpha=0.87, max_iter=600, tol=0.01)</pre></div></div></div></div></div>"
      ],
      "text/plain": [
       "Ridge(alpha=0.87, max_iter=600, tol=0.01)"
      ]
     },
     "execution_count": 203,
     "metadata": {},
     "output_type": "execute_result"
    }
   ],
   "source": [
    "ridge_reg= Ridge(alpha=0.87, max_iter=600, tol=0.01)\n",
    "ridge_reg.fit(train_X, train_y)"
   ]
  },
  {
   "cell_type": "code",
   "execution_count": 204,
   "id": "9f2fa797",
   "metadata": {},
   "outputs": [
    {
     "data": {
      "text/plain": [
       "0.9701285958797139"
      ]
     },
     "execution_count": 204,
     "metadata": {},
     "output_type": "execute_result"
    }
   ],
   "source": [
    "ridge_reg.score(test_X, test_y)"
   ]
  },
  {
   "cell_type": "code",
   "execution_count": 205,
   "id": "05d59517",
   "metadata": {},
   "outputs": [
    {
     "data": {
      "text/plain": [
       "0.970367292077172"
      ]
     },
     "execution_count": 205,
     "metadata": {},
     "output_type": "execute_result"
    }
   ],
   "source": [
    "ridge_reg.score(train_X, train_y)"
   ]
  },
  {
   "cell_type": "code",
   "execution_count": null,
   "id": "2240d44c",
   "metadata": {},
   "outputs": [],
   "source": []
  }
 ],
 "metadata": {
  "kernelspec": {
   "display_name": "Python 3 (ipykernel)",
   "language": "python",
   "name": "python3"
  },
  "language_info": {
   "codemirror_mode": {
    "name": "ipython",
    "version": 3
   },
   "file_extension": ".py",
   "mimetype": "text/x-python",
   "name": "python",
   "nbconvert_exporter": "python",
   "pygments_lexer": "ipython3",
   "version": "3.11.4"
  }
 },
 "nbformat": 4,
 "nbformat_minor": 5
}
