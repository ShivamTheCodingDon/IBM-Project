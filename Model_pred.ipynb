{
 "cells": [
  {
   "cell_type": "code",
   "execution_count": 5,
   "id": "94b40e5e",
   "metadata": {},
   "outputs": [],
   "source": [
    "import joblib\n",
    "import pandas as pd\n",
    "import numpy as np"
   ]
  },
  {
   "cell_type": "code",
   "execution_count": 2,
   "id": "c1585392",
   "metadata": {},
   "outputs": [
    {
     "data": {
      "text/plain": [
       "xgboost.sklearn.XGBRegressor"
      ]
     },
     "execution_count": 2,
     "metadata": {},
     "output_type": "execute_result"
    }
   ],
   "source": [
    "model = joblib.load('coolant_pred.joblib')\n",
    "type(model)"
   ]
  },
  {
   "cell_type": "code",
   "execution_count": 3,
   "id": "02b75f60",
   "metadata": {},
   "outputs": [],
   "source": [
    "input_data = {\n",
    "    'u_q': 50,\n",
    "    'stator_winding': 90,\n",
    "    'u_d': 39,\n",
    "    'stator_tooth': 78,\n",
    "    'motor_speed': 5500,\n",
    "    'i_d': -10,\n",
    "    'i_q': -52,\n",
    "    'pm': 80,\n",
    "    'stator_yoke': 0.15,\n",
    "    'ambient': 25,\n",
    "    'torque': 90\n",
    "}"
   ]
  },
  {
   "cell_type": "code",
   "execution_count": 6,
   "id": "00afcaf3",
   "metadata": {},
   "outputs": [],
   "source": [
    "input_array = np.array([list(input_data.values())])"
   ]
  },
  {
   "cell_type": "code",
   "execution_count": 7,
   "id": "d1725226",
   "metadata": {},
   "outputs": [],
   "source": [
    "coolant_temp_prediction = model.predict(input_array)"
   ]
  },
  {
   "cell_type": "code",
   "execution_count": 8,
   "id": "6238a869",
   "metadata": {},
   "outputs": [
    {
     "data": {
      "text/plain": [
       "29.123482"
      ]
     },
     "execution_count": 8,
     "metadata": {},
     "output_type": "execute_result"
    }
   ],
   "source": [
    "curr_temp = coolant_temp_prediction[0]\n",
    "curr_temp"
   ]
  },
  {
   "cell_type": "markdown",
   "id": "a82c1f04",
   "metadata": {},
   "source": [
    "And if you want to control torque then you can change the value of i_q to control current torque.\n",
    "\n",
    "First predict Torque then fetch this value in torque_control.m then this model control the value of i_q to control torque."
   ]
  },
  {
   "cell_type": "markdown",
   "id": "6cac803a",
   "metadata": {},
   "source": [
    "curr_temp is given to coolantTempCI.m to control the coolant temperature by changing all parameters except ambient temperature \n",
    "because this is fixed."
   ]
  },
  {
   "cell_type": "code",
   "execution_count": null,
   "id": "72020f46",
   "metadata": {},
   "outputs": [],
   "source": []
  }
 ],
 "metadata": {
  "kernelspec": {
   "display_name": "Python 3 (ipykernel)",
   "language": "python",
   "name": "python3"
  },
  "language_info": {
   "codemirror_mode": {
    "name": "ipython",
    "version": 3
   },
   "file_extension": ".py",
   "mimetype": "text/x-python",
   "name": "python",
   "nbconvert_exporter": "python",
   "pygments_lexer": "ipython3",
   "version": "3.11.4"
  }
 },
 "nbformat": 4,
 "nbformat_minor": 5
}
