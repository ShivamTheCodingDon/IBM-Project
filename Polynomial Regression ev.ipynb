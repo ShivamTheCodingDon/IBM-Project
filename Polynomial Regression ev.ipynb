{
 "cells": [
  {
   "cell_type": "code",
   "execution_count": 18,
   "id": "e4a6f04d",
   "metadata": {},
   "outputs": [],
   "source": [
    "import numpy as np\n",
    "import matplotlib.pyplot as plt\n",
    "import pandas as pd\n",
    "\n",
    "from sklearn.model_selection import train_test_split\n",
    "\n",
    "from sklearn.linear_model import LinearRegression,SGDRegressor\n",
    "\n",
    "from sklearn.preprocessing import PolynomialFeatures,StandardScaler\n",
    "\n",
    "from sklearn.metrics import r2_score, mean_squared_error\n",
    "\n",
    "from sklearn.pipeline import Pipeline"
   ]
  },
  {
   "cell_type": "code",
   "execution_count": 7,
   "id": "3af7d08f",
   "metadata": {
    "collapsed": true
   },
   "outputs": [
    {
     "name": "stdout",
     "output_type": "stream",
     "text": [
      "Collecting plotly\n",
      "  Obtaining dependency information for plotly from https://files.pythonhosted.org/packages/a5/07/5bef9376c975ce23306d9217ab69ca94c07f2a3c90b17c03e3ae4db87170/plotly-5.15.0-py2.py3-none-any.whl.metadata\n",
      "  Downloading plotly-5.15.0-py2.py3-none-any.whl.metadata (7.0 kB)\n",
      "Collecting tenacity>=6.2.0 (from plotly)\n",
      "  Downloading tenacity-8.2.2-py3-none-any.whl (24 kB)\n",
      "Requirement already satisfied: packaging in d:\\jupyter ipynb\\python\\lib\\site-packages (from plotly) (23.1)\n",
      "Downloading plotly-5.15.0-py2.py3-none-any.whl (15.5 MB)\n",
      "   ---------------------------------------- 0.0/15.5 MB ? eta -:--:--\n",
      "   ---------------------------------------- 0.1/15.5 MB 2.4 MB/s eta 0:00:07\n",
      "    --------------------------------------- 0.4/15.5 MB 3.7 MB/s eta 0:00:05\n",
      "   -- ------------------------------------- 0.9/15.5 MB 6.2 MB/s eta 0:00:03\n",
      "   ---- ----------------------------------- 1.7/15.5 MB 9.1 MB/s eta 0:00:02\n",
      "   ------- -------------------------------- 3.0/15.5 MB 12.9 MB/s eta 0:00:01\n",
      "   ---------- ----------------------------- 4.1/15.5 MB 14.6 MB/s eta 0:00:01\n",
      "   ------------- -------------------------- 5.4/15.5 MB 16.3 MB/s eta 0:00:01\n",
      "   ------------------- -------------------- 7.5/15.5 MB 19.9 MB/s eta 0:00:01\n",
      "   ------------------------ --------------- 9.5/15.5 MB 22.5 MB/s eta 0:00:01\n",
      "   ------------------------ --------------- 9.5/15.5 MB 22.5 MB/s eta 0:00:01\n",
      "   ------------------------ --------------- 9.5/15.5 MB 19.7 MB/s eta 0:00:01\n",
      "   ------------------------ --------------- 9.7/15.5 MB 17.7 MB/s eta 0:00:01\n",
      "   ------------------------ --------------- 9.7/15.5 MB 17.7 MB/s eta 0:00:01\n",
      "   ------------------------ --------------- 9.7/15.5 MB 17.7 MB/s eta 0:00:01\n",
      "   -------------------------- ------------- 10.2/15.5 MB 14.9 MB/s eta 0:00:01\n",
      "   ----------------------------- ---------- 11.4/15.5 MB 17.2 MB/s eta 0:00:01\n",
      "   ------------------------------ --------- 11.8/15.5 MB 16.4 MB/s eta 0:00:01\n",
      "   ------------------------------- -------- 12.1/15.5 MB 16.0 MB/s eta 0:00:01\n",
      "   ------------------------------- -------- 12.4/15.5 MB 15.2 MB/s eta 0:00:01\n",
      "   -------------------------------- ------- 12.6/15.5 MB 14.6 MB/s eta 0:00:01\n",
      "   --------------------------------- ------ 12.8/15.5 MB 13.9 MB/s eta 0:00:01\n",
      "   ---------------------------------- ----- 13.3/15.5 MB 12.8 MB/s eta 0:00:01\n",
      "   ----------------------------------- ---- 13.6/15.5 MB 12.4 MB/s eta 0:00:01\n",
      "   ----------------------------------- ---- 13.9/15.5 MB 11.7 MB/s eta 0:00:01\n",
      "   ------------------------------------ --- 14.2/15.5 MB 11.3 MB/s eta 0:00:01\n",
      "   ------------------------------------- -- 14.5/15.5 MB 10.9 MB/s eta 0:00:01\n",
      "   -------------------------------------- - 14.8/15.5 MB 10.6 MB/s eta 0:00:01\n",
      "   -------------------------------------- - 15.1/15.5 MB 10.1 MB/s eta 0:00:01\n",
      "   ---------------------------------------  15.4/15.5 MB 9.8 MB/s eta 0:00:01\n",
      "   ---------------------------------------  15.5/15.5 MB 9.4 MB/s eta 0:00:01\n",
      "   ---------------------------------------- 15.5/15.5 MB 9.2 MB/s eta 0:00:00\n",
      "Installing collected packages: tenacity, plotly\n",
      "Successfully installed plotly-5.15.0 tenacity-8.2.2\n"
     ]
    }
   ],
   "source": [
    "!pip install plotly"
   ]
  },
  {
   "cell_type": "code",
   "execution_count": 19,
   "id": "c649624b",
   "metadata": {},
   "outputs": [
    {
     "data": {
      "text/html": [
       "<div>\n",
       "<style scoped>\n",
       "    .dataframe tbody tr th:only-of-type {\n",
       "        vertical-align: middle;\n",
       "    }\n",
       "\n",
       "    .dataframe tbody tr th {\n",
       "        vertical-align: top;\n",
       "    }\n",
       "\n",
       "    .dataframe thead th {\n",
       "        text-align: right;\n",
       "    }\n",
       "</style>\n",
       "<table border=\"1\" class=\"dataframe\">\n",
       "  <thead>\n",
       "    <tr style=\"text-align: right;\">\n",
       "      <th></th>\n",
       "      <th>u_q</th>\n",
       "      <th>coolant</th>\n",
       "      <th>stator_winding</th>\n",
       "      <th>u_d</th>\n",
       "      <th>stator_tooth</th>\n",
       "      <th>motor_speed</th>\n",
       "      <th>i_d</th>\n",
       "      <th>i_q</th>\n",
       "      <th>pm</th>\n",
       "      <th>stator_yoke</th>\n",
       "      <th>ambient</th>\n",
       "      <th>torque</th>\n",
       "    </tr>\n",
       "  </thead>\n",
       "  <tbody>\n",
       "    <tr>\n",
       "      <th>0</th>\n",
       "      <td>90.301086</td>\n",
       "      <td>19.310339</td>\n",
       "      <td>46.627861</td>\n",
       "      <td>-92.912933</td>\n",
       "      <td>37.219505</td>\n",
       "      <td>4999.959473</td>\n",
       "      <td>-141.435104</td>\n",
       "      <td>52.935848</td>\n",
       "      <td>35.045197</td>\n",
       "      <td>27.430012</td>\n",
       "      <td>20.899378</td>\n",
       "      <td>48.561615</td>\n",
       "    </tr>\n",
       "    <tr>\n",
       "      <th>1</th>\n",
       "      <td>90.450218</td>\n",
       "      <td>19.312284</td>\n",
       "      <td>46.660896</td>\n",
       "      <td>-92.856468</td>\n",
       "      <td>37.326965</td>\n",
       "      <td>4999.958008</td>\n",
       "      <td>-141.503265</td>\n",
       "      <td>52.955212</td>\n",
       "      <td>35.090080</td>\n",
       "      <td>27.474701</td>\n",
       "      <td>21.009548</td>\n",
       "      <td>48.472355</td>\n",
       "    </tr>\n",
       "    <tr>\n",
       "      <th>2</th>\n",
       "      <td>90.530746</td>\n",
       "      <td>19.303518</td>\n",
       "      <td>46.493481</td>\n",
       "      <td>-92.806671</td>\n",
       "      <td>37.351593</td>\n",
       "      <td>4999.955078</td>\n",
       "      <td>-141.524933</td>\n",
       "      <td>52.981113</td>\n",
       "      <td>35.137783</td>\n",
       "      <td>27.520298</td>\n",
       "      <td>21.024719</td>\n",
       "      <td>48.556767</td>\n",
       "    </tr>\n",
       "    <tr>\n",
       "      <th>3</th>\n",
       "      <td>90.633858</td>\n",
       "      <td>19.265827</td>\n",
       "      <td>46.390057</td>\n",
       "      <td>-92.744507</td>\n",
       "      <td>37.405773</td>\n",
       "      <td>4999.953613</td>\n",
       "      <td>-141.659454</td>\n",
       "      <td>52.957489</td>\n",
       "      <td>35.175957</td>\n",
       "      <td>27.596558</td>\n",
       "      <td>21.067995</td>\n",
       "      <td>48.486523</td>\n",
       "    </tr>\n",
       "    <tr>\n",
       "      <th>4</th>\n",
       "      <td>90.783813</td>\n",
       "      <td>19.215105</td>\n",
       "      <td>46.461845</td>\n",
       "      <td>-92.682083</td>\n",
       "      <td>37.428577</td>\n",
       "      <td>4999.952637</td>\n",
       "      <td>-141.654755</td>\n",
       "      <td>52.955505</td>\n",
       "      <td>35.237061</td>\n",
       "      <td>27.663696</td>\n",
       "      <td>21.140137</td>\n",
       "      <td>48.430492</td>\n",
       "    </tr>\n",
       "  </tbody>\n",
       "</table>\n",
       "</div>"
      ],
      "text/plain": [
       "         u_q    coolant  stator_winding        u_d  stator_tooth  motor_speed  \\\n",
       "0  90.301086  19.310339       46.627861 -92.912933     37.219505  4999.959473   \n",
       "1  90.450218  19.312284       46.660896 -92.856468     37.326965  4999.958008   \n",
       "2  90.530746  19.303518       46.493481 -92.806671     37.351593  4999.955078   \n",
       "3  90.633858  19.265827       46.390057 -92.744507     37.405773  4999.953613   \n",
       "4  90.783813  19.215105       46.461845 -92.682083     37.428577  4999.952637   \n",
       "\n",
       "          i_d        i_q         pm  stator_yoke    ambient     torque  \n",
       "0 -141.435104  52.935848  35.045197    27.430012  20.899378  48.561615  \n",
       "1 -141.503265  52.955212  35.090080    27.474701  21.009548  48.472355  \n",
       "2 -141.524933  52.981113  35.137783    27.520298  21.024719  48.556767  \n",
       "3 -141.659454  52.957489  35.175957    27.596558  21.067995  48.486523  \n",
       "4 -141.654755  52.955505  35.237061    27.663696  21.140137  48.430492  "
      ]
     },
     "execution_count": 19,
     "metadata": {},
     "output_type": "execute_result"
    }
   ],
   "source": [
    "org = pd.read_csv(\"outlier_removed_org.csv\")\n",
    "org.head()"
   ]
  },
  {
   "cell_type": "markdown",
   "id": "12595420",
   "metadata": {},
   "source": [
    "# Speed Pridiction"
   ]
  },
  {
   "cell_type": "code",
   "execution_count": 5,
   "id": "6e23445f",
   "metadata": {
    "collapsed": true
   },
   "outputs": [
    {
     "data": {
      "text/html": [
       "<div>\n",
       "<style scoped>\n",
       "    .dataframe tbody tr th:only-of-type {\n",
       "        vertical-align: middle;\n",
       "    }\n",
       "\n",
       "    .dataframe tbody tr th {\n",
       "        vertical-align: top;\n",
       "    }\n",
       "\n",
       "    .dataframe thead th {\n",
       "        text-align: right;\n",
       "    }\n",
       "</style>\n",
       "<table border=\"1\" class=\"dataframe\">\n",
       "  <thead>\n",
       "    <tr style=\"text-align: right;\">\n",
       "      <th></th>\n",
       "      <th>u_q</th>\n",
       "      <th>coolant</th>\n",
       "      <th>stator_winding</th>\n",
       "      <th>u_d</th>\n",
       "      <th>stator_tooth</th>\n",
       "      <th>i_d</th>\n",
       "      <th>i_q</th>\n",
       "      <th>pm</th>\n",
       "      <th>stator_yoke</th>\n",
       "      <th>ambient</th>\n",
       "      <th>torque</th>\n",
       "    </tr>\n",
       "  </thead>\n",
       "  <tbody>\n",
       "    <tr>\n",
       "      <th>0</th>\n",
       "      <td>90.301086</td>\n",
       "      <td>19.310339</td>\n",
       "      <td>46.627861</td>\n",
       "      <td>-92.912933</td>\n",
       "      <td>37.219505</td>\n",
       "      <td>-141.435104</td>\n",
       "      <td>52.935848</td>\n",
       "      <td>35.045197</td>\n",
       "      <td>27.430012</td>\n",
       "      <td>20.899378</td>\n",
       "      <td>48.561615</td>\n",
       "    </tr>\n",
       "    <tr>\n",
       "      <th>1</th>\n",
       "      <td>90.450218</td>\n",
       "      <td>19.312284</td>\n",
       "      <td>46.660896</td>\n",
       "      <td>-92.856468</td>\n",
       "      <td>37.326965</td>\n",
       "      <td>-141.503265</td>\n",
       "      <td>52.955212</td>\n",
       "      <td>35.090080</td>\n",
       "      <td>27.474701</td>\n",
       "      <td>21.009548</td>\n",
       "      <td>48.472355</td>\n",
       "    </tr>\n",
       "    <tr>\n",
       "      <th>2</th>\n",
       "      <td>90.530746</td>\n",
       "      <td>19.303518</td>\n",
       "      <td>46.493481</td>\n",
       "      <td>-92.806671</td>\n",
       "      <td>37.351593</td>\n",
       "      <td>-141.524933</td>\n",
       "      <td>52.981113</td>\n",
       "      <td>35.137783</td>\n",
       "      <td>27.520298</td>\n",
       "      <td>21.024719</td>\n",
       "      <td>48.556767</td>\n",
       "    </tr>\n",
       "    <tr>\n",
       "      <th>3</th>\n",
       "      <td>90.633858</td>\n",
       "      <td>19.265827</td>\n",
       "      <td>46.390057</td>\n",
       "      <td>-92.744507</td>\n",
       "      <td>37.405773</td>\n",
       "      <td>-141.659454</td>\n",
       "      <td>52.957489</td>\n",
       "      <td>35.175957</td>\n",
       "      <td>27.596558</td>\n",
       "      <td>21.067995</td>\n",
       "      <td>48.486523</td>\n",
       "    </tr>\n",
       "    <tr>\n",
       "      <th>4</th>\n",
       "      <td>90.783813</td>\n",
       "      <td>19.215105</td>\n",
       "      <td>46.461845</td>\n",
       "      <td>-92.682083</td>\n",
       "      <td>37.428577</td>\n",
       "      <td>-141.654755</td>\n",
       "      <td>52.955505</td>\n",
       "      <td>35.237061</td>\n",
       "      <td>27.663696</td>\n",
       "      <td>21.140137</td>\n",
       "      <td>48.430492</td>\n",
       "    </tr>\n",
       "  </tbody>\n",
       "</table>\n",
       "</div>"
      ],
      "text/plain": [
       "         u_q    coolant  stator_winding        u_d  stator_tooth         i_d  \\\n",
       "0  90.301086  19.310339       46.627861 -92.912933     37.219505 -141.435104   \n",
       "1  90.450218  19.312284       46.660896 -92.856468     37.326965 -141.503265   \n",
       "2  90.530746  19.303518       46.493481 -92.806671     37.351593 -141.524933   \n",
       "3  90.633858  19.265827       46.390057 -92.744507     37.405773 -141.659454   \n",
       "4  90.783813  19.215105       46.461845 -92.682083     37.428577 -141.654755   \n",
       "\n",
       "         i_q         pm  stator_yoke    ambient     torque  \n",
       "0  52.935848  35.045197    27.430012  20.899378  48.561615  \n",
       "1  52.955212  35.090080    27.474701  21.009548  48.472355  \n",
       "2  52.981113  35.137783    27.520298  21.024719  48.556767  \n",
       "3  52.957489  35.175957    27.596558  21.067995  48.486523  \n",
       "4  52.955505  35.237061    27.663696  21.140137  48.430492  "
      ]
     },
     "execution_count": 5,
     "metadata": {},
     "output_type": "execute_result"
    }
   ],
   "source": [
    "X = org.drop(['motor_speed'], axis=1)\n",
    "X.head()"
   ]
  },
  {
   "cell_type": "code",
   "execution_count": 6,
   "id": "425e3323",
   "metadata": {
    "collapsed": true
   },
   "outputs": [
    {
     "data": {
      "text/html": [
       "<div>\n",
       "<style scoped>\n",
       "    .dataframe tbody tr th:only-of-type {\n",
       "        vertical-align: middle;\n",
       "    }\n",
       "\n",
       "    .dataframe tbody tr th {\n",
       "        vertical-align: top;\n",
       "    }\n",
       "\n",
       "    .dataframe thead th {\n",
       "        text-align: right;\n",
       "    }\n",
       "</style>\n",
       "<table border=\"1\" class=\"dataframe\">\n",
       "  <thead>\n",
       "    <tr style=\"text-align: right;\">\n",
       "      <th></th>\n",
       "      <th>motor_speed</th>\n",
       "    </tr>\n",
       "  </thead>\n",
       "  <tbody>\n",
       "    <tr>\n",
       "      <th>0</th>\n",
       "      <td>4999.959473</td>\n",
       "    </tr>\n",
       "    <tr>\n",
       "      <th>1</th>\n",
       "      <td>4999.958008</td>\n",
       "    </tr>\n",
       "    <tr>\n",
       "      <th>2</th>\n",
       "      <td>4999.955078</td>\n",
       "    </tr>\n",
       "    <tr>\n",
       "      <th>3</th>\n",
       "      <td>4999.953613</td>\n",
       "    </tr>\n",
       "    <tr>\n",
       "      <th>4</th>\n",
       "      <td>4999.952637</td>\n",
       "    </tr>\n",
       "  </tbody>\n",
       "</table>\n",
       "</div>"
      ],
      "text/plain": [
       "   motor_speed\n",
       "0  4999.959473\n",
       "1  4999.958008\n",
       "2  4999.955078\n",
       "3  4999.953613\n",
       "4  4999.952637"
      ]
     },
     "execution_count": 6,
     "metadata": {},
     "output_type": "execute_result"
    }
   ],
   "source": [
    "y = org[['motor_speed']]\n",
    "y.head()"
   ]
  },
  {
   "cell_type": "code",
   "execution_count": 25,
   "id": "99d2b733",
   "metadata": {},
   "outputs": [],
   "source": [
    "# Degree of the polynomial\n",
    "degree = 3"
   ]
  },
  {
   "cell_type": "code",
   "execution_count": 26,
   "id": "c6be36da",
   "metadata": {},
   "outputs": [],
   "source": [
    "# Create polynomial features\n",
    "poly = PolynomialFeatures(degree=degree)\n",
    "X_poly = poly.fit_transform(X)"
   ]
  },
  {
   "cell_type": "code",
   "execution_count": 28,
   "id": "b19466f7",
   "metadata": {},
   "outputs": [],
   "source": [
    "# Split the data into training and testing sets\n",
    "X_train, X_test, y_train, y_test = train_test_split(X_poly, y, test_size=0.2, random_state=92)"
   ]
  },
  {
   "cell_type": "code",
   "execution_count": 29,
   "id": "b7681fe7",
   "metadata": {},
   "outputs": [
    {
     "data": {
      "text/html": [
       "<style>#sk-container-id-3 {color: black;}#sk-container-id-3 pre{padding: 0;}#sk-container-id-3 div.sk-toggleable {background-color: white;}#sk-container-id-3 label.sk-toggleable__label {cursor: pointer;display: block;width: 100%;margin-bottom: 0;padding: 0.3em;box-sizing: border-box;text-align: center;}#sk-container-id-3 label.sk-toggleable__label-arrow:before {content: \"▸\";float: left;margin-right: 0.25em;color: #696969;}#sk-container-id-3 label.sk-toggleable__label-arrow:hover:before {color: black;}#sk-container-id-3 div.sk-estimator:hover label.sk-toggleable__label-arrow:before {color: black;}#sk-container-id-3 div.sk-toggleable__content {max-height: 0;max-width: 0;overflow: hidden;text-align: left;background-color: #f0f8ff;}#sk-container-id-3 div.sk-toggleable__content pre {margin: 0.2em;color: black;border-radius: 0.25em;background-color: #f0f8ff;}#sk-container-id-3 input.sk-toggleable__control:checked~div.sk-toggleable__content {max-height: 200px;max-width: 100%;overflow: auto;}#sk-container-id-3 input.sk-toggleable__control:checked~label.sk-toggleable__label-arrow:before {content: \"▾\";}#sk-container-id-3 div.sk-estimator input.sk-toggleable__control:checked~label.sk-toggleable__label {background-color: #d4ebff;}#sk-container-id-3 div.sk-label input.sk-toggleable__control:checked~label.sk-toggleable__label {background-color: #d4ebff;}#sk-container-id-3 input.sk-hidden--visually {border: 0;clip: rect(1px 1px 1px 1px);clip: rect(1px, 1px, 1px, 1px);height: 1px;margin: -1px;overflow: hidden;padding: 0;position: absolute;width: 1px;}#sk-container-id-3 div.sk-estimator {font-family: monospace;background-color: #f0f8ff;border: 1px dotted black;border-radius: 0.25em;box-sizing: border-box;margin-bottom: 0.5em;}#sk-container-id-3 div.sk-estimator:hover {background-color: #d4ebff;}#sk-container-id-3 div.sk-parallel-item::after {content: \"\";width: 100%;border-bottom: 1px solid gray;flex-grow: 1;}#sk-container-id-3 div.sk-label:hover label.sk-toggleable__label {background-color: #d4ebff;}#sk-container-id-3 div.sk-serial::before {content: \"\";position: absolute;border-left: 1px solid gray;box-sizing: border-box;top: 0;bottom: 0;left: 50%;z-index: 0;}#sk-container-id-3 div.sk-serial {display: flex;flex-direction: column;align-items: center;background-color: white;padding-right: 0.2em;padding-left: 0.2em;position: relative;}#sk-container-id-3 div.sk-item {position: relative;z-index: 1;}#sk-container-id-3 div.sk-parallel {display: flex;align-items: stretch;justify-content: center;background-color: white;position: relative;}#sk-container-id-3 div.sk-item::before, #sk-container-id-3 div.sk-parallel-item::before {content: \"\";position: absolute;border-left: 1px solid gray;box-sizing: border-box;top: 0;bottom: 0;left: 50%;z-index: -1;}#sk-container-id-3 div.sk-parallel-item {display: flex;flex-direction: column;z-index: 1;position: relative;background-color: white;}#sk-container-id-3 div.sk-parallel-item:first-child::after {align-self: flex-end;width: 50%;}#sk-container-id-3 div.sk-parallel-item:last-child::after {align-self: flex-start;width: 50%;}#sk-container-id-3 div.sk-parallel-item:only-child::after {width: 0;}#sk-container-id-3 div.sk-dashed-wrapped {border: 1px dashed gray;margin: 0 0.4em 0.5em 0.4em;box-sizing: border-box;padding-bottom: 0.4em;background-color: white;}#sk-container-id-3 div.sk-label label {font-family: monospace;font-weight: bold;display: inline-block;line-height: 1.2em;}#sk-container-id-3 div.sk-label-container {text-align: center;}#sk-container-id-3 div.sk-container {/* jupyter's `normalize.less` sets `[hidden] { display: none; }` but bootstrap.min.css set `[hidden] { display: none !important; }` so we also need the `!important` here to be able to override the default hidden behavior on the sphinx rendered scikit-learn.org. See: https://github.com/scikit-learn/scikit-learn/issues/21755 */display: inline-block !important;position: relative;}#sk-container-id-3 div.sk-text-repr-fallback {display: none;}</style><div id=\"sk-container-id-3\" class=\"sk-top-container\"><div class=\"sk-text-repr-fallback\"><pre>LinearRegression()</pre><b>In a Jupyter environment, please rerun this cell to show the HTML representation or trust the notebook. <br />On GitHub, the HTML representation is unable to render, please try loading this page with nbviewer.org.</b></div><div class=\"sk-container\" hidden><div class=\"sk-item\"><div class=\"sk-estimator sk-toggleable\"><input class=\"sk-toggleable__control sk-hidden--visually\" id=\"sk-estimator-id-3\" type=\"checkbox\" checked><label for=\"sk-estimator-id-3\" class=\"sk-toggleable__label sk-toggleable__label-arrow\">LinearRegression</label><div class=\"sk-toggleable__content\"><pre>LinearRegression()</pre></div></div></div></div></div>"
      ],
      "text/plain": [
       "LinearRegression()"
      ]
     },
     "execution_count": 29,
     "metadata": {},
     "output_type": "execute_result"
    }
   ],
   "source": [
    "# Fit the polynomial regression model\n",
    "model = LinearRegression()\n",
    "model.fit(X_poly, y)"
   ]
  },
  {
   "cell_type": "code",
   "execution_count": 30,
   "id": "09bad236",
   "metadata": {},
   "outputs": [],
   "source": [
    "# Predict the target variable on both training and testing sets\n",
    "y_train_pred = model.predict(X_train)\n",
    "y_test_pred = model.predict(X_test)"
   ]
  },
  {
   "cell_type": "code",
   "execution_count": 31,
   "id": "cafc55aa",
   "metadata": {},
   "outputs": [],
   "source": [
    "# Get coefficients and intercept\n",
    "coefficients = model.coef_\n",
    "intercept = model.intercept_"
   ]
  },
  {
   "cell_type": "code",
   "execution_count": 32,
   "id": "a5014471",
   "metadata": {},
   "outputs": [],
   "source": [
    "# Predict the target variable\n",
    "predicted_values = model.predict(X_poly)"
   ]
  },
  {
   "cell_type": "code",
   "execution_count": 33,
   "id": "ed5b482d",
   "metadata": {
    "collapsed": true
   },
   "outputs": [
    {
     "name": "stdout",
     "output_type": "stream",
     "text": [
      "Coefficients: [[ 2.35875164e-08  1.74566844e+01 -6.03862276e+00 -3.11696187e+01\n",
      "   9.89446127e+00  4.14446589e+01 -2.56140805e+01  3.30468901e+01\n",
      "  -3.81902344e+01  6.37541551e+00  3.22472665e+01 -5.84140377e+01\n",
      "  -1.16882662e-02 -2.31766245e-02  2.77390673e-01  5.20290307e-02\n",
      "  -4.72163590e-01 -4.12813086e-02  7.16984236e-01  1.15048156e-03\n",
      "   2.27369265e-01  2.10106072e-01 -7.37259688e-01  1.36238840e-01\n",
      "   5.79971612e-01 -2.95556563e-01 -3.52739037e-01  1.10630004e-01\n",
      "   8.81694065e-01 -1.18470761e-02 -2.97202931e-01 -1.01756761e-01\n",
      "  -1.21484683e+00  1.04058244e+00  6.65275052e-02 -4.21821354e+00\n",
      "   1.39434815e-01 -6.20093935e-01  4.45596440e-01  1.57498410e+00\n",
      "   9.26721171e-01  8.24525245e-01  2.04066080e-01 -6.06740808e-01\n",
      "   1.50680439e-01  8.87533563e-01 -8.41450290e-02  8.01393716e-01\n",
      "   3.51433269e-01 -1.15608805e+00  4.80309716e+00  1.94716118e-01\n",
      "   1.56514456e+00 -8.32881446e-01 -4.20275133e+00 -2.25253743e+00\n",
      "  -2.14745257e+00 -2.92721247e-01  3.68123432e-01  1.30685185e-02\n",
      "  -3.48143130e-01  6.36415094e-01 -5.85381877e-01  6.77529848e-01\n",
      "   8.95362300e-01 -2.51553374e+00 -3.82370072e+00 -1.73243699e+00\n",
      "   4.61033341e-02  2.66499766e-01  2.96022092e+00 -1.16536969e+00\n",
      "   8.80035708e-01  1.10692465e+00  3.40426961e+00 -4.69210878e+00\n",
      "   6.10226628e+00  1.02805193e+00 -4.68071118e-05 -8.03473966e-06\n",
      "  -6.66446062e-05 -3.42451596e-04 -8.15598743e-06  2.11760318e-04\n",
      "  -1.79350999e-03  1.67429139e-04  2.87195398e-05  9.38324467e-04\n",
      "   2.43381501e-03  2.36988255e-04 -1.80722169e-03 -5.65829196e-06\n",
      "   5.35878332e-03 -3.04333500e-04  2.03754459e-03 -6.91092383e-04\n",
      "  -3.65882047e-03  2.16654124e-03 -2.49393722e-03  4.37604288e-04\n",
      "  -5.36950622e-04 -6.81634040e-03 -1.98938430e-04  3.00751999e-03\n",
      "   1.29877382e-03  7.65856134e-03 -1.32488022e-02 -4.17916263e-03\n",
      "  -6.60381014e-04  7.58388757e-04 -3.22299437e-04 -1.08573672e-03\n",
      "   5.56526712e-04 -3.89356093e-04 -8.84249299e-04  2.60693710e-03\n",
      "   1.32020295e-02 -8.63807234e-04  1.28091429e-03 -3.42570118e-03\n",
      "  -2.35821108e-02  2.39675335e-02 -3.91609894e-04  1.32689412e-03\n",
      "   1.01311028e-03 -3.70194694e-05  9.90589593e-04 -1.51431992e-03\n",
      "  -1.12042772e-03  1.15183537e-03 -5.03821888e-03 -4.95178888e-03\n",
      "  -5.23619922e-03  2.40319775e-03  1.07951033e-04  2.68871408e-03\n",
      "  -2.68533721e-04  7.02358493e-03  9.03141811e-03 -1.28743250e-02\n",
      "   4.54817102e-03 -6.01719691e-03 -1.38464420e-03 -4.97250562e-03\n",
      "  -4.56748441e-04 -5.40173648e-04  6.68662064e-04 -5.72963830e-03\n",
      "  -9.31954859e-05 -2.18565621e-03  1.07856978e-03  5.31484551e-03\n",
      "  -1.29378308e-03  3.10969965e-03  1.44618794e-02 -4.99322849e-03\n",
      "  -6.49173979e-02 -1.16902673e-03  1.47392591e-02  1.19938228e-02\n",
      "   2.85344113e-02 -2.74732526e-02 -2.43702427e-02 -1.58584549e-04\n",
      "   1.16537728e-02  1.96943806e-04  1.56563532e-03 -1.35086272e-03\n",
      "  -6.61353269e-03  1.29857125e-02 -2.03515538e-03  5.23287500e-02\n",
      "   2.36384059e-03 -4.55835189e-02 -1.47669876e-02 -2.26937557e-02\n",
      "   3.12001530e-02  6.92733359e-02  4.76806737e-04  1.91539523e-03\n",
      "  -3.52178017e-05 -1.15467862e-03 -5.01296684e-04 -5.23529048e-04\n",
      "  -1.55058522e-02  9.26025066e-03  2.92925983e-02 -6.62694440e-02\n",
      "   3.86307741e-02  1.94228052e-04 -1.46159542e-03  3.48494615e-03\n",
      "  -1.28084492e-02 -5.19066553e-03 -2.67448603e-04 -4.21268321e-02\n",
      "   1.53636697e-03  9.17702550e-02 -2.36725946e-02 -2.12519849e-02\n",
      "   5.56873774e-04  1.44514450e-01  2.33370072e-03 -1.30082996e-02\n",
      "  -1.06560502e-03 -9.02322263e-02 -4.00486627e-02  1.82464268e-02\n",
      "   1.34511021e-04 -1.48969842e-02 -8.40808513e-04  3.89566203e-03\n",
      "   1.32302294e-03  1.84988762e-02 -1.69657729e-03 -5.30111121e-03\n",
      "  -3.26424506e-01 -1.32562473e-02  1.11801938e-01  1.47795647e-02\n",
      "   4.02586929e-01  1.59722865e-01 -1.61764292e-01 -2.07479432e-04\n",
      "   3.42616213e-03  1.47671701e-03  9.02916637e-03 -7.23943791e-03\n",
      "  -6.48883078e-03 -2.66178403e-02 -1.38405685e-02 -9.87404697e-02\n",
      "   5.45325539e-02  7.16972706e-02  4.87145170e-03 -2.80847316e-02\n",
      "  -3.19677514e-02  1.87614173e-02 -1.11498950e-01 -5.38350490e-02\n",
      "   1.46593479e-01  3.14124650e-02 -7.22209862e-02 -4.87142959e-02\n",
      "  -3.88694764e-05 -3.00986734e-04 -3.60683976e-04  2.32896982e-03\n",
      "  -1.83881594e-04  2.25699661e-04  2.75217469e-05 -3.16094986e-03\n",
      "   2.64414563e-02  2.78697396e-03 -5.11283444e-03 -5.07923986e-03\n",
      "  -4.59511491e-02  2.98571579e-02  7.64999333e-03 -5.93628511e-05\n",
      "   5.66450954e-03 -4.18878051e-04 -2.02593581e-03 -3.72166393e-03\n",
      "  -9.31711870e-03  2.35227657e-03 -2.44585645e-03  1.26562313e-03\n",
      "   3.50869706e-03 -1.11716782e-03 -1.01943871e-04  5.35962446e-03\n",
      "   1.25597846e-03  3.27922071e-03  1.45189235e-02 -4.17824523e-02\n",
      "  -2.43741075e-03 -2.38175210e-02 -5.58107519e-03 -2.95240803e-03\n",
      "   2.27876011e-01  1.59458568e-02 -1.76258112e-01 -1.58688844e-02\n",
      "  -3.92188469e-01 -1.67075840e-01  2.54056969e-01  1.34731103e-03\n",
      "  -5.14560826e-03 -2.59821279e-03 -1.99575087e-02  6.77392681e-03\n",
      "   1.44624541e-02  3.30771561e-02  4.28719235e-02  2.67286282e-01\n",
      "  -1.88447371e-01 -9.45761205e-02 -8.52773287e-03  3.86890599e-02\n",
      "   5.72206610e-02 -5.81219653e-02  1.90670347e-01  1.19086393e-01\n",
      "  -3.87421157e-01 -1.30116472e-02  2.57807882e-01  6.88153337e-02\n",
      "  -1.20147425e-03 -2.42082644e-04  6.99726090e-04 -1.46860530e-03\n",
      "   1.09883504e-03 -1.09187354e-03  1.64117194e-03  1.45394906e-03\n",
      "  -2.27111343e-03 -2.46689105e-03 -4.61919277e-03 -1.67234914e-04\n",
      "   8.60168470e-04  1.70422865e-03 -1.78188789e-03  5.96548122e-03\n",
      "   2.27545718e-05 -4.67192461e-03 -5.75378503e-03  3.37685771e-03\n",
      "   1.86739129e-03  4.75275805e-03 -3.78225415e-03  1.20141588e-02\n",
      "  -3.99550574e-03 -1.17975378e-02 -5.44127004e-04 -3.72239631e-02\n",
      "  -2.04087093e-02  8.97936729e-03 -8.55136884e-02  2.11683846e-01\n",
      "  -2.24328109e-02  7.86646288e-02  1.25496977e-02  8.79987201e-03\n",
      "   5.36050304e-04  1.90969945e-03 -3.13258759e-03  2.89438781e-04\n",
      "  -4.81752478e-03 -1.90228088e-02  5.10652627e-02 -5.70034458e-02\n",
      "   2.67779045e-02 -5.18262558e-03 -2.56495877e-02 -1.56605099e-02\n",
      "   1.22089119e-01 -3.16461839e-02 -2.91868362e-01  7.37464108e-03\n",
      "   1.14926957e-01 -1.24632265e-01 -8.97168671e-03 -2.10339654e-03]]\n",
      "Intercept: [358.30964705]\n"
     ]
    }
   ],
   "source": [
    "# Print coefficients and intercept\n",
    "print(\"Coefficients:\", coefficients)\n",
    "print(\"Intercept:\", intercept)"
   ]
  },
  {
   "cell_type": "code",
   "execution_count": 34,
   "id": "e7c1606a",
   "metadata": {},
   "outputs": [
    {
     "name": "stdout",
     "output_type": "stream",
     "text": [
      "Train MSE: 444.4845461739074\n",
      "Test MSE: 314.83671322343963\n",
      "Train R^2: 0.9998608894225028\n",
      "Test R^2: 0.9999014938907844\n"
     ]
    }
   ],
   "source": [
    "# Evaluate the model\n",
    "train_mse = mean_squared_error(y_train, y_train_pred)\n",
    "test_mse = mean_squared_error(y_test, y_test_pred)\n",
    "train_r2 = r2_score(y_train, y_train_pred)\n",
    "test_r2 = r2_score(y_test, y_test_pred)\n",
    "\n",
    "print(\"Train MSE:\", train_mse)\n",
    "print(\"Test MSE:\", test_mse)\n",
    "print(\"Train R^2:\", train_r2)\n",
    "print(\"Test R^2:\", test_r2)"
   ]
  },
  {
   "cell_type": "code",
   "execution_count": 24,
   "id": "511d8f3f",
   "metadata": {},
   "outputs": [
    {
     "name": "stdout",
     "output_type": "stream",
     "text": [
      "Best Random State: 92\n",
      "Max Accuracy: 0.9992488184627812\n"
     ]
    }
   ],
   "source": [
    "# Degree of the polynomial\n",
    "degree = 3\n",
    "\n",
    "max_accuracy = 0\n",
    "best_random_state = None\n",
    "\n",
    "# Loop over different random states\n",
    "for random_state in range(1, 101):\n",
    "    # Create polynomial features\n",
    "    poly = PolynomialFeatures(degree=degree)\n",
    "    X_poly = poly.fit_transform(X)\n",
    "\n",
    "    # Split the data into training and testing sets using the current random state\n",
    "    X_train, X_test, y_train, y_test = train_test_split(X_poly, y, test_size=0.2, random_state=random_state)\n",
    "\n",
    "    # Fit the polynomial regression model\n",
    "    model = LinearRegression()\n",
    "    model.fit(X_train, y_train)\n",
    "\n",
    "    # Predict the target variable on the testing set\n",
    "    y_test_pred = model.predict(X_test)\n",
    "\n",
    "    # Calculate the R-squared (accuracy) for the current random state\n",
    "    accuracy = r2_score(y_test, y_test_pred)\n",
    "\n",
    "    # Check if the current random state gives the highest accuracy\n",
    "    if accuracy > max_accuracy:\n",
    "        max_accuracy = accuracy\n",
    "        best_random_state = random_state\n",
    "\n",
    "print(\"Best Random State:\", best_random_state)\n",
    "print(\"Max Accuracy:\", max_accuracy)"
   ]
  },
  {
   "cell_type": "markdown",
   "id": "dec6ae8e",
   "metadata": {},
   "source": [
    "# Torque Prediction"
   ]
  },
  {
   "cell_type": "code",
   "execution_count": 20,
   "id": "4ec37007",
   "metadata": {},
   "outputs": [
    {
     "data": {
      "text/html": [
       "<div>\n",
       "<style scoped>\n",
       "    .dataframe tbody tr th:only-of-type {\n",
       "        vertical-align: middle;\n",
       "    }\n",
       "\n",
       "    .dataframe tbody tr th {\n",
       "        vertical-align: top;\n",
       "    }\n",
       "\n",
       "    .dataframe thead th {\n",
       "        text-align: right;\n",
       "    }\n",
       "</style>\n",
       "<table border=\"1\" class=\"dataframe\">\n",
       "  <thead>\n",
       "    <tr style=\"text-align: right;\">\n",
       "      <th></th>\n",
       "      <th>u_q</th>\n",
       "      <th>coolant</th>\n",
       "      <th>stator_winding</th>\n",
       "      <th>u_d</th>\n",
       "      <th>stator_tooth</th>\n",
       "      <th>motor_speed</th>\n",
       "      <th>i_d</th>\n",
       "      <th>i_q</th>\n",
       "      <th>pm</th>\n",
       "      <th>stator_yoke</th>\n",
       "      <th>ambient</th>\n",
       "    </tr>\n",
       "  </thead>\n",
       "  <tbody>\n",
       "    <tr>\n",
       "      <th>0</th>\n",
       "      <td>90.301086</td>\n",
       "      <td>19.310339</td>\n",
       "      <td>46.627861</td>\n",
       "      <td>-92.912933</td>\n",
       "      <td>37.219505</td>\n",
       "      <td>4999.959473</td>\n",
       "      <td>-141.435104</td>\n",
       "      <td>52.935848</td>\n",
       "      <td>35.045197</td>\n",
       "      <td>27.430012</td>\n",
       "      <td>20.899378</td>\n",
       "    </tr>\n",
       "    <tr>\n",
       "      <th>1</th>\n",
       "      <td>90.450218</td>\n",
       "      <td>19.312284</td>\n",
       "      <td>46.660896</td>\n",
       "      <td>-92.856468</td>\n",
       "      <td>37.326965</td>\n",
       "      <td>4999.958008</td>\n",
       "      <td>-141.503265</td>\n",
       "      <td>52.955212</td>\n",
       "      <td>35.090080</td>\n",
       "      <td>27.474701</td>\n",
       "      <td>21.009548</td>\n",
       "    </tr>\n",
       "    <tr>\n",
       "      <th>2</th>\n",
       "      <td>90.530746</td>\n",
       "      <td>19.303518</td>\n",
       "      <td>46.493481</td>\n",
       "      <td>-92.806671</td>\n",
       "      <td>37.351593</td>\n",
       "      <td>4999.955078</td>\n",
       "      <td>-141.524933</td>\n",
       "      <td>52.981113</td>\n",
       "      <td>35.137783</td>\n",
       "      <td>27.520298</td>\n",
       "      <td>21.024719</td>\n",
       "    </tr>\n",
       "    <tr>\n",
       "      <th>3</th>\n",
       "      <td>90.633858</td>\n",
       "      <td>19.265827</td>\n",
       "      <td>46.390057</td>\n",
       "      <td>-92.744507</td>\n",
       "      <td>37.405773</td>\n",
       "      <td>4999.953613</td>\n",
       "      <td>-141.659454</td>\n",
       "      <td>52.957489</td>\n",
       "      <td>35.175957</td>\n",
       "      <td>27.596558</td>\n",
       "      <td>21.067995</td>\n",
       "    </tr>\n",
       "    <tr>\n",
       "      <th>4</th>\n",
       "      <td>90.783813</td>\n",
       "      <td>19.215105</td>\n",
       "      <td>46.461845</td>\n",
       "      <td>-92.682083</td>\n",
       "      <td>37.428577</td>\n",
       "      <td>4999.952637</td>\n",
       "      <td>-141.654755</td>\n",
       "      <td>52.955505</td>\n",
       "      <td>35.237061</td>\n",
       "      <td>27.663696</td>\n",
       "      <td>21.140137</td>\n",
       "    </tr>\n",
       "  </tbody>\n",
       "</table>\n",
       "</div>"
      ],
      "text/plain": [
       "         u_q    coolant  stator_winding        u_d  stator_tooth  motor_speed  \\\n",
       "0  90.301086  19.310339       46.627861 -92.912933     37.219505  4999.959473   \n",
       "1  90.450218  19.312284       46.660896 -92.856468     37.326965  4999.958008   \n",
       "2  90.530746  19.303518       46.493481 -92.806671     37.351593  4999.955078   \n",
       "3  90.633858  19.265827       46.390057 -92.744507     37.405773  4999.953613   \n",
       "4  90.783813  19.215105       46.461845 -92.682083     37.428577  4999.952637   \n",
       "\n",
       "          i_d        i_q         pm  stator_yoke    ambient  \n",
       "0 -141.435104  52.935848  35.045197    27.430012  20.899378  \n",
       "1 -141.503265  52.955212  35.090080    27.474701  21.009548  \n",
       "2 -141.524933  52.981113  35.137783    27.520298  21.024719  \n",
       "3 -141.659454  52.957489  35.175957    27.596558  21.067995  \n",
       "4 -141.654755  52.955505  35.237061    27.663696  21.140137  "
      ]
     },
     "execution_count": 20,
     "metadata": {},
     "output_type": "execute_result"
    }
   ],
   "source": [
    "X = org.drop(['torque'], axis=1)\n",
    "X.head()"
   ]
  },
  {
   "cell_type": "code",
   "execution_count": 21,
   "id": "a1eb1e46",
   "metadata": {},
   "outputs": [
    {
     "data": {
      "text/html": [
       "<div>\n",
       "<style scoped>\n",
       "    .dataframe tbody tr th:only-of-type {\n",
       "        vertical-align: middle;\n",
       "    }\n",
       "\n",
       "    .dataframe tbody tr th {\n",
       "        vertical-align: top;\n",
       "    }\n",
       "\n",
       "    .dataframe thead th {\n",
       "        text-align: right;\n",
       "    }\n",
       "</style>\n",
       "<table border=\"1\" class=\"dataframe\">\n",
       "  <thead>\n",
       "    <tr style=\"text-align: right;\">\n",
       "      <th></th>\n",
       "      <th>torque</th>\n",
       "    </tr>\n",
       "  </thead>\n",
       "  <tbody>\n",
       "    <tr>\n",
       "      <th>0</th>\n",
       "      <td>48.561615</td>\n",
       "    </tr>\n",
       "    <tr>\n",
       "      <th>1</th>\n",
       "      <td>48.472355</td>\n",
       "    </tr>\n",
       "    <tr>\n",
       "      <th>2</th>\n",
       "      <td>48.556767</td>\n",
       "    </tr>\n",
       "    <tr>\n",
       "      <th>3</th>\n",
       "      <td>48.486523</td>\n",
       "    </tr>\n",
       "    <tr>\n",
       "      <th>4</th>\n",
       "      <td>48.430492</td>\n",
       "    </tr>\n",
       "  </tbody>\n",
       "</table>\n",
       "</div>"
      ],
      "text/plain": [
       "      torque\n",
       "0  48.561615\n",
       "1  48.472355\n",
       "2  48.556767\n",
       "3  48.486523\n",
       "4  48.430492"
      ]
     },
     "execution_count": 21,
     "metadata": {},
     "output_type": "execute_result"
    }
   ],
   "source": [
    "y = org[['torque']]\n",
    "y.head()"
   ]
  },
  {
   "cell_type": "code",
   "execution_count": 6,
   "id": "b365598f",
   "metadata": {},
   "outputs": [],
   "source": [
    "# Degree of the polynomial\n",
    "degree = 3"
   ]
  },
  {
   "cell_type": "code",
   "execution_count": 7,
   "id": "bf9a1ad3",
   "metadata": {},
   "outputs": [],
   "source": [
    "# Create polynomial features\n",
    "poly = PolynomialFeatures(degree=degree)\n",
    "X_poly = poly.fit_transform(X)"
   ]
  },
  {
   "cell_type": "code",
   "execution_count": 8,
   "id": "85bd74d9",
   "metadata": {},
   "outputs": [],
   "source": [
    "# Split the data into training and testing sets\n",
    "X_train, X_test, y_train, y_test = train_test_split(X_poly, y, test_size=0.2, random_state=92)"
   ]
  },
  {
   "cell_type": "code",
   "execution_count": 9,
   "id": "dafb2e6f",
   "metadata": {},
   "outputs": [
    {
     "data": {
      "text/html": [
       "<style>#sk-container-id-1 {color: black;}#sk-container-id-1 pre{padding: 0;}#sk-container-id-1 div.sk-toggleable {background-color: white;}#sk-container-id-1 label.sk-toggleable__label {cursor: pointer;display: block;width: 100%;margin-bottom: 0;padding: 0.3em;box-sizing: border-box;text-align: center;}#sk-container-id-1 label.sk-toggleable__label-arrow:before {content: \"▸\";float: left;margin-right: 0.25em;color: #696969;}#sk-container-id-1 label.sk-toggleable__label-arrow:hover:before {color: black;}#sk-container-id-1 div.sk-estimator:hover label.sk-toggleable__label-arrow:before {color: black;}#sk-container-id-1 div.sk-toggleable__content {max-height: 0;max-width: 0;overflow: hidden;text-align: left;background-color: #f0f8ff;}#sk-container-id-1 div.sk-toggleable__content pre {margin: 0.2em;color: black;border-radius: 0.25em;background-color: #f0f8ff;}#sk-container-id-1 input.sk-toggleable__control:checked~div.sk-toggleable__content {max-height: 200px;max-width: 100%;overflow: auto;}#sk-container-id-1 input.sk-toggleable__control:checked~label.sk-toggleable__label-arrow:before {content: \"▾\";}#sk-container-id-1 div.sk-estimator input.sk-toggleable__control:checked~label.sk-toggleable__label {background-color: #d4ebff;}#sk-container-id-1 div.sk-label input.sk-toggleable__control:checked~label.sk-toggleable__label {background-color: #d4ebff;}#sk-container-id-1 input.sk-hidden--visually {border: 0;clip: rect(1px 1px 1px 1px);clip: rect(1px, 1px, 1px, 1px);height: 1px;margin: -1px;overflow: hidden;padding: 0;position: absolute;width: 1px;}#sk-container-id-1 div.sk-estimator {font-family: monospace;background-color: #f0f8ff;border: 1px dotted black;border-radius: 0.25em;box-sizing: border-box;margin-bottom: 0.5em;}#sk-container-id-1 div.sk-estimator:hover {background-color: #d4ebff;}#sk-container-id-1 div.sk-parallel-item::after {content: \"\";width: 100%;border-bottom: 1px solid gray;flex-grow: 1;}#sk-container-id-1 div.sk-label:hover label.sk-toggleable__label {background-color: #d4ebff;}#sk-container-id-1 div.sk-serial::before {content: \"\";position: absolute;border-left: 1px solid gray;box-sizing: border-box;top: 0;bottom: 0;left: 50%;z-index: 0;}#sk-container-id-1 div.sk-serial {display: flex;flex-direction: column;align-items: center;background-color: white;padding-right: 0.2em;padding-left: 0.2em;position: relative;}#sk-container-id-1 div.sk-item {position: relative;z-index: 1;}#sk-container-id-1 div.sk-parallel {display: flex;align-items: stretch;justify-content: center;background-color: white;position: relative;}#sk-container-id-1 div.sk-item::before, #sk-container-id-1 div.sk-parallel-item::before {content: \"\";position: absolute;border-left: 1px solid gray;box-sizing: border-box;top: 0;bottom: 0;left: 50%;z-index: -1;}#sk-container-id-1 div.sk-parallel-item {display: flex;flex-direction: column;z-index: 1;position: relative;background-color: white;}#sk-container-id-1 div.sk-parallel-item:first-child::after {align-self: flex-end;width: 50%;}#sk-container-id-1 div.sk-parallel-item:last-child::after {align-self: flex-start;width: 50%;}#sk-container-id-1 div.sk-parallel-item:only-child::after {width: 0;}#sk-container-id-1 div.sk-dashed-wrapped {border: 1px dashed gray;margin: 0 0.4em 0.5em 0.4em;box-sizing: border-box;padding-bottom: 0.4em;background-color: white;}#sk-container-id-1 div.sk-label label {font-family: monospace;font-weight: bold;display: inline-block;line-height: 1.2em;}#sk-container-id-1 div.sk-label-container {text-align: center;}#sk-container-id-1 div.sk-container {/* jupyter's `normalize.less` sets `[hidden] { display: none; }` but bootstrap.min.css set `[hidden] { display: none !important; }` so we also need the `!important` here to be able to override the default hidden behavior on the sphinx rendered scikit-learn.org. See: https://github.com/scikit-learn/scikit-learn/issues/21755 */display: inline-block !important;position: relative;}#sk-container-id-1 div.sk-text-repr-fallback {display: none;}</style><div id=\"sk-container-id-1\" class=\"sk-top-container\"><div class=\"sk-text-repr-fallback\"><pre>LinearRegression()</pre><b>In a Jupyter environment, please rerun this cell to show the HTML representation or trust the notebook. <br />On GitHub, the HTML representation is unable to render, please try loading this page with nbviewer.org.</b></div><div class=\"sk-container\" hidden><div class=\"sk-item\"><div class=\"sk-estimator sk-toggleable\"><input class=\"sk-toggleable__control sk-hidden--visually\" id=\"sk-estimator-id-1\" type=\"checkbox\" checked><label for=\"sk-estimator-id-1\" class=\"sk-toggleable__label sk-toggleable__label-arrow\">LinearRegression</label><div class=\"sk-toggleable__content\"><pre>LinearRegression()</pre></div></div></div></div></div>"
      ],
      "text/plain": [
       "LinearRegression()"
      ]
     },
     "execution_count": 9,
     "metadata": {},
     "output_type": "execute_result"
    }
   ],
   "source": [
    "# Fit the polynomial regression model\n",
    "model = LinearRegression()\n",
    "model.fit(X_poly, y)"
   ]
  },
  {
   "cell_type": "code",
   "execution_count": 10,
   "id": "e3e803ba",
   "metadata": {},
   "outputs": [],
   "source": [
    "# Predict the target variable on both training and testing sets\n",
    "y_train_pred = model.predict(X_train)\n",
    "y_test_pred = model.predict(X_test)"
   ]
  },
  {
   "cell_type": "code",
   "execution_count": 11,
   "id": "ec1d2502",
   "metadata": {},
   "outputs": [],
   "source": [
    "# Get coefficients and intercept\n",
    "coefficients = model.coef_\n",
    "intercept = model.intercept_"
   ]
  },
  {
   "cell_type": "code",
   "execution_count": 12,
   "id": "d7edf786",
   "metadata": {},
   "outputs": [],
   "source": [
    "# Predict the target variable\n",
    "predicted_values = model.predict(X_poly)"
   ]
  },
  {
   "cell_type": "code",
   "execution_count": 13,
   "id": "278c4e5c",
   "metadata": {
    "collapsed": true
   },
   "outputs": [
    {
     "name": "stdout",
     "output_type": "stream",
     "text": [
      "Coefficients: [[ 1.29491777e-04  5.08190546e-02 -5.67365384e-01  4.11388200e-01\n",
      "   2.34405537e-02 -1.21827551e-01  4.23865540e-03  4.54809852e-01\n",
      "   5.02141216e-01 -9.28471024e-02  6.71114909e-01 -1.17313546e+01\n",
      "   1.97638100e-03  1.26930580e-02 -1.02070245e-01  4.07063863e-03\n",
      "   2.04429834e-01 -1.07210696e-04 -8.47929781e-03  1.06650353e-02\n",
      "   6.80986300e-03 -1.22519973e-01 -7.93410382e-03 -4.18266043e-03\n",
      "  -3.82122264e-03 -8.89914004e-03 -4.19011431e-03 -6.69374881e-04\n",
      "  -8.96152770e-03 -3.78855262e-03 -1.18417033e-02  2.19052457e-02\n",
      "   6.30528245e-02  4.32865366e-02  3.30798232e-02 -1.55765439e-01\n",
      "   5.29909402e-03  3.33824875e-02  1.23717075e-02  4.18052768e-02\n",
      "   3.71805984e-02 -7.01782817e-02 -3.61173946e-03 -7.07821063e-02\n",
      "  -2.11994750e-04  5.95780003e-03 -6.08480299e-05 -7.03409647e-03\n",
      "   4.80462208e-02  2.46686567e-02  1.41998280e-01 -1.05153153e-02\n",
      "  -8.77478669e-02 -2.68942377e-02 -9.49629373e-02 -7.03798018e-02\n",
      "   1.47614173e-01 -1.68926832e-07  1.20838879e-04 -4.04160339e-04\n",
      "  -3.65339907e-04  6.22475941e-03 -2.55831289e-05  3.32165046e-03\n",
      "  -6.47100263e-04 -6.12737633e-04  6.28705963e-02 -1.46524433e-02\n",
      "   4.34843122e-04 -1.92423475e-03  1.67483257e-02  2.55062180e-02\n",
      "   4.44713701e-03  5.60663729e-02  2.03232213e-03  4.17052709e-03\n",
      "  -1.86351369e-01  5.17164303e-01 -3.28836910e-05 -1.31404186e-04\n",
      "   6.74448091e-04 -3.01564163e-06 -1.60799777e-03  2.86110425e-06\n",
      "   7.44006941e-05 -4.22198173e-05  8.47642432e-05  9.70106478e-04\n",
      "  -4.95295746e-05 -9.94956387e-06  5.28129820e-05  4.74593493e-05\n",
      "  -1.24591707e-04  9.09292969e-06  2.27817363e-04  2.34920357e-05\n",
      "  -3.41195530e-06  8.72595084e-05  1.44976192e-04 -2.25688119e-04\n",
      "  -1.78588591e-04  9.94235260e-04 -4.92909726e-05 -1.17384208e-03\n",
      "   4.09900729e-05 -2.67687950e-05 -4.41105766e-04 -8.80990604e-04\n",
      "   6.76502474e-06  4.13033881e-04  1.68657509e-07 -2.05542750e-05\n",
      "  -4.14676630e-05  8.32461797e-06 -2.86051766e-04 -2.10762354e-05\n",
      "  -1.05265036e-03  1.14931274e-04  2.77858778e-03 -4.19339637e-05\n",
      "   5.06248482e-05  9.08850042e-04  1.86204207e-03 -1.00586044e-07\n",
      "  -4.13024577e-06  2.96772744e-06 -6.12499193e-06 -6.82932148e-05\n",
      "   7.79713508e-06 -6.45479008e-05  5.77122172e-05 -1.42532835e-04\n",
      "  -1.66704239e-03  1.99144420e-04 -4.14633602e-06 -2.95660326e-05\n",
      "  -4.66554286e-05  3.19701260e-05  9.41147675e-06 -2.55901032e-06\n",
      "  -2.60920242e-04 -2.12078968e-04 -7.26020013e-04  1.15604482e-04\n",
      "   3.04787263e-05  4.07439981e-05  2.36521866e-05  2.06507415e-04\n",
      "   4.37277494e-07  1.23627663e-05  2.62986887e-05 -7.81731637e-05\n",
      "  -3.12011869e-04  2.51446229e-04 -2.27525099e-06 -1.30336624e-05\n",
      "  -1.37931602e-04 -3.00396520e-06 -2.78910035e-05 -1.22483790e-06\n",
      "   2.67721840e-04  8.85434861e-05 -5.21994157e-04 -9.61914125e-07\n",
      "   1.32276055e-05 -1.54701724e-06 -6.99905873e-05 -2.95239027e-05\n",
      "   1.89183340e-05 -1.56047450e-05  4.74080333e-06  7.94638474e-04\n",
      "   6.04100133e-06  8.57707065e-05 -1.33649168e-05 -6.35097890e-04\n",
      "  -1.66296691e-03  1.17107609e-03 -1.16975390e-07 -7.83367295e-06\n",
      "  -1.58237299e-06  4.77835870e-07 -3.99108469e-06 -5.86098834e-06\n",
      "  -8.87201499e-05 -5.56017523e-05  2.80622384e-05 -9.78102309e-05\n",
      "  -1.21585420e-04 -1.88942521e-05  2.30753958e-05 -1.70279279e-05\n",
      "  -3.69112327e-05 -7.27210657e-06  4.41941384e-04  6.76194167e-04\n",
      "   9.52224936e-04 -1.20834954e-03 -1.97907777e-03  3.28029581e-04\n",
      "  -1.36393270e-04 -2.41067998e-03  1.10471099e-05  3.39994260e-04\n",
      "  -5.40699767e-05  2.38266127e-04  1.23280321e-03 -1.35144989e-03\n",
      "   4.20979589e-05  6.01853962e-04  7.12186535e-06  3.60373909e-04\n",
      "   1.41669479e-04 -5.71467630e-05 -3.47552640e-04 -3.16406951e-04\n",
      "   5.39891814e-03 -5.07943884e-05 -1.46974609e-03  3.31055006e-04\n",
      "  -4.95286409e-04 -5.20637136e-03  4.11525261e-03  7.47120512e-07\n",
      "   5.50709034e-05  1.27190569e-06 -8.30596095e-07  2.37939050e-05\n",
      "   3.90704893e-05  5.05416099e-04  2.59600968e-04  7.65308051e-05\n",
      "   6.56520917e-04  7.98788524e-04  7.77837691e-05 -4.11558611e-05\n",
      "  -2.46337895e-04  6.90318495e-05  2.07047016e-05 -3.43347099e-04\n",
      "  -1.44035678e-03  1.45391102e-03 -5.13632319e-04  2.83698336e-03\n",
      "   1.64255266e-06 -8.30718808e-05 -1.11329560e-07 -2.76840721e-05\n",
      "  -3.45402275e-06  5.80907385e-06  4.02254294e-05  1.91315357e-05\n",
      "  -8.01314408e-04 -1.64596699e-05 -8.23947484e-04 -3.43871568e-04\n",
      "   2.03117848e-04  1.02152968e-03  5.13392357e-04  8.15070225e-09\n",
      "   3.02613007e-07  1.07274850e-06  5.75596174e-07  1.02647479e-05\n",
      "  -4.43674393e-07  3.98304277e-05 -3.84343845e-06 -2.46928876e-07\n",
      "   4.84549146e-04 -5.31288814e-05 -5.58150289e-06  1.16374251e-05\n",
      "   2.13780763e-04 -1.06699515e-06 -1.79808428e-05 -1.33075786e-04\n",
      "   2.20383597e-05 -3.35935524e-04 -1.46665867e-04 -8.04725509e-04\n",
      "  -3.58226238e-03  5.39193795e-05  1.54767613e-03 -5.92739820e-04\n",
      "   6.98156887e-05  4.38619098e-03 -3.55231011e-03 -1.67643645e-06\n",
      "  -1.16630140e-04 -4.29516417e-06  9.46025289e-07 -4.74757550e-05\n",
      "  -8.20317725e-05 -1.16563579e-03 -6.03109724e-04 -1.04720956e-04\n",
      "  -1.41562796e-03 -1.75981541e-03 -1.96361045e-04  1.44871707e-04\n",
      "   8.95335962e-04 -1.92858124e-04  4.63828933e-05  8.37285612e-04\n",
      "   3.72671867e-03 -1.54267113e-03  1.59609833e-03 -7.37329016e-03\n",
      "   1.58485922e-09  9.07967008e-08 -4.61485574e-08  1.00106849e-07\n",
      "   9.46140573e-07 -1.56638125e-07  2.05722190e-06 -2.88685141e-06\n",
      "   3.00967073e-06  6.53093930e-05 -7.90790190e-06 -7.78544500e-08\n",
      "   3.41865695e-08  7.07120895e-06 -6.16181197e-06 -4.30457166e-07\n",
      "  -6.71746328e-07  1.22153329e-05  1.04515559e-05  3.26801555e-05\n",
      "  -4.61836907e-06  1.90742031e-05  1.71239963e-06  5.01036088e-05\n",
      "   6.84877398e-04 -5.91695183e-05 -1.69220759e-06  1.97886006e-05\n",
      "   3.70234100e-04 -8.86075891e-05 -9.55476834e-06 -5.69071858e-06\n",
      "   2.90968058e-04  3.83032151e-04  7.81736495e-04  2.13655090e-04\n",
      "  -3.61008833e-06  8.28777870e-06  1.25676904e-04 -1.08247987e-05\n",
      "  -2.29619104e-05 -9.24507977e-05  9.61302659e-05 -3.21251400e-04\n",
      "   1.19083283e-04 -6.25534182e-04 -9.69824760e-06 -7.43565955e-05\n",
      "  -9.35132792e-05 -2.21468619e-04 -2.89037281e-03  2.11890286e-04\n",
      "  -1.46401499e-04  1.04730185e-05  7.20053657e-03 -7.50482177e-03]]\n",
      "Intercept: [90.19421029]\n"
     ]
    }
   ],
   "source": [
    "# Print coefficients and intercept\n",
    "print(\"Coefficients:\", coefficients)\n",
    "print(\"Intercept:\", intercept)"
   ]
  },
  {
   "cell_type": "code",
   "execution_count": 14,
   "id": "8d115f58",
   "metadata": {
    "scrolled": false
   },
   "outputs": [
    {
     "name": "stdout",
     "output_type": "stream",
     "text": [
      "Train MSE: 0.37576801799763976\n",
      "Test MSE: 0.3614268443889091\n",
      "Train R^2: 0.9998822499452599\n",
      "Test R^2: 0.9998868013686182\n"
     ]
    }
   ],
   "source": [
    "# Evaluate the model\n",
    "train_mse = mean_squared_error(y_train, y_train_pred)\n",
    "test_mse = mean_squared_error(y_test, y_test_pred)\n",
    "train_r2 = r2_score(y_train, y_train_pred)\n",
    "test_r2 = r2_score(y_test, y_test_pred)\n",
    "\n",
    "print(\"Train MSE:\", train_mse)\n",
    "print(\"Test MSE:\", test_mse)\n",
    "print(\"Train R^2:\", train_r2)\n",
    "print(\"Test R^2:\", test_r2)"
   ]
  },
  {
   "cell_type": "code",
   "execution_count": 17,
   "id": "d112dba3",
   "metadata": {},
   "outputs": [
    {
     "data": {
      "text/plain": [
       "['torque_regression_model.joblib']"
      ]
     },
     "execution_count": 17,
     "metadata": {},
     "output_type": "execute_result"
    }
   ],
   "source": [
    "import joblib\n",
    "\n",
    "# Save the model to an h5 file\n",
    "joblib.dump(model,'torque_regression_model.joblib')"
   ]
  },
  {
   "cell_type": "markdown",
   "id": "b4bcb2cf",
   "metadata": {},
   "source": [
    "# Coolant Prediction"
   ]
  },
  {
   "cell_type": "code",
   "execution_count": 65,
   "id": "57b88fb1",
   "metadata": {
    "collapsed": true
   },
   "outputs": [
    {
     "data": {
      "text/html": [
       "<div>\n",
       "<style scoped>\n",
       "    .dataframe tbody tr th:only-of-type {\n",
       "        vertical-align: middle;\n",
       "    }\n",
       "\n",
       "    .dataframe tbody tr th {\n",
       "        vertical-align: top;\n",
       "    }\n",
       "\n",
       "    .dataframe thead th {\n",
       "        text-align: right;\n",
       "    }\n",
       "</style>\n",
       "<table border=\"1\" class=\"dataframe\">\n",
       "  <thead>\n",
       "    <tr style=\"text-align: right;\">\n",
       "      <th></th>\n",
       "      <th>u_q</th>\n",
       "      <th>stator_winding</th>\n",
       "      <th>u_d</th>\n",
       "      <th>stator_tooth</th>\n",
       "      <th>motor_speed</th>\n",
       "      <th>i_d</th>\n",
       "      <th>i_q</th>\n",
       "      <th>pm</th>\n",
       "      <th>stator_yoke</th>\n",
       "      <th>ambient</th>\n",
       "      <th>torque</th>\n",
       "    </tr>\n",
       "  </thead>\n",
       "  <tbody>\n",
       "    <tr>\n",
       "      <th>0</th>\n",
       "      <td>90.301086</td>\n",
       "      <td>46.627861</td>\n",
       "      <td>-92.912933</td>\n",
       "      <td>37.219505</td>\n",
       "      <td>4999.959473</td>\n",
       "      <td>-141.435104</td>\n",
       "      <td>52.935848</td>\n",
       "      <td>35.045197</td>\n",
       "      <td>27.430012</td>\n",
       "      <td>20.899378</td>\n",
       "      <td>48.561615</td>\n",
       "    </tr>\n",
       "    <tr>\n",
       "      <th>1</th>\n",
       "      <td>90.450218</td>\n",
       "      <td>46.660896</td>\n",
       "      <td>-92.856468</td>\n",
       "      <td>37.326965</td>\n",
       "      <td>4999.958008</td>\n",
       "      <td>-141.503265</td>\n",
       "      <td>52.955212</td>\n",
       "      <td>35.090080</td>\n",
       "      <td>27.474701</td>\n",
       "      <td>21.009548</td>\n",
       "      <td>48.472355</td>\n",
       "    </tr>\n",
       "    <tr>\n",
       "      <th>2</th>\n",
       "      <td>90.530746</td>\n",
       "      <td>46.493481</td>\n",
       "      <td>-92.806671</td>\n",
       "      <td>37.351593</td>\n",
       "      <td>4999.955078</td>\n",
       "      <td>-141.524933</td>\n",
       "      <td>52.981113</td>\n",
       "      <td>35.137783</td>\n",
       "      <td>27.520298</td>\n",
       "      <td>21.024719</td>\n",
       "      <td>48.556767</td>\n",
       "    </tr>\n",
       "    <tr>\n",
       "      <th>3</th>\n",
       "      <td>90.633858</td>\n",
       "      <td>46.390057</td>\n",
       "      <td>-92.744507</td>\n",
       "      <td>37.405773</td>\n",
       "      <td>4999.953613</td>\n",
       "      <td>-141.659454</td>\n",
       "      <td>52.957489</td>\n",
       "      <td>35.175957</td>\n",
       "      <td>27.596558</td>\n",
       "      <td>21.067995</td>\n",
       "      <td>48.486523</td>\n",
       "    </tr>\n",
       "    <tr>\n",
       "      <th>4</th>\n",
       "      <td>90.783813</td>\n",
       "      <td>46.461845</td>\n",
       "      <td>-92.682083</td>\n",
       "      <td>37.428577</td>\n",
       "      <td>4999.952637</td>\n",
       "      <td>-141.654755</td>\n",
       "      <td>52.955505</td>\n",
       "      <td>35.237061</td>\n",
       "      <td>27.663696</td>\n",
       "      <td>21.140137</td>\n",
       "      <td>48.430492</td>\n",
       "    </tr>\n",
       "  </tbody>\n",
       "</table>\n",
       "</div>"
      ],
      "text/plain": [
       "         u_q  stator_winding        u_d  stator_tooth  motor_speed  \\\n",
       "0  90.301086       46.627861 -92.912933     37.219505  4999.959473   \n",
       "1  90.450218       46.660896 -92.856468     37.326965  4999.958008   \n",
       "2  90.530746       46.493481 -92.806671     37.351593  4999.955078   \n",
       "3  90.633858       46.390057 -92.744507     37.405773  4999.953613   \n",
       "4  90.783813       46.461845 -92.682083     37.428577  4999.952637   \n",
       "\n",
       "          i_d        i_q         pm  stator_yoke    ambient     torque  \n",
       "0 -141.435104  52.935848  35.045197    27.430012  20.899378  48.561615  \n",
       "1 -141.503265  52.955212  35.090080    27.474701  21.009548  48.472355  \n",
       "2 -141.524933  52.981113  35.137783    27.520298  21.024719  48.556767  \n",
       "3 -141.659454  52.957489  35.175957    27.596558  21.067995  48.486523  \n",
       "4 -141.654755  52.955505  35.237061    27.663696  21.140137  48.430492  "
      ]
     },
     "execution_count": 65,
     "metadata": {},
     "output_type": "execute_result"
    }
   ],
   "source": [
    "X = org.drop(['coolant'], axis=1)\n",
    "X.head()"
   ]
  },
  {
   "cell_type": "code",
   "execution_count": 66,
   "id": "b0e2b135",
   "metadata": {
    "collapsed": true
   },
   "outputs": [
    {
     "data": {
      "text/html": [
       "<div>\n",
       "<style scoped>\n",
       "    .dataframe tbody tr th:only-of-type {\n",
       "        vertical-align: middle;\n",
       "    }\n",
       "\n",
       "    .dataframe tbody tr th {\n",
       "        vertical-align: top;\n",
       "    }\n",
       "\n",
       "    .dataframe thead th {\n",
       "        text-align: right;\n",
       "    }\n",
       "</style>\n",
       "<table border=\"1\" class=\"dataframe\">\n",
       "  <thead>\n",
       "    <tr style=\"text-align: right;\">\n",
       "      <th></th>\n",
       "      <th>coolant</th>\n",
       "    </tr>\n",
       "  </thead>\n",
       "  <tbody>\n",
       "    <tr>\n",
       "      <th>0</th>\n",
       "      <td>19.310339</td>\n",
       "    </tr>\n",
       "    <tr>\n",
       "      <th>1</th>\n",
       "      <td>19.312284</td>\n",
       "    </tr>\n",
       "    <tr>\n",
       "      <th>2</th>\n",
       "      <td>19.303518</td>\n",
       "    </tr>\n",
       "    <tr>\n",
       "      <th>3</th>\n",
       "      <td>19.265827</td>\n",
       "    </tr>\n",
       "    <tr>\n",
       "      <th>4</th>\n",
       "      <td>19.215105</td>\n",
       "    </tr>\n",
       "  </tbody>\n",
       "</table>\n",
       "</div>"
      ],
      "text/plain": [
       "     coolant\n",
       "0  19.310339\n",
       "1  19.312284\n",
       "2  19.303518\n",
       "3  19.265827\n",
       "4  19.215105"
      ]
     },
     "execution_count": 66,
     "metadata": {},
     "output_type": "execute_result"
    }
   ],
   "source": [
    "y = org[['coolant']]\n",
    "y.head()"
   ]
  },
  {
   "cell_type": "code",
   "execution_count": 87,
   "id": "955a8472",
   "metadata": {},
   "outputs": [],
   "source": [
    "# Degree of the polynomial\n",
    "degree = 4"
   ]
  },
  {
   "cell_type": "code",
   "execution_count": 88,
   "id": "801e48d6",
   "metadata": {},
   "outputs": [],
   "source": [
    "# Create polynomial features\n",
    "poly = PolynomialFeatures(degree=degree)\n",
    "X_poly = poly.fit_transform(X)"
   ]
  },
  {
   "cell_type": "code",
   "execution_count": 89,
   "id": "0b1603c4",
   "metadata": {},
   "outputs": [
    {
     "ename": "MemoryError",
     "evalue": "Unable to allocate 7.54 GiB for an array with shape (741028, 1365) and data type float64",
     "output_type": "error",
     "traceback": [
      "\u001b[1;31m---------------------------------------------------------------------------\u001b[0m",
      "\u001b[1;31mMemoryError\u001b[0m                               Traceback (most recent call last)",
      "Cell \u001b[1;32mIn[89], line 2\u001b[0m\n\u001b[0;32m      1\u001b[0m \u001b[38;5;66;03m# Split the data into training and testing sets\u001b[39;00m\n\u001b[1;32m----> 2\u001b[0m X_train, X_test, y_train, y_test \u001b[38;5;241m=\u001b[39m \u001b[43mtrain_test_split\u001b[49m\u001b[43m(\u001b[49m\u001b[43mX_poly\u001b[49m\u001b[43m,\u001b[49m\u001b[43m \u001b[49m\u001b[43my\u001b[49m\u001b[43m,\u001b[49m\u001b[43m \u001b[49m\u001b[43mtest_size\u001b[49m\u001b[38;5;241;43m=\u001b[39;49m\u001b[38;5;241;43m0.2\u001b[39;49m\u001b[43m,\u001b[49m\u001b[43m \u001b[49m\u001b[43mrandom_state\u001b[49m\u001b[38;5;241;43m=\u001b[39;49m\u001b[38;5;241;43m92\u001b[39;49m\u001b[43m)\u001b[49m\n",
      "File \u001b[1;32mD:\\Jupyter ipynb\\python\\Lib\\site-packages\\sklearn\\utils\\_param_validation.py:211\u001b[0m, in \u001b[0;36mvalidate_params.<locals>.decorator.<locals>.wrapper\u001b[1;34m(*args, **kwargs)\u001b[0m\n\u001b[0;32m    205\u001b[0m \u001b[38;5;28;01mtry\u001b[39;00m:\n\u001b[0;32m    206\u001b[0m     \u001b[38;5;28;01mwith\u001b[39;00m config_context(\n\u001b[0;32m    207\u001b[0m         skip_parameter_validation\u001b[38;5;241m=\u001b[39m(\n\u001b[0;32m    208\u001b[0m             prefer_skip_nested_validation \u001b[38;5;129;01mor\u001b[39;00m global_skip_validation\n\u001b[0;32m    209\u001b[0m         )\n\u001b[0;32m    210\u001b[0m     ):\n\u001b[1;32m--> 211\u001b[0m         \u001b[38;5;28;01mreturn\u001b[39;00m \u001b[43mfunc\u001b[49m\u001b[43m(\u001b[49m\u001b[38;5;241;43m*\u001b[39;49m\u001b[43margs\u001b[49m\u001b[43m,\u001b[49m\u001b[43m \u001b[49m\u001b[38;5;241;43m*\u001b[39;49m\u001b[38;5;241;43m*\u001b[39;49m\u001b[43mkwargs\u001b[49m\u001b[43m)\u001b[49m\n\u001b[0;32m    212\u001b[0m \u001b[38;5;28;01mexcept\u001b[39;00m InvalidParameterError \u001b[38;5;28;01mas\u001b[39;00m e:\n\u001b[0;32m    213\u001b[0m     \u001b[38;5;66;03m# When the function is just a wrapper around an estimator, we allow\u001b[39;00m\n\u001b[0;32m    214\u001b[0m     \u001b[38;5;66;03m# the function to delegate validation to the estimator, but we replace\u001b[39;00m\n\u001b[0;32m    215\u001b[0m     \u001b[38;5;66;03m# the name of the estimator by the name of the function in the error\u001b[39;00m\n\u001b[0;32m    216\u001b[0m     \u001b[38;5;66;03m# message to avoid confusion.\u001b[39;00m\n\u001b[0;32m    217\u001b[0m     msg \u001b[38;5;241m=\u001b[39m re\u001b[38;5;241m.\u001b[39msub(\n\u001b[0;32m    218\u001b[0m         \u001b[38;5;124mr\u001b[39m\u001b[38;5;124m\"\u001b[39m\u001b[38;5;124mparameter of \u001b[39m\u001b[38;5;124m\\\u001b[39m\u001b[38;5;124mw+ must be\u001b[39m\u001b[38;5;124m\"\u001b[39m,\n\u001b[0;32m    219\u001b[0m         \u001b[38;5;124mf\u001b[39m\u001b[38;5;124m\"\u001b[39m\u001b[38;5;124mparameter of \u001b[39m\u001b[38;5;132;01m{\u001b[39;00mfunc\u001b[38;5;241m.\u001b[39m\u001b[38;5;18m__qualname__\u001b[39m\u001b[38;5;132;01m}\u001b[39;00m\u001b[38;5;124m must be\u001b[39m\u001b[38;5;124m\"\u001b[39m,\n\u001b[0;32m    220\u001b[0m         \u001b[38;5;28mstr\u001b[39m(e),\n\u001b[0;32m    221\u001b[0m     )\n",
      "File \u001b[1;32mD:\\Jupyter ipynb\\python\\Lib\\site-packages\\sklearn\\model_selection\\_split.py:2640\u001b[0m, in \u001b[0;36mtrain_test_split\u001b[1;34m(test_size, train_size, random_state, shuffle, stratify, *arrays)\u001b[0m\n\u001b[0;32m   2636\u001b[0m     cv \u001b[38;5;241m=\u001b[39m CVClass(test_size\u001b[38;5;241m=\u001b[39mn_test, train_size\u001b[38;5;241m=\u001b[39mn_train, random_state\u001b[38;5;241m=\u001b[39mrandom_state)\n\u001b[0;32m   2638\u001b[0m     train, test \u001b[38;5;241m=\u001b[39m \u001b[38;5;28mnext\u001b[39m(cv\u001b[38;5;241m.\u001b[39msplit(X\u001b[38;5;241m=\u001b[39marrays[\u001b[38;5;241m0\u001b[39m], y\u001b[38;5;241m=\u001b[39mstratify))\n\u001b[1;32m-> 2640\u001b[0m \u001b[38;5;28;01mreturn\u001b[39;00m \u001b[38;5;28mlist\u001b[39m(\n\u001b[0;32m   2641\u001b[0m     chain\u001b[38;5;241m.\u001b[39mfrom_iterable(\n\u001b[0;32m   2642\u001b[0m         (_safe_indexing(a, train), _safe_indexing(a, test)) \u001b[38;5;28;01mfor\u001b[39;00m a \u001b[38;5;129;01min\u001b[39;00m arrays\n\u001b[0;32m   2643\u001b[0m     )\n\u001b[0;32m   2644\u001b[0m )\n",
      "File \u001b[1;32mD:\\Jupyter ipynb\\python\\Lib\\site-packages\\sklearn\\model_selection\\_split.py:2642\u001b[0m, in \u001b[0;36m<genexpr>\u001b[1;34m(.0)\u001b[0m\n\u001b[0;32m   2636\u001b[0m     cv \u001b[38;5;241m=\u001b[39m CVClass(test_size\u001b[38;5;241m=\u001b[39mn_test, train_size\u001b[38;5;241m=\u001b[39mn_train, random_state\u001b[38;5;241m=\u001b[39mrandom_state)\n\u001b[0;32m   2638\u001b[0m     train, test \u001b[38;5;241m=\u001b[39m \u001b[38;5;28mnext\u001b[39m(cv\u001b[38;5;241m.\u001b[39msplit(X\u001b[38;5;241m=\u001b[39marrays[\u001b[38;5;241m0\u001b[39m], y\u001b[38;5;241m=\u001b[39mstratify))\n\u001b[0;32m   2640\u001b[0m \u001b[38;5;28;01mreturn\u001b[39;00m \u001b[38;5;28mlist\u001b[39m(\n\u001b[0;32m   2641\u001b[0m     chain\u001b[38;5;241m.\u001b[39mfrom_iterable(\n\u001b[1;32m-> 2642\u001b[0m         (\u001b[43m_safe_indexing\u001b[49m\u001b[43m(\u001b[49m\u001b[43ma\u001b[49m\u001b[43m,\u001b[49m\u001b[43m \u001b[49m\u001b[43mtrain\u001b[49m\u001b[43m)\u001b[49m, _safe_indexing(a, test)) \u001b[38;5;28;01mfor\u001b[39;00m a \u001b[38;5;129;01min\u001b[39;00m arrays\n\u001b[0;32m   2643\u001b[0m     )\n\u001b[0;32m   2644\u001b[0m )\n",
      "File \u001b[1;32mD:\\Jupyter ipynb\\python\\Lib\\site-packages\\sklearn\\utils\\__init__.py:355\u001b[0m, in \u001b[0;36m_safe_indexing\u001b[1;34m(X, indices, axis)\u001b[0m\n\u001b[0;32m    353\u001b[0m     \u001b[38;5;28;01mreturn\u001b[39;00m _pandas_indexing(X, indices, indices_dtype, axis\u001b[38;5;241m=\u001b[39maxis)\n\u001b[0;32m    354\u001b[0m \u001b[38;5;28;01melif\u001b[39;00m \u001b[38;5;28mhasattr\u001b[39m(X, \u001b[38;5;124m\"\u001b[39m\u001b[38;5;124mshape\u001b[39m\u001b[38;5;124m\"\u001b[39m):\n\u001b[1;32m--> 355\u001b[0m     \u001b[38;5;28;01mreturn\u001b[39;00m \u001b[43m_array_indexing\u001b[49m\u001b[43m(\u001b[49m\u001b[43mX\u001b[49m\u001b[43m,\u001b[49m\u001b[43m \u001b[49m\u001b[43mindices\u001b[49m\u001b[43m,\u001b[49m\u001b[43m \u001b[49m\u001b[43mindices_dtype\u001b[49m\u001b[43m,\u001b[49m\u001b[43m \u001b[49m\u001b[43maxis\u001b[49m\u001b[38;5;241;43m=\u001b[39;49m\u001b[43maxis\u001b[49m\u001b[43m)\u001b[49m\n\u001b[0;32m    356\u001b[0m \u001b[38;5;28;01melse\u001b[39;00m:\n\u001b[0;32m    357\u001b[0m     \u001b[38;5;28;01mreturn\u001b[39;00m _list_indexing(X, indices, indices_dtype)\n",
      "File \u001b[1;32mD:\\Jupyter ipynb\\python\\Lib\\site-packages\\sklearn\\utils\\__init__.py:184\u001b[0m, in \u001b[0;36m_array_indexing\u001b[1;34m(array, key, key_dtype, axis)\u001b[0m\n\u001b[0;32m    182\u001b[0m \u001b[38;5;28;01mif\u001b[39;00m \u001b[38;5;28misinstance\u001b[39m(key, \u001b[38;5;28mtuple\u001b[39m):\n\u001b[0;32m    183\u001b[0m     key \u001b[38;5;241m=\u001b[39m \u001b[38;5;28mlist\u001b[39m(key)\n\u001b[1;32m--> 184\u001b[0m \u001b[38;5;28;01mreturn\u001b[39;00m \u001b[43marray\u001b[49m\u001b[43m[\u001b[49m\u001b[43mkey\u001b[49m\u001b[43m]\u001b[49m \u001b[38;5;28;01mif\u001b[39;00m axis \u001b[38;5;241m==\u001b[39m \u001b[38;5;241m0\u001b[39m \u001b[38;5;28;01melse\u001b[39;00m array[:, key]\n",
      "\u001b[1;31mMemoryError\u001b[0m: Unable to allocate 7.54 GiB for an array with shape (741028, 1365) and data type float64"
     ]
    }
   ],
   "source": [
    "# Split the data into training and testing sets\n",
    "X_train, X_test, y_train, y_test = train_test_split(X_poly, y, test_size=0.2, random_state=92)"
   ]
  },
  {
   "cell_type": "code",
   "execution_count": 79,
   "id": "dbfbb7ca",
   "metadata": {},
   "outputs": [
    {
     "data": {
      "text/html": [
       "<style>#sk-container-id-7 {color: black;}#sk-container-id-7 pre{padding: 0;}#sk-container-id-7 div.sk-toggleable {background-color: white;}#sk-container-id-7 label.sk-toggleable__label {cursor: pointer;display: block;width: 100%;margin-bottom: 0;padding: 0.3em;box-sizing: border-box;text-align: center;}#sk-container-id-7 label.sk-toggleable__label-arrow:before {content: \"▸\";float: left;margin-right: 0.25em;color: #696969;}#sk-container-id-7 label.sk-toggleable__label-arrow:hover:before {color: black;}#sk-container-id-7 div.sk-estimator:hover label.sk-toggleable__label-arrow:before {color: black;}#sk-container-id-7 div.sk-toggleable__content {max-height: 0;max-width: 0;overflow: hidden;text-align: left;background-color: #f0f8ff;}#sk-container-id-7 div.sk-toggleable__content pre {margin: 0.2em;color: black;border-radius: 0.25em;background-color: #f0f8ff;}#sk-container-id-7 input.sk-toggleable__control:checked~div.sk-toggleable__content {max-height: 200px;max-width: 100%;overflow: auto;}#sk-container-id-7 input.sk-toggleable__control:checked~label.sk-toggleable__label-arrow:before {content: \"▾\";}#sk-container-id-7 div.sk-estimator input.sk-toggleable__control:checked~label.sk-toggleable__label {background-color: #d4ebff;}#sk-container-id-7 div.sk-label input.sk-toggleable__control:checked~label.sk-toggleable__label {background-color: #d4ebff;}#sk-container-id-7 input.sk-hidden--visually {border: 0;clip: rect(1px 1px 1px 1px);clip: rect(1px, 1px, 1px, 1px);height: 1px;margin: -1px;overflow: hidden;padding: 0;position: absolute;width: 1px;}#sk-container-id-7 div.sk-estimator {font-family: monospace;background-color: #f0f8ff;border: 1px dotted black;border-radius: 0.25em;box-sizing: border-box;margin-bottom: 0.5em;}#sk-container-id-7 div.sk-estimator:hover {background-color: #d4ebff;}#sk-container-id-7 div.sk-parallel-item::after {content: \"\";width: 100%;border-bottom: 1px solid gray;flex-grow: 1;}#sk-container-id-7 div.sk-label:hover label.sk-toggleable__label {background-color: #d4ebff;}#sk-container-id-7 div.sk-serial::before {content: \"\";position: absolute;border-left: 1px solid gray;box-sizing: border-box;top: 0;bottom: 0;left: 50%;z-index: 0;}#sk-container-id-7 div.sk-serial {display: flex;flex-direction: column;align-items: center;background-color: white;padding-right: 0.2em;padding-left: 0.2em;position: relative;}#sk-container-id-7 div.sk-item {position: relative;z-index: 1;}#sk-container-id-7 div.sk-parallel {display: flex;align-items: stretch;justify-content: center;background-color: white;position: relative;}#sk-container-id-7 div.sk-item::before, #sk-container-id-7 div.sk-parallel-item::before {content: \"\";position: absolute;border-left: 1px solid gray;box-sizing: border-box;top: 0;bottom: 0;left: 50%;z-index: -1;}#sk-container-id-7 div.sk-parallel-item {display: flex;flex-direction: column;z-index: 1;position: relative;background-color: white;}#sk-container-id-7 div.sk-parallel-item:first-child::after {align-self: flex-end;width: 50%;}#sk-container-id-7 div.sk-parallel-item:last-child::after {align-self: flex-start;width: 50%;}#sk-container-id-7 div.sk-parallel-item:only-child::after {width: 0;}#sk-container-id-7 div.sk-dashed-wrapped {border: 1px dashed gray;margin: 0 0.4em 0.5em 0.4em;box-sizing: border-box;padding-bottom: 0.4em;background-color: white;}#sk-container-id-7 div.sk-label label {font-family: monospace;font-weight: bold;display: inline-block;line-height: 1.2em;}#sk-container-id-7 div.sk-label-container {text-align: center;}#sk-container-id-7 div.sk-container {/* jupyter's `normalize.less` sets `[hidden] { display: none; }` but bootstrap.min.css set `[hidden] { display: none !important; }` so we also need the `!important` here to be able to override the default hidden behavior on the sphinx rendered scikit-learn.org. See: https://github.com/scikit-learn/scikit-learn/issues/21755 */display: inline-block !important;position: relative;}#sk-container-id-7 div.sk-text-repr-fallback {display: none;}</style><div id=\"sk-container-id-7\" class=\"sk-top-container\"><div class=\"sk-text-repr-fallback\"><pre>LinearRegression()</pre><b>In a Jupyter environment, please rerun this cell to show the HTML representation or trust the notebook. <br />On GitHub, the HTML representation is unable to render, please try loading this page with nbviewer.org.</b></div><div class=\"sk-container\" hidden><div class=\"sk-item\"><div class=\"sk-estimator sk-toggleable\"><input class=\"sk-toggleable__control sk-hidden--visually\" id=\"sk-estimator-id-7\" type=\"checkbox\" checked><label for=\"sk-estimator-id-7\" class=\"sk-toggleable__label sk-toggleable__label-arrow\">LinearRegression</label><div class=\"sk-toggleable__content\"><pre>LinearRegression()</pre></div></div></div></div></div>"
      ],
      "text/plain": [
       "LinearRegression()"
      ]
     },
     "execution_count": 79,
     "metadata": {},
     "output_type": "execute_result"
    }
   ],
   "source": [
    "# Fit the polynomial regression model\n",
    "model = LinearRegression()\n",
    "model.fit(X_poly, y)"
   ]
  },
  {
   "cell_type": "code",
   "execution_count": 80,
   "id": "7c2cc4a2",
   "metadata": {},
   "outputs": [],
   "source": [
    "# Predict the target variable on both training and testing sets\n",
    "y_train_pred = model.predict(X_train)\n",
    "y_test_pred = model.predict(X_test)"
   ]
  },
  {
   "cell_type": "code",
   "execution_count": 81,
   "id": "49ee5c24",
   "metadata": {},
   "outputs": [],
   "source": [
    "# Get coefficients and intercept\n",
    "coefficients = model.coef_\n",
    "intercept = model.intercept_"
   ]
  },
  {
   "cell_type": "code",
   "execution_count": 82,
   "id": "11f8013a",
   "metadata": {},
   "outputs": [],
   "source": [
    "# Predict the target variable\n",
    "predicted_values = model.predict(X_poly)"
   ]
  },
  {
   "cell_type": "code",
   "execution_count": 83,
   "id": "eb5f416b",
   "metadata": {
    "collapsed": true
   },
   "outputs": [
    {
     "name": "stdout",
     "output_type": "stream",
     "text": [
      "Coefficients: [[ 7.33214034e-11 -1.45676678e-01 -2.83243049e+00 -1.33444472e-01\n",
      "   3.39657623e+00  2.33592485e-03 -2.20595759e-01  1.07760200e-01\n",
      "  -5.91714979e-02  6.66870346e-01  1.09262741e+00 -1.63148361e-01\n",
      "  -1.53242525e-03  1.47522528e-03  3.82107680e-04 -3.52626118e-03\n",
      "   9.16278153e-05  2.55946727e-03 -3.16567803e-03 -1.19411185e-03\n",
      "   3.73444546e-03  3.25892318e-03 -3.80930244e-05 -3.36417455e-02\n",
      "  -2.31767387e-03  1.41682523e-01 -4.87280908e-05 -1.65182239e-03\n",
      "   5.28145466e-03 -1.46647543e-02 -4.37551231e-02  9.36464930e-02\n",
      "  -8.47265381e-03 -1.37649188e-05  2.81770381e-03 -2.09447736e-05\n",
      "  -3.28716267e-03  1.24824719e-03  4.81012644e-04 -9.72614646e-04\n",
      "   2.54890984e-03 -2.22762535e-03 -1.31461843e-01  6.83723728e-05\n",
      "   1.53170799e-03 -1.98629387e-03  2.11332116e-02  6.40094605e-02\n",
      "  -1.61286978e-01  2.98023599e-03 -9.48837545e-07 -3.47448455e-05\n",
      "   1.10547296e-04  5.84480463e-05 -8.02055644e-05  1.02871488e-05\n",
      "   3.06394423e-05 -1.23221940e-03 -8.86132081e-04  1.51568766e-03\n",
      "  -7.76737395e-04  1.63299962e-03 -1.59758767e-04  2.22497709e-03\n",
      "  -2.50291108e-03  1.10353664e-03 -7.86611196e-03 -4.65121888e-03\n",
      "  -8.26968476e-04 -3.11299897e-03 -6.96052997e-04  4.21898147e-03\n",
      "   6.56674065e-04  6.24252296e-02 -1.23729339e-03 -1.84477074e-02\n",
      "   1.02668906e-02  2.01067910e-03]]\n",
      "Intercept: [-15.50821385]\n"
     ]
    }
   ],
   "source": [
    "# Print coefficients and intercept\n",
    "print(\"Coefficients:\", coefficients)\n",
    "print(\"Intercept:\", intercept)"
   ]
  },
  {
   "cell_type": "code",
   "execution_count": 84,
   "id": "7bff879d",
   "metadata": {},
   "outputs": [
    {
     "name": "stdout",
     "output_type": "stream",
     "text": [
      "Train MSE: 7.15613317820374\n",
      "Test MSE: 7.172275222612717\n",
      "Train R^2: 0.9747025208853097\n",
      "Test R^2: 0.974697659355052\n"
     ]
    }
   ],
   "source": [
    "# Evaluate the model\n",
    "train_mse = mean_squared_error(y_train, y_train_pred)\n",
    "test_mse = mean_squared_error(y_test, y_test_pred)\n",
    "train_r2 = r2_score(y_train, y_train_pred)\n",
    "test_r2 = r2_score(y_test, y_test_pred)\n",
    "\n",
    "print(\"Train MSE:\", train_mse)\n",
    "print(\"Test MSE:\", test_mse)\n",
    "print(\"Train R^2:\", train_r2)\n",
    "print(\"Test R^2:\", test_r2)"
   ]
  },
  {
   "cell_type": "code",
   "execution_count": null,
   "id": "26be069a",
   "metadata": {},
   "outputs": [],
   "source": []
  }
 ],
 "metadata": {
  "kernelspec": {
   "display_name": "Python 3 (ipykernel)",
   "language": "python",
   "name": "python3"
  },
  "language_info": {
   "codemirror_mode": {
    "name": "ipython",
    "version": 3
   },
   "file_extension": ".py",
   "mimetype": "text/x-python",
   "name": "python",
   "nbconvert_exporter": "python",
   "pygments_lexer": "ipython3",
   "version": "3.11.4"
  }
 },
 "nbformat": 4,
 "nbformat_minor": 5
}
