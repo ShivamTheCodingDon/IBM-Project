{
 "cells": [
  {
   "cell_type": "code",
   "execution_count": 1,
   "id": "abcdfec1",
   "metadata": {
    "scrolled": true
   },
   "outputs": [],
   "source": [
    "import numpy as np\n",
    "import pandas as pd\n",
    "import xgboost as xgb\n",
    "from sklearn.model_selection import train_test_split, cross_val_score\n",
    "from sklearn.metrics import mean_squared_error, r2_score"
   ]
  },
  {
   "cell_type": "markdown",
   "id": "177de0a7",
   "metadata": {},
   "source": [
    "# Speed-Prediction"
   ]
  },
  {
   "cell_type": "code",
   "execution_count": 2,
   "id": "6eb454c7",
   "metadata": {},
   "outputs": [
    {
     "data": {
      "text/html": [
       "<div>\n",
       "<style scoped>\n",
       "    .dataframe tbody tr th:only-of-type {\n",
       "        vertical-align: middle;\n",
       "    }\n",
       "\n",
       "    .dataframe tbody tr th {\n",
       "        vertical-align: top;\n",
       "    }\n",
       "\n",
       "    .dataframe thead th {\n",
       "        text-align: right;\n",
       "    }\n",
       "</style>\n",
       "<table border=\"1\" class=\"dataframe\">\n",
       "  <thead>\n",
       "    <tr style=\"text-align: right;\">\n",
       "      <th></th>\n",
       "      <th>u_q</th>\n",
       "      <th>coolant</th>\n",
       "      <th>stator_winding</th>\n",
       "      <th>u_d</th>\n",
       "      <th>stator_tooth</th>\n",
       "      <th>motor_speed</th>\n",
       "      <th>i_d</th>\n",
       "      <th>i_q</th>\n",
       "      <th>pm</th>\n",
       "      <th>stator_yoke</th>\n",
       "      <th>ambient</th>\n",
       "      <th>torque</th>\n",
       "    </tr>\n",
       "  </thead>\n",
       "  <tbody>\n",
       "    <tr>\n",
       "      <th>822583</th>\n",
       "      <td>68.716985</td>\n",
       "      <td>49.809901</td>\n",
       "      <td>58.406562</td>\n",
       "      <td>-37.289124</td>\n",
       "      <td>56.175167</td>\n",
       "      <td>1499.980225</td>\n",
       "      <td>-15.494592</td>\n",
       "      <td>70.794579</td>\n",
       "      <td>58.300533</td>\n",
       "      <td>53.073852</td>\n",
       "      <td>25.457240</td>\n",
       "      <td>50.000000</td>\n",
       "    </tr>\n",
       "    <tr>\n",
       "      <th>493564</th>\n",
       "      <td>20.755384</td>\n",
       "      <td>44.599976</td>\n",
       "      <td>113.316002</td>\n",
       "      <td>-30.253600</td>\n",
       "      <td>91.738765</td>\n",
       "      <td>500.018157</td>\n",
       "      <td>-79.940579</td>\n",
       "      <td>188.410821</td>\n",
       "      <td>75.109815</td>\n",
       "      <td>72.344401</td>\n",
       "      <td>24.152944</td>\n",
       "      <td>150.000007</td>\n",
       "    </tr>\n",
       "    <tr>\n",
       "      <th>433954</th>\n",
       "      <td>69.270348</td>\n",
       "      <td>19.449896</td>\n",
       "      <td>66.068680</td>\n",
       "      <td>-111.728729</td>\n",
       "      <td>52.814259</td>\n",
       "      <td>2999.963379</td>\n",
       "      <td>-124.302979</td>\n",
       "      <td>113.205444</td>\n",
       "      <td>57.926064</td>\n",
       "      <td>39.451782</td>\n",
       "      <td>23.443586</td>\n",
       "      <td>99.973587</td>\n",
       "    </tr>\n",
       "    <tr>\n",
       "      <th>375095</th>\n",
       "      <td>73.561066</td>\n",
       "      <td>18.636902</td>\n",
       "      <td>23.990009</td>\n",
       "      <td>-0.363043</td>\n",
       "      <td>24.142956</td>\n",
       "      <td>1499.986572</td>\n",
       "      <td>-2.000791</td>\n",
       "      <td>1.096605</td>\n",
       "      <td>33.154404</td>\n",
       "      <td>22.413567</td>\n",
       "      <td>23.372068</td>\n",
       "      <td>0.069424</td>\n",
       "    </tr>\n",
       "    <tr>\n",
       "      <th>484166</th>\n",
       "      <td>1.895813</td>\n",
       "      <td>68.244739</td>\n",
       "      <td>96.774651</td>\n",
       "      <td>0.713429</td>\n",
       "      <td>85.238939</td>\n",
       "      <td>13.665952</td>\n",
       "      <td>-2.057795</td>\n",
       "      <td>1.138674</td>\n",
       "      <td>71.920140</td>\n",
       "      <td>75.846451</td>\n",
       "      <td>24.530464</td>\n",
       "      <td>0.039133</td>\n",
       "    </tr>\n",
       "  </tbody>\n",
       "</table>\n",
       "</div>"
      ],
      "text/plain": [
       "              u_q    coolant  stator_winding         u_d  stator_tooth  \\\n",
       "822583  68.716985  49.809901       58.406562  -37.289124     56.175167   \n",
       "493564  20.755384  44.599976      113.316002  -30.253600     91.738765   \n",
       "433954  69.270348  19.449896       66.068680 -111.728729     52.814259   \n",
       "375095  73.561066  18.636902       23.990009   -0.363043     24.142956   \n",
       "484166   1.895813  68.244739       96.774651    0.713429     85.238939   \n",
       "\n",
       "        motor_speed         i_d         i_q         pm  stator_yoke  \\\n",
       "822583  1499.980225  -15.494592   70.794579  58.300533    53.073852   \n",
       "493564   500.018157  -79.940579  188.410821  75.109815    72.344401   \n",
       "433954  2999.963379 -124.302979  113.205444  57.926064    39.451782   \n",
       "375095  1499.986572   -2.000791    1.096605  33.154404    22.413567   \n",
       "484166    13.665952   -2.057795    1.138674  71.920140    75.846451   \n",
       "\n",
       "          ambient      torque  \n",
       "822583  25.457240   50.000000  \n",
       "493564  24.152944  150.000007  \n",
       "433954  23.443586   99.973587  \n",
       "375095  23.372068    0.069424  \n",
       "484166  24.530464    0.039133  "
      ]
     },
     "execution_count": 2,
     "metadata": {},
     "output_type": "execute_result"
    }
   ],
   "source": [
    "df = pd.read_csv(\"outlier_removed_org.csv\")\n",
    "df.sample(5)"
   ]
  },
  {
   "cell_type": "code",
   "execution_count": 3,
   "id": "3a41dc41",
   "metadata": {},
   "outputs": [
    {
     "data": {
      "text/html": [
       "<div>\n",
       "<style scoped>\n",
       "    .dataframe tbody tr th:only-of-type {\n",
       "        vertical-align: middle;\n",
       "    }\n",
       "\n",
       "    .dataframe tbody tr th {\n",
       "        vertical-align: top;\n",
       "    }\n",
       "\n",
       "    .dataframe thead th {\n",
       "        text-align: right;\n",
       "    }\n",
       "</style>\n",
       "<table border=\"1\" class=\"dataframe\">\n",
       "  <thead>\n",
       "    <tr style=\"text-align: right;\">\n",
       "      <th></th>\n",
       "      <th>u_q</th>\n",
       "      <th>coolant</th>\n",
       "      <th>stator_winding</th>\n",
       "      <th>u_d</th>\n",
       "      <th>stator_tooth</th>\n",
       "      <th>i_d</th>\n",
       "      <th>i_q</th>\n",
       "      <th>pm</th>\n",
       "      <th>stator_yoke</th>\n",
       "      <th>ambient</th>\n",
       "      <th>torque</th>\n",
       "    </tr>\n",
       "  </thead>\n",
       "  <tbody>\n",
       "    <tr>\n",
       "      <th>173337</th>\n",
       "      <td>131.743118</td>\n",
       "      <td>23.220242</td>\n",
       "      <td>36.483273</td>\n",
       "      <td>-3.020050</td>\n",
       "      <td>36.039875</td>\n",
       "      <td>-45.508091</td>\n",
       "      <td>1.171260</td>\n",
       "      <td>44.946644</td>\n",
       "      <td>31.360949</td>\n",
       "      <td>23.510765</td>\n",
       "      <td>-5.305682e-01</td>\n",
       "    </tr>\n",
       "    <tr>\n",
       "      <th>294382</th>\n",
       "      <td>119.381119</td>\n",
       "      <td>18.993454</td>\n",
       "      <td>63.932823</td>\n",
       "      <td>-52.012161</td>\n",
       "      <td>52.917957</td>\n",
       "      <td>-118.984337</td>\n",
       "      <td>22.732635</td>\n",
       "      <td>65.723526</td>\n",
       "      <td>38.773849</td>\n",
       "      <td>22.395842</td>\n",
       "      <td>2.001521e+01</td>\n",
       "    </tr>\n",
       "    <tr>\n",
       "      <th>744397</th>\n",
       "      <td>46.650700</td>\n",
       "      <td>67.991580</td>\n",
       "      <td>104.791162</td>\n",
       "      <td>-118.543994</td>\n",
       "      <td>91.677664</td>\n",
       "      <td>-158.064510</td>\n",
       "      <td>115.707295</td>\n",
       "      <td>85.847361</td>\n",
       "      <td>79.344978</td>\n",
       "      <td>26.384478</td>\n",
       "      <td>1.069333e+02</td>\n",
       "    </tr>\n",
       "    <tr>\n",
       "      <th>415816</th>\n",
       "      <td>59.020966</td>\n",
       "      <td>65.024521</td>\n",
       "      <td>104.791176</td>\n",
       "      <td>-115.770660</td>\n",
       "      <td>89.096138</td>\n",
       "      <td>-165.044769</td>\n",
       "      <td>63.193829</td>\n",
       "      <td>75.732971</td>\n",
       "      <td>75.762482</td>\n",
       "      <td>26.427488</td>\n",
       "      <td>5.825471e+01</td>\n",
       "    </tr>\n",
       "    <tr>\n",
       "      <th>692091</th>\n",
       "      <td>-2.036200</td>\n",
       "      <td>50.128496</td>\n",
       "      <td>58.371314</td>\n",
       "      <td>1.198199</td>\n",
       "      <td>55.835528</td>\n",
       "      <td>-2.000682</td>\n",
       "      <td>1.097439</td>\n",
       "      <td>64.082791</td>\n",
       "      <td>53.154303</td>\n",
       "      <td>25.186641</td>\n",
       "      <td>-1.935200e-69</td>\n",
       "    </tr>\n",
       "  </tbody>\n",
       "</table>\n",
       "</div>"
      ],
      "text/plain": [
       "               u_q    coolant  stator_winding         u_d  stator_tooth  \\\n",
       "173337  131.743118  23.220242       36.483273   -3.020050     36.039875   \n",
       "294382  119.381119  18.993454       63.932823  -52.012161     52.917957   \n",
       "744397   46.650700  67.991580      104.791162 -118.543994     91.677664   \n",
       "415816   59.020966  65.024521      104.791176 -115.770660     89.096138   \n",
       "692091   -2.036200  50.128496       58.371314    1.198199     55.835528   \n",
       "\n",
       "               i_d         i_q         pm  stator_yoke    ambient  \\\n",
       "173337  -45.508091    1.171260  44.946644    31.360949  23.510765   \n",
       "294382 -118.984337   22.732635  65.723526    38.773849  22.395842   \n",
       "744397 -158.064510  115.707295  85.847361    79.344978  26.384478   \n",
       "415816 -165.044769   63.193829  75.732971    75.762482  26.427488   \n",
       "692091   -2.000682    1.097439  64.082791    53.154303  25.186641   \n",
       "\n",
       "              torque  \n",
       "173337 -5.305682e-01  \n",
       "294382  2.001521e+01  \n",
       "744397  1.069333e+02  \n",
       "415816  5.825471e+01  \n",
       "692091 -1.935200e-69  "
      ]
     },
     "execution_count": 3,
     "metadata": {},
     "output_type": "execute_result"
    }
   ],
   "source": [
    "X = df.drop(columns=['motor_speed'])\n",
    "X.sample(5)"
   ]
  },
  {
   "cell_type": "code",
   "execution_count": 4,
   "id": "0710cc1a",
   "metadata": {},
   "outputs": [
    {
     "data": {
      "text/html": [
       "<div>\n",
       "<style scoped>\n",
       "    .dataframe tbody tr th:only-of-type {\n",
       "        vertical-align: middle;\n",
       "    }\n",
       "\n",
       "    .dataframe tbody tr th {\n",
       "        vertical-align: top;\n",
       "    }\n",
       "\n",
       "    .dataframe thead th {\n",
       "        text-align: right;\n",
       "    }\n",
       "</style>\n",
       "<table border=\"1\" class=\"dataframe\">\n",
       "  <thead>\n",
       "    <tr style=\"text-align: right;\">\n",
       "      <th></th>\n",
       "      <th>motor_speed</th>\n",
       "    </tr>\n",
       "  </thead>\n",
       "  <tbody>\n",
       "    <tr>\n",
       "      <th>810616</th>\n",
       "      <td>999.986989</td>\n",
       "    </tr>\n",
       "    <tr>\n",
       "      <th>413392</th>\n",
       "      <td>149.923111</td>\n",
       "    </tr>\n",
       "    <tr>\n",
       "      <th>72885</th>\n",
       "      <td>4499.958008</td>\n",
       "    </tr>\n",
       "    <tr>\n",
       "      <th>87138</th>\n",
       "      <td>99.985130</td>\n",
       "    </tr>\n",
       "    <tr>\n",
       "      <th>403983</th>\n",
       "      <td>0.000804</td>\n",
       "    </tr>\n",
       "  </tbody>\n",
       "</table>\n",
       "</div>"
      ],
      "text/plain": [
       "        motor_speed\n",
       "810616   999.986989\n",
       "413392   149.923111\n",
       "72885   4499.958008\n",
       "87138     99.985130\n",
       "403983     0.000804"
      ]
     },
     "execution_count": 4,
     "metadata": {},
     "output_type": "execute_result"
    }
   ],
   "source": [
    "y = df[['motor_speed']]\n",
    "y.sample(5)"
   ]
  },
  {
   "cell_type": "code",
   "execution_count": 5,
   "id": "b8cc01ed",
   "metadata": {},
   "outputs": [],
   "source": [
    "# Step 1: Split the data into training and testing sets\n",
    "X_train, X_test, y_train, y_test = train_test_split(X, y, test_size=0.2, random_state=42)"
   ]
  },
  {
   "cell_type": "code",
   "execution_count": 6,
   "id": "48f52d90",
   "metadata": {},
   "outputs": [],
   "source": [
    "# Step 2: Create an XGBoost model\n",
    "model = xgb.XGBRegressor(\n",
    "    objective='reg:squarederror',  # Specify the objective for regression tasks\n",
    "    learning_rate=0.8,             # Step size shrinkage used in updates to prevent overfitting\n",
    "    n_estimators=100,              # Number of boosting rounds (trees)\n",
    "    max_depth=6,                   # Maximum depth of each tree\n",
    "    subsample=0.8,                 # Fraction of samples used for fitting each tree\n",
    "    colsample_bytree=0.8,          # Fraction of features used for fitting each tree\n",
    "    random_state=42                # For reproducibility\n",
    ")"
   ]
  },
  {
   "cell_type": "code",
   "execution_count": 7,
   "id": "7f80243a",
   "metadata": {},
   "outputs": [
    {
     "data": {
      "text/html": [
       "<style>#sk-container-id-1 {color: black;}#sk-container-id-1 pre{padding: 0;}#sk-container-id-1 div.sk-toggleable {background-color: white;}#sk-container-id-1 label.sk-toggleable__label {cursor: pointer;display: block;width: 100%;margin-bottom: 0;padding: 0.3em;box-sizing: border-box;text-align: center;}#sk-container-id-1 label.sk-toggleable__label-arrow:before {content: \"▸\";float: left;margin-right: 0.25em;color: #696969;}#sk-container-id-1 label.sk-toggleable__label-arrow:hover:before {color: black;}#sk-container-id-1 div.sk-estimator:hover label.sk-toggleable__label-arrow:before {color: black;}#sk-container-id-1 div.sk-toggleable__content {max-height: 0;max-width: 0;overflow: hidden;text-align: left;background-color: #f0f8ff;}#sk-container-id-1 div.sk-toggleable__content pre {margin: 0.2em;color: black;border-radius: 0.25em;background-color: #f0f8ff;}#sk-container-id-1 input.sk-toggleable__control:checked~div.sk-toggleable__content {max-height: 200px;max-width: 100%;overflow: auto;}#sk-container-id-1 input.sk-toggleable__control:checked~label.sk-toggleable__label-arrow:before {content: \"▾\";}#sk-container-id-1 div.sk-estimator input.sk-toggleable__control:checked~label.sk-toggleable__label {background-color: #d4ebff;}#sk-container-id-1 div.sk-label input.sk-toggleable__control:checked~label.sk-toggleable__label {background-color: #d4ebff;}#sk-container-id-1 input.sk-hidden--visually {border: 0;clip: rect(1px 1px 1px 1px);clip: rect(1px, 1px, 1px, 1px);height: 1px;margin: -1px;overflow: hidden;padding: 0;position: absolute;width: 1px;}#sk-container-id-1 div.sk-estimator {font-family: monospace;background-color: #f0f8ff;border: 1px dotted black;border-radius: 0.25em;box-sizing: border-box;margin-bottom: 0.5em;}#sk-container-id-1 div.sk-estimator:hover {background-color: #d4ebff;}#sk-container-id-1 div.sk-parallel-item::after {content: \"\";width: 100%;border-bottom: 1px solid gray;flex-grow: 1;}#sk-container-id-1 div.sk-label:hover label.sk-toggleable__label {background-color: #d4ebff;}#sk-container-id-1 div.sk-serial::before {content: \"\";position: absolute;border-left: 1px solid gray;box-sizing: border-box;top: 0;bottom: 0;left: 50%;z-index: 0;}#sk-container-id-1 div.sk-serial {display: flex;flex-direction: column;align-items: center;background-color: white;padding-right: 0.2em;padding-left: 0.2em;position: relative;}#sk-container-id-1 div.sk-item {position: relative;z-index: 1;}#sk-container-id-1 div.sk-parallel {display: flex;align-items: stretch;justify-content: center;background-color: white;position: relative;}#sk-container-id-1 div.sk-item::before, #sk-container-id-1 div.sk-parallel-item::before {content: \"\";position: absolute;border-left: 1px solid gray;box-sizing: border-box;top: 0;bottom: 0;left: 50%;z-index: -1;}#sk-container-id-1 div.sk-parallel-item {display: flex;flex-direction: column;z-index: 1;position: relative;background-color: white;}#sk-container-id-1 div.sk-parallel-item:first-child::after {align-self: flex-end;width: 50%;}#sk-container-id-1 div.sk-parallel-item:last-child::after {align-self: flex-start;width: 50%;}#sk-container-id-1 div.sk-parallel-item:only-child::after {width: 0;}#sk-container-id-1 div.sk-dashed-wrapped {border: 1px dashed gray;margin: 0 0.4em 0.5em 0.4em;box-sizing: border-box;padding-bottom: 0.4em;background-color: white;}#sk-container-id-1 div.sk-label label {font-family: monospace;font-weight: bold;display: inline-block;line-height: 1.2em;}#sk-container-id-1 div.sk-label-container {text-align: center;}#sk-container-id-1 div.sk-container {/* jupyter's `normalize.less` sets `[hidden] { display: none; }` but bootstrap.min.css set `[hidden] { display: none !important; }` so we also need the `!important` here to be able to override the default hidden behavior on the sphinx rendered scikit-learn.org. See: https://github.com/scikit-learn/scikit-learn/issues/21755 */display: inline-block !important;position: relative;}#sk-container-id-1 div.sk-text-repr-fallback {display: none;}</style><div id=\"sk-container-id-1\" class=\"sk-top-container\"><div class=\"sk-text-repr-fallback\"><pre>XGBRegressor(base_score=None, booster=None, callbacks=None,\n",
       "             colsample_bylevel=None, colsample_bynode=None,\n",
       "             colsample_bytree=0.8, early_stopping_rounds=None,\n",
       "             enable_categorical=False, eval_metric=None, feature_types=None,\n",
       "             gamma=None, gpu_id=None, grow_policy=None, importance_type=None,\n",
       "             interaction_constraints=None, learning_rate=0.8, max_bin=None,\n",
       "             max_cat_threshold=None, max_cat_to_onehot=None,\n",
       "             max_delta_step=None, max_depth=6, max_leaves=None,\n",
       "             min_child_weight=None, missing=nan, monotone_constraints=None,\n",
       "             n_estimators=100, n_jobs=None, num_parallel_tree=None,\n",
       "             predictor=None, random_state=42, ...)</pre><b>In a Jupyter environment, please rerun this cell to show the HTML representation or trust the notebook. <br />On GitHub, the HTML representation is unable to render, please try loading this page with nbviewer.org.</b></div><div class=\"sk-container\" hidden><div class=\"sk-item\"><div class=\"sk-estimator sk-toggleable\"><input class=\"sk-toggleable__control sk-hidden--visually\" id=\"sk-estimator-id-1\" type=\"checkbox\" checked><label for=\"sk-estimator-id-1\" class=\"sk-toggleable__label sk-toggleable__label-arrow\">XGBRegressor</label><div class=\"sk-toggleable__content\"><pre>XGBRegressor(base_score=None, booster=None, callbacks=None,\n",
       "             colsample_bylevel=None, colsample_bynode=None,\n",
       "             colsample_bytree=0.8, early_stopping_rounds=None,\n",
       "             enable_categorical=False, eval_metric=None, feature_types=None,\n",
       "             gamma=None, gpu_id=None, grow_policy=None, importance_type=None,\n",
       "             interaction_constraints=None, learning_rate=0.8, max_bin=None,\n",
       "             max_cat_threshold=None, max_cat_to_onehot=None,\n",
       "             max_delta_step=None, max_depth=6, max_leaves=None,\n",
       "             min_child_weight=None, missing=nan, monotone_constraints=None,\n",
       "             n_estimators=100, n_jobs=None, num_parallel_tree=None,\n",
       "             predictor=None, random_state=42, ...)</pre></div></div></div></div></div>"
      ],
      "text/plain": [
       "XGBRegressor(base_score=None, booster=None, callbacks=None,\n",
       "             colsample_bylevel=None, colsample_bynode=None,\n",
       "             colsample_bytree=0.8, early_stopping_rounds=None,\n",
       "             enable_categorical=False, eval_metric=None, feature_types=None,\n",
       "             gamma=None, gpu_id=None, grow_policy=None, importance_type=None,\n",
       "             interaction_constraints=None, learning_rate=0.8, max_bin=None,\n",
       "             max_cat_threshold=None, max_cat_to_onehot=None,\n",
       "             max_delta_step=None, max_depth=6, max_leaves=None,\n",
       "             min_child_weight=None, missing=nan, monotone_constraints=None,\n",
       "             n_estimators=100, n_jobs=None, num_parallel_tree=None,\n",
       "             predictor=None, random_state=42, ...)"
      ]
     },
     "execution_count": 7,
     "metadata": {},
     "output_type": "execute_result"
    }
   ],
   "source": [
    "# Step 3: Fit the model to the training data\n",
    "model.fit(X_train, y_train)"
   ]
  },
  {
   "cell_type": "code",
   "execution_count": 8,
   "id": "9ee66ffc",
   "metadata": {},
   "outputs": [],
   "source": [
    "# Step 4: Make predictions on the test data\n",
    "y_pred = model.predict(X_test)"
   ]
  },
  {
   "cell_type": "code",
   "execution_count": 9,
   "id": "ae5f65f3",
   "metadata": {},
   "outputs": [
    {
     "name": "stdout",
     "output_type": "stream",
     "text": [
      "Mean Squared Error: 2508.3321041150875\n",
      "R-squared: 0.9992153709212537\n"
     ]
    }
   ],
   "source": [
    "#Step 5: Evaluate the model\n",
    "mse = mean_squared_error(y_test, y_pred)\n",
    "r2 = r2_score(y_test, y_pred)\n",
    "\n",
    "print(\"Mean Squared Error:\", mse)\n",
    "print(\"R-squared:\", r2)"
   ]
  },
  {
   "cell_type": "code",
   "execution_count": null,
   "id": "c284a114",
   "metadata": {},
   "outputs": [],
   "source": [
    "\n",
    "# # Define a range of random state values and model parameters to iterate over\n",
    "# random_states = [42, 123, 456]\n",
    "# learning_rates = [0.1, 0.01]\n",
    "# n_estimators_list = [100, 200, 300]\n",
    "# max_depths = [3, 5]\n",
    "\n",
    "# best_accuracy = 0\n",
    "# best_random_state = None\n",
    "# best_params = {}\n",
    "\n",
    "# # Loop through random state and model parameter combinations\n",
    "# for random_state in random_states:\n",
    "#     for learning_rate in learning_rates:\n",
    "#         for n_estimators in n_estimators_list:\n",
    "#             for max_depth in max_depths:\n",
    "#                 # Split the data into training and testing sets using the current random state\n",
    "#                 X_train, X_test, y_train, y_test = train_test_split(X, y, test_size=0.2, random_state=random_state)\n",
    "\n",
    "#                 # Create the XGBoost model with the current parameter combination\n",
    "#                 model = xgb.XGBRegressor(\n",
    "#                     objective='reg:squarederror',\n",
    "#                     learning_rate=learning_rate,\n",
    "#                     n_estimators=n_estimators,\n",
    "#                     max_depth=max_depth,\n",
    "#                     random_state=random_state\n",
    "#                 )\n",
    "\n",
    "#                 # Perform cross-validation and calculate mean accuracy\n",
    "#                 cv_scores = cross_val_score(model, X_train, y_train, cv=5)\n",
    "#                 mean_accuracy = np.mean(cv_scores)\n",
    "\n",
    "#                 # Check if the current accuracy is better than the best accuracy found so far\n",
    "#                 if mean_accuracy > best_accuracy:\n",
    "#                     best_accuracy = mean_accuracy\n",
    "#                     best_random_state = random_state\n",
    "#                     best_params = {\n",
    "#                         'learning_rate': learning_rate,\n",
    "#                         'n_estimators': n_estimators,\n",
    "#                         'max_depth': max_depth\n",
    "#                     }\n",
    "\n",
    "# # Print the best accuracy and corresponding random state and model parameters\n",
    "# print(\"Best Accuracy:\", best_accuracy)\n",
    "# print(\"Best Random State:\", best_random_state)\n",
    "# print(\"Best Model Parameters:\", best_params)"
   ]
  },
  {
   "cell_type": "markdown",
   "id": "f391f68a",
   "metadata": {},
   "source": [
    "# Torque-Prediction"
   ]
  },
  {
   "cell_type": "code",
   "execution_count": 51,
   "id": "594c75d8",
   "metadata": {},
   "outputs": [],
   "source": [
    "X = df.drop(columns=['torque'])\n",
    "y = df[['torque']]"
   ]
  },
  {
   "cell_type": "code",
   "execution_count": 52,
   "id": "07fb3824",
   "metadata": {},
   "outputs": [],
   "source": [
    "# Step 1: Split the data into training and testing sets\n",
    "X_train, X_test, y_train, y_test = train_test_split(X, y, test_size=0.2, random_state=42)"
   ]
  },
  {
   "cell_type": "code",
   "execution_count": 57,
   "id": "7ec8361d",
   "metadata": {},
   "outputs": [],
   "source": [
    "# Step 2: Create an XGBoost model\n",
    "model = xgb.XGBRegressor(\n",
    "    objective='reg:squarederror',  # Specify the objective for regression tasks\n",
    "    learning_rate=1,             # Step size shrinkage used in updates to prevent overfitting\n",
    "    n_estimators=100,              # Number of boosting rounds (trees)\n",
    "    max_depth=12,                   # Maximum depth of each tree\n",
    "    subsample=0.8,                 # Fraction of samples used for fitting each tree\n",
    "    colsample_bytree=0.8,          # Fraction of features used for fitting each tree\n",
    "    random_state=42                # For reproducibility\n",
    ")"
   ]
  },
  {
   "cell_type": "code",
   "execution_count": 58,
   "id": "c26cf141",
   "metadata": {},
   "outputs": [
    {
     "data": {
      "text/html": [
       "<style>#sk-container-id-13 {color: black;}#sk-container-id-13 pre{padding: 0;}#sk-container-id-13 div.sk-toggleable {background-color: white;}#sk-container-id-13 label.sk-toggleable__label {cursor: pointer;display: block;width: 100%;margin-bottom: 0;padding: 0.3em;box-sizing: border-box;text-align: center;}#sk-container-id-13 label.sk-toggleable__label-arrow:before {content: \"▸\";float: left;margin-right: 0.25em;color: #696969;}#sk-container-id-13 label.sk-toggleable__label-arrow:hover:before {color: black;}#sk-container-id-13 div.sk-estimator:hover label.sk-toggleable__label-arrow:before {color: black;}#sk-container-id-13 div.sk-toggleable__content {max-height: 0;max-width: 0;overflow: hidden;text-align: left;background-color: #f0f8ff;}#sk-container-id-13 div.sk-toggleable__content pre {margin: 0.2em;color: black;border-radius: 0.25em;background-color: #f0f8ff;}#sk-container-id-13 input.sk-toggleable__control:checked~div.sk-toggleable__content {max-height: 200px;max-width: 100%;overflow: auto;}#sk-container-id-13 input.sk-toggleable__control:checked~label.sk-toggleable__label-arrow:before {content: \"▾\";}#sk-container-id-13 div.sk-estimator input.sk-toggleable__control:checked~label.sk-toggleable__label {background-color: #d4ebff;}#sk-container-id-13 div.sk-label input.sk-toggleable__control:checked~label.sk-toggleable__label {background-color: #d4ebff;}#sk-container-id-13 input.sk-hidden--visually {border: 0;clip: rect(1px 1px 1px 1px);clip: rect(1px, 1px, 1px, 1px);height: 1px;margin: -1px;overflow: hidden;padding: 0;position: absolute;width: 1px;}#sk-container-id-13 div.sk-estimator {font-family: monospace;background-color: #f0f8ff;border: 1px dotted black;border-radius: 0.25em;box-sizing: border-box;margin-bottom: 0.5em;}#sk-container-id-13 div.sk-estimator:hover {background-color: #d4ebff;}#sk-container-id-13 div.sk-parallel-item::after {content: \"\";width: 100%;border-bottom: 1px solid gray;flex-grow: 1;}#sk-container-id-13 div.sk-label:hover label.sk-toggleable__label {background-color: #d4ebff;}#sk-container-id-13 div.sk-serial::before {content: \"\";position: absolute;border-left: 1px solid gray;box-sizing: border-box;top: 0;bottom: 0;left: 50%;z-index: 0;}#sk-container-id-13 div.sk-serial {display: flex;flex-direction: column;align-items: center;background-color: white;padding-right: 0.2em;padding-left: 0.2em;position: relative;}#sk-container-id-13 div.sk-item {position: relative;z-index: 1;}#sk-container-id-13 div.sk-parallel {display: flex;align-items: stretch;justify-content: center;background-color: white;position: relative;}#sk-container-id-13 div.sk-item::before, #sk-container-id-13 div.sk-parallel-item::before {content: \"\";position: absolute;border-left: 1px solid gray;box-sizing: border-box;top: 0;bottom: 0;left: 50%;z-index: -1;}#sk-container-id-13 div.sk-parallel-item {display: flex;flex-direction: column;z-index: 1;position: relative;background-color: white;}#sk-container-id-13 div.sk-parallel-item:first-child::after {align-self: flex-end;width: 50%;}#sk-container-id-13 div.sk-parallel-item:last-child::after {align-self: flex-start;width: 50%;}#sk-container-id-13 div.sk-parallel-item:only-child::after {width: 0;}#sk-container-id-13 div.sk-dashed-wrapped {border: 1px dashed gray;margin: 0 0.4em 0.5em 0.4em;box-sizing: border-box;padding-bottom: 0.4em;background-color: white;}#sk-container-id-13 div.sk-label label {font-family: monospace;font-weight: bold;display: inline-block;line-height: 1.2em;}#sk-container-id-13 div.sk-label-container {text-align: center;}#sk-container-id-13 div.sk-container {/* jupyter's `normalize.less` sets `[hidden] { display: none; }` but bootstrap.min.css set `[hidden] { display: none !important; }` so we also need the `!important` here to be able to override the default hidden behavior on the sphinx rendered scikit-learn.org. See: https://github.com/scikit-learn/scikit-learn/issues/21755 */display: inline-block !important;position: relative;}#sk-container-id-13 div.sk-text-repr-fallback {display: none;}</style><div id=\"sk-container-id-13\" class=\"sk-top-container\"><div class=\"sk-text-repr-fallback\"><pre>XGBRegressor(base_score=None, booster=None, callbacks=None,\n",
       "             colsample_bylevel=None, colsample_bynode=None,\n",
       "             colsample_bytree=0.8, early_stopping_rounds=None,\n",
       "             enable_categorical=False, eval_metric=None, feature_types=None,\n",
       "             gamma=None, gpu_id=None, grow_policy=None, importance_type=None,\n",
       "             interaction_constraints=None, learning_rate=1, max_bin=None,\n",
       "             max_cat_threshold=None, max_cat_to_onehot=None,\n",
       "             max_delta_step=None, max_depth=12, max_leaves=None,\n",
       "             min_child_weight=None, missing=nan, monotone_constraints=None,\n",
       "             n_estimators=100, n_jobs=None, num_parallel_tree=None,\n",
       "             predictor=None, random_state=42, ...)</pre><b>In a Jupyter environment, please rerun this cell to show the HTML representation or trust the notebook. <br />On GitHub, the HTML representation is unable to render, please try loading this page with nbviewer.org.</b></div><div class=\"sk-container\" hidden><div class=\"sk-item\"><div class=\"sk-estimator sk-toggleable\"><input class=\"sk-toggleable__control sk-hidden--visually\" id=\"sk-estimator-id-13\" type=\"checkbox\" checked><label for=\"sk-estimator-id-13\" class=\"sk-toggleable__label sk-toggleable__label-arrow\">XGBRegressor</label><div class=\"sk-toggleable__content\"><pre>XGBRegressor(base_score=None, booster=None, callbacks=None,\n",
       "             colsample_bylevel=None, colsample_bynode=None,\n",
       "             colsample_bytree=0.8, early_stopping_rounds=None,\n",
       "             enable_categorical=False, eval_metric=None, feature_types=None,\n",
       "             gamma=None, gpu_id=None, grow_policy=None, importance_type=None,\n",
       "             interaction_constraints=None, learning_rate=1, max_bin=None,\n",
       "             max_cat_threshold=None, max_cat_to_onehot=None,\n",
       "             max_delta_step=None, max_depth=12, max_leaves=None,\n",
       "             min_child_weight=None, missing=nan, monotone_constraints=None,\n",
       "             n_estimators=100, n_jobs=None, num_parallel_tree=None,\n",
       "             predictor=None, random_state=42, ...)</pre></div></div></div></div></div>"
      ],
      "text/plain": [
       "XGBRegressor(base_score=None, booster=None, callbacks=None,\n",
       "             colsample_bylevel=None, colsample_bynode=None,\n",
       "             colsample_bytree=0.8, early_stopping_rounds=None,\n",
       "             enable_categorical=False, eval_metric=None, feature_types=None,\n",
       "             gamma=None, gpu_id=None, grow_policy=None, importance_type=None,\n",
       "             interaction_constraints=None, learning_rate=1, max_bin=None,\n",
       "             max_cat_threshold=None, max_cat_to_onehot=None,\n",
       "             max_delta_step=None, max_depth=12, max_leaves=None,\n",
       "             min_child_weight=None, missing=nan, monotone_constraints=None,\n",
       "             n_estimators=100, n_jobs=None, num_parallel_tree=None,\n",
       "             predictor=None, random_state=42, ...)"
      ]
     },
     "execution_count": 58,
     "metadata": {},
     "output_type": "execute_result"
    }
   ],
   "source": [
    "# Step 3: Fit the model to the training data\n",
    "model.fit(X_train, y_train)"
   ]
  },
  {
   "cell_type": "code",
   "execution_count": 59,
   "id": "25efccc4",
   "metadata": {},
   "outputs": [],
   "source": [
    "# Step 4: Make predictions on the test data\n",
    "y_pred = model.predict(X_test)"
   ]
  },
  {
   "cell_type": "code",
   "execution_count": 60,
   "id": "2fe61929",
   "metadata": {},
   "outputs": [
    {
     "name": "stdout",
     "output_type": "stream",
     "text": [
      "Mean Squared Error: 0.3445811227189737\n",
      "R-squared: 0.9998921549379178\n"
     ]
    }
   ],
   "source": [
    "#Step 5: Evaluate the model\n",
    "mse = mean_squared_error(y_test, y_pred)\n",
    "r2 = r2_score(y_test, y_pred)\n",
    "\n",
    "print(\"Mean Squared Error:\", mse)\n",
    "print(\"R-squared:\", r2)"
   ]
  },
  {
   "cell_type": "markdown",
   "id": "e3400276",
   "metadata": {},
   "source": [
    "# Coolant-Prediction"
   ]
  },
  {
   "cell_type": "code",
   "execution_count": 3,
   "id": "d58813c6",
   "metadata": {},
   "outputs": [],
   "source": [
    "X = df.drop(columns=['coolant'])\n",
    "y = df[['coolant']]"
   ]
  },
  {
   "cell_type": "code",
   "execution_count": 4,
   "id": "d15a20f3",
   "metadata": {},
   "outputs": [
    {
     "data": {
      "text/html": [
       "<div>\n",
       "<style scoped>\n",
       "    .dataframe tbody tr th:only-of-type {\n",
       "        vertical-align: middle;\n",
       "    }\n",
       "\n",
       "    .dataframe tbody tr th {\n",
       "        vertical-align: top;\n",
       "    }\n",
       "\n",
       "    .dataframe thead th {\n",
       "        text-align: right;\n",
       "    }\n",
       "</style>\n",
       "<table border=\"1\" class=\"dataframe\">\n",
       "  <thead>\n",
       "    <tr style=\"text-align: right;\">\n",
       "      <th></th>\n",
       "      <th>u_q</th>\n",
       "      <th>stator_winding</th>\n",
       "      <th>u_d</th>\n",
       "      <th>stator_tooth</th>\n",
       "      <th>motor_speed</th>\n",
       "      <th>i_d</th>\n",
       "      <th>i_q</th>\n",
       "      <th>pm</th>\n",
       "      <th>stator_yoke</th>\n",
       "      <th>ambient</th>\n",
       "      <th>torque</th>\n",
       "    </tr>\n",
       "  </thead>\n",
       "  <tbody>\n",
       "    <tr>\n",
       "      <th>0</th>\n",
       "      <td>90.301086</td>\n",
       "      <td>46.627861</td>\n",
       "      <td>-92.912933</td>\n",
       "      <td>37.219505</td>\n",
       "      <td>4999.959473</td>\n",
       "      <td>-141.435104</td>\n",
       "      <td>52.935848</td>\n",
       "      <td>35.045197</td>\n",
       "      <td>27.430012</td>\n",
       "      <td>20.899378</td>\n",
       "      <td>48.561615</td>\n",
       "    </tr>\n",
       "    <tr>\n",
       "      <th>1</th>\n",
       "      <td>90.450218</td>\n",
       "      <td>46.660896</td>\n",
       "      <td>-92.856468</td>\n",
       "      <td>37.326965</td>\n",
       "      <td>4999.958008</td>\n",
       "      <td>-141.503265</td>\n",
       "      <td>52.955212</td>\n",
       "      <td>35.090080</td>\n",
       "      <td>27.474701</td>\n",
       "      <td>21.009548</td>\n",
       "      <td>48.472355</td>\n",
       "    </tr>\n",
       "    <tr>\n",
       "      <th>2</th>\n",
       "      <td>90.530746</td>\n",
       "      <td>46.493481</td>\n",
       "      <td>-92.806671</td>\n",
       "      <td>37.351593</td>\n",
       "      <td>4999.955078</td>\n",
       "      <td>-141.524933</td>\n",
       "      <td>52.981113</td>\n",
       "      <td>35.137783</td>\n",
       "      <td>27.520298</td>\n",
       "      <td>21.024719</td>\n",
       "      <td>48.556767</td>\n",
       "    </tr>\n",
       "    <tr>\n",
       "      <th>3</th>\n",
       "      <td>90.633858</td>\n",
       "      <td>46.390057</td>\n",
       "      <td>-92.744507</td>\n",
       "      <td>37.405773</td>\n",
       "      <td>4999.953613</td>\n",
       "      <td>-141.659454</td>\n",
       "      <td>52.957489</td>\n",
       "      <td>35.175957</td>\n",
       "      <td>27.596558</td>\n",
       "      <td>21.067995</td>\n",
       "      <td>48.486523</td>\n",
       "    </tr>\n",
       "    <tr>\n",
       "      <th>4</th>\n",
       "      <td>90.783813</td>\n",
       "      <td>46.461845</td>\n",
       "      <td>-92.682083</td>\n",
       "      <td>37.428577</td>\n",
       "      <td>4999.952637</td>\n",
       "      <td>-141.654755</td>\n",
       "      <td>52.955505</td>\n",
       "      <td>35.237061</td>\n",
       "      <td>27.663696</td>\n",
       "      <td>21.140137</td>\n",
       "      <td>48.430492</td>\n",
       "    </tr>\n",
       "  </tbody>\n",
       "</table>\n",
       "</div>"
      ],
      "text/plain": [
       "         u_q  stator_winding        u_d  stator_tooth  motor_speed  \\\n",
       "0  90.301086       46.627861 -92.912933     37.219505  4999.959473   \n",
       "1  90.450218       46.660896 -92.856468     37.326965  4999.958008   \n",
       "2  90.530746       46.493481 -92.806671     37.351593  4999.955078   \n",
       "3  90.633858       46.390057 -92.744507     37.405773  4999.953613   \n",
       "4  90.783813       46.461845 -92.682083     37.428577  4999.952637   \n",
       "\n",
       "          i_d        i_q         pm  stator_yoke    ambient     torque  \n",
       "0 -141.435104  52.935848  35.045197    27.430012  20.899378  48.561615  \n",
       "1 -141.503265  52.955212  35.090080    27.474701  21.009548  48.472355  \n",
       "2 -141.524933  52.981113  35.137783    27.520298  21.024719  48.556767  \n",
       "3 -141.659454  52.957489  35.175957    27.596558  21.067995  48.486523  \n",
       "4 -141.654755  52.955505  35.237061    27.663696  21.140137  48.430492  "
      ]
     },
     "execution_count": 4,
     "metadata": {},
     "output_type": "execute_result"
    }
   ],
   "source": [
    "X.head()"
   ]
  },
  {
   "cell_type": "code",
   "execution_count": 5,
   "id": "10879342",
   "metadata": {},
   "outputs": [
    {
     "data": {
      "text/html": [
       "<div>\n",
       "<style scoped>\n",
       "    .dataframe tbody tr th:only-of-type {\n",
       "        vertical-align: middle;\n",
       "    }\n",
       "\n",
       "    .dataframe tbody tr th {\n",
       "        vertical-align: top;\n",
       "    }\n",
       "\n",
       "    .dataframe thead th {\n",
       "        text-align: right;\n",
       "    }\n",
       "</style>\n",
       "<table border=\"1\" class=\"dataframe\">\n",
       "  <thead>\n",
       "    <tr style=\"text-align: right;\">\n",
       "      <th></th>\n",
       "      <th>coolant</th>\n",
       "    </tr>\n",
       "  </thead>\n",
       "  <tbody>\n",
       "    <tr>\n",
       "      <th>0</th>\n",
       "      <td>19.310339</td>\n",
       "    </tr>\n",
       "    <tr>\n",
       "      <th>1</th>\n",
       "      <td>19.312284</td>\n",
       "    </tr>\n",
       "    <tr>\n",
       "      <th>2</th>\n",
       "      <td>19.303518</td>\n",
       "    </tr>\n",
       "    <tr>\n",
       "      <th>3</th>\n",
       "      <td>19.265827</td>\n",
       "    </tr>\n",
       "    <tr>\n",
       "      <th>4</th>\n",
       "      <td>19.215105</td>\n",
       "    </tr>\n",
       "  </tbody>\n",
       "</table>\n",
       "</div>"
      ],
      "text/plain": [
       "     coolant\n",
       "0  19.310339\n",
       "1  19.312284\n",
       "2  19.303518\n",
       "3  19.265827\n",
       "4  19.215105"
      ]
     },
     "execution_count": 5,
     "metadata": {},
     "output_type": "execute_result"
    }
   ],
   "source": [
    "y.head()"
   ]
  },
  {
   "cell_type": "code",
   "execution_count": 6,
   "id": "9eb630f5",
   "metadata": {},
   "outputs": [],
   "source": [
    "# Step 1: Split the data into training and testing sets\n",
    "X_train, X_test, y_train, y_test = train_test_split(X, y, test_size=0.2, random_state=42)"
   ]
  },
  {
   "cell_type": "code",
   "execution_count": 7,
   "id": "3ad12684",
   "metadata": {},
   "outputs": [],
   "source": [
    "# Step 2: Create an XGBoost model\n",
    "model = xgb.XGBRegressor(\n",
    "    objective='reg:squarederror',  # Specify the objective for regression tasks\n",
    "    learning_rate=1,             # Step size shrinkage used in updates to prevent overfitting\n",
    "    n_estimators=100,              # Number of boosting rounds (trees)\n",
    "    max_depth=15,                   # Maximum depth of each tree\n",
    "    subsample=0.8,                 # Fraction of samples used for fitting each tree\n",
    "    colsample_bytree=0.8,          # Fraction of features used for fitting each tree\n",
    "    random_state=42                # For reproducibility\n",
    ")"
   ]
  },
  {
   "cell_type": "code",
   "execution_count": 8,
   "id": "aceb83ff",
   "metadata": {},
   "outputs": [
    {
     "data": {
      "text/html": [
       "<style>#sk-container-id-1 {color: black;}#sk-container-id-1 pre{padding: 0;}#sk-container-id-1 div.sk-toggleable {background-color: white;}#sk-container-id-1 label.sk-toggleable__label {cursor: pointer;display: block;width: 100%;margin-bottom: 0;padding: 0.3em;box-sizing: border-box;text-align: center;}#sk-container-id-1 label.sk-toggleable__label-arrow:before {content: \"▸\";float: left;margin-right: 0.25em;color: #696969;}#sk-container-id-1 label.sk-toggleable__label-arrow:hover:before {color: black;}#sk-container-id-1 div.sk-estimator:hover label.sk-toggleable__label-arrow:before {color: black;}#sk-container-id-1 div.sk-toggleable__content {max-height: 0;max-width: 0;overflow: hidden;text-align: left;background-color: #f0f8ff;}#sk-container-id-1 div.sk-toggleable__content pre {margin: 0.2em;color: black;border-radius: 0.25em;background-color: #f0f8ff;}#sk-container-id-1 input.sk-toggleable__control:checked~div.sk-toggleable__content {max-height: 200px;max-width: 100%;overflow: auto;}#sk-container-id-1 input.sk-toggleable__control:checked~label.sk-toggleable__label-arrow:before {content: \"▾\";}#sk-container-id-1 div.sk-estimator input.sk-toggleable__control:checked~label.sk-toggleable__label {background-color: #d4ebff;}#sk-container-id-1 div.sk-label input.sk-toggleable__control:checked~label.sk-toggleable__label {background-color: #d4ebff;}#sk-container-id-1 input.sk-hidden--visually {border: 0;clip: rect(1px 1px 1px 1px);clip: rect(1px, 1px, 1px, 1px);height: 1px;margin: -1px;overflow: hidden;padding: 0;position: absolute;width: 1px;}#sk-container-id-1 div.sk-estimator {font-family: monospace;background-color: #f0f8ff;border: 1px dotted black;border-radius: 0.25em;box-sizing: border-box;margin-bottom: 0.5em;}#sk-container-id-1 div.sk-estimator:hover {background-color: #d4ebff;}#sk-container-id-1 div.sk-parallel-item::after {content: \"\";width: 100%;border-bottom: 1px solid gray;flex-grow: 1;}#sk-container-id-1 div.sk-label:hover label.sk-toggleable__label {background-color: #d4ebff;}#sk-container-id-1 div.sk-serial::before {content: \"\";position: absolute;border-left: 1px solid gray;box-sizing: border-box;top: 0;bottom: 0;left: 50%;z-index: 0;}#sk-container-id-1 div.sk-serial {display: flex;flex-direction: column;align-items: center;background-color: white;padding-right: 0.2em;padding-left: 0.2em;position: relative;}#sk-container-id-1 div.sk-item {position: relative;z-index: 1;}#sk-container-id-1 div.sk-parallel {display: flex;align-items: stretch;justify-content: center;background-color: white;position: relative;}#sk-container-id-1 div.sk-item::before, #sk-container-id-1 div.sk-parallel-item::before {content: \"\";position: absolute;border-left: 1px solid gray;box-sizing: border-box;top: 0;bottom: 0;left: 50%;z-index: -1;}#sk-container-id-1 div.sk-parallel-item {display: flex;flex-direction: column;z-index: 1;position: relative;background-color: white;}#sk-container-id-1 div.sk-parallel-item:first-child::after {align-self: flex-end;width: 50%;}#sk-container-id-1 div.sk-parallel-item:last-child::after {align-self: flex-start;width: 50%;}#sk-container-id-1 div.sk-parallel-item:only-child::after {width: 0;}#sk-container-id-1 div.sk-dashed-wrapped {border: 1px dashed gray;margin: 0 0.4em 0.5em 0.4em;box-sizing: border-box;padding-bottom: 0.4em;background-color: white;}#sk-container-id-1 div.sk-label label {font-family: monospace;font-weight: bold;display: inline-block;line-height: 1.2em;}#sk-container-id-1 div.sk-label-container {text-align: center;}#sk-container-id-1 div.sk-container {/* jupyter's `normalize.less` sets `[hidden] { display: none; }` but bootstrap.min.css set `[hidden] { display: none !important; }` so we also need the `!important` here to be able to override the default hidden behavior on the sphinx rendered scikit-learn.org. See: https://github.com/scikit-learn/scikit-learn/issues/21755 */display: inline-block !important;position: relative;}#sk-container-id-1 div.sk-text-repr-fallback {display: none;}</style><div id=\"sk-container-id-1\" class=\"sk-top-container\"><div class=\"sk-text-repr-fallback\"><pre>XGBRegressor(base_score=None, booster=None, callbacks=None,\n",
       "             colsample_bylevel=None, colsample_bynode=None,\n",
       "             colsample_bytree=0.8, early_stopping_rounds=None,\n",
       "             enable_categorical=False, eval_metric=None, feature_types=None,\n",
       "             gamma=None, gpu_id=None, grow_policy=None, importance_type=None,\n",
       "             interaction_constraints=None, learning_rate=1, max_bin=None,\n",
       "             max_cat_threshold=None, max_cat_to_onehot=None,\n",
       "             max_delta_step=None, max_depth=15, max_leaves=None,\n",
       "             min_child_weight=None, missing=nan, monotone_constraints=None,\n",
       "             n_estimators=100, n_jobs=None, num_parallel_tree=None,\n",
       "             predictor=None, random_state=42, ...)</pre><b>In a Jupyter environment, please rerun this cell to show the HTML representation or trust the notebook. <br />On GitHub, the HTML representation is unable to render, please try loading this page with nbviewer.org.</b></div><div class=\"sk-container\" hidden><div class=\"sk-item\"><div class=\"sk-estimator sk-toggleable\"><input class=\"sk-toggleable__control sk-hidden--visually\" id=\"sk-estimator-id-1\" type=\"checkbox\" checked><label for=\"sk-estimator-id-1\" class=\"sk-toggleable__label sk-toggleable__label-arrow\">XGBRegressor</label><div class=\"sk-toggleable__content\"><pre>XGBRegressor(base_score=None, booster=None, callbacks=None,\n",
       "             colsample_bylevel=None, colsample_bynode=None,\n",
       "             colsample_bytree=0.8, early_stopping_rounds=None,\n",
       "             enable_categorical=False, eval_metric=None, feature_types=None,\n",
       "             gamma=None, gpu_id=None, grow_policy=None, importance_type=None,\n",
       "             interaction_constraints=None, learning_rate=1, max_bin=None,\n",
       "             max_cat_threshold=None, max_cat_to_onehot=None,\n",
       "             max_delta_step=None, max_depth=15, max_leaves=None,\n",
       "             min_child_weight=None, missing=nan, monotone_constraints=None,\n",
       "             n_estimators=100, n_jobs=None, num_parallel_tree=None,\n",
       "             predictor=None, random_state=42, ...)</pre></div></div></div></div></div>"
      ],
      "text/plain": [
       "XGBRegressor(base_score=None, booster=None, callbacks=None,\n",
       "             colsample_bylevel=None, colsample_bynode=None,\n",
       "             colsample_bytree=0.8, early_stopping_rounds=None,\n",
       "             enable_categorical=False, eval_metric=None, feature_types=None,\n",
       "             gamma=None, gpu_id=None, grow_policy=None, importance_type=None,\n",
       "             interaction_constraints=None, learning_rate=1, max_bin=None,\n",
       "             max_cat_threshold=None, max_cat_to_onehot=None,\n",
       "             max_delta_step=None, max_depth=15, max_leaves=None,\n",
       "             min_child_weight=None, missing=nan, monotone_constraints=None,\n",
       "             n_estimators=100, n_jobs=None, num_parallel_tree=None,\n",
       "             predictor=None, random_state=42, ...)"
      ]
     },
     "execution_count": 8,
     "metadata": {},
     "output_type": "execute_result"
    }
   ],
   "source": [
    "# Step 3: Fit the model to the training data\n",
    "model.fit(X_train, y_train)"
   ]
  },
  {
   "cell_type": "code",
   "execution_count": 9,
   "id": "78770e8b",
   "metadata": {},
   "outputs": [],
   "source": [
    "# Step 4: Make predictions on the test data\n",
    "y_pred = model.predict(X_test)"
   ]
  },
  {
   "cell_type": "code",
   "execution_count": 10,
   "id": "51f23e3f",
   "metadata": {},
   "outputs": [
    {
     "name": "stdout",
     "output_type": "stream",
     "text": [
      "Mean Squared Error: 1.2401710078839474\n",
      "R-squared: 0.9956127095837013\n"
     ]
    }
   ],
   "source": [
    "#Step 5: Evaluate the model\n",
    "mse = mean_squared_error(y_test, y_pred)\n",
    "r2 = r2_score(y_test, y_pred)\n",
    "\n",
    "print(\"Mean Squared Error:\", mse)\n",
    "print(\"R-squared:\", r2)"
   ]
  },
  {
   "cell_type": "code",
   "execution_count": 11,
   "id": "4cc27562",
   "metadata": {},
   "outputs": [],
   "source": [
    "import joblib"
   ]
  },
  {
   "cell_type": "code",
   "execution_count": 12,
   "id": "b7bbcac4",
   "metadata": {},
   "outputs": [
    {
     "data": {
      "text/plain": [
       "['coolant_pred.joblib']"
      ]
     },
     "execution_count": 12,
     "metadata": {},
     "output_type": "execute_result"
    }
   ],
   "source": [
    "filename = 'coolant_pred.joblib'\n",
    "joblib.dump(model, filename)"
   ]
  },
  {
   "cell_type": "code",
   "execution_count": null,
   "id": "08be7acb",
   "metadata": {},
   "outputs": [],
   "source": []
  }
 ],
 "metadata": {
  "kernelspec": {
   "display_name": "Python 3 (ipykernel)",
   "language": "python",
   "name": "python3"
  },
  "language_info": {
   "codemirror_mode": {
    "name": "ipython",
    "version": 3
   },
   "file_extension": ".py",
   "mimetype": "text/x-python",
   "name": "python",
   "nbconvert_exporter": "python",
   "pygments_lexer": "ipython3",
   "version": "3.11.4"
  }
 },
 "nbformat": 4,
 "nbformat_minor": 5
}
